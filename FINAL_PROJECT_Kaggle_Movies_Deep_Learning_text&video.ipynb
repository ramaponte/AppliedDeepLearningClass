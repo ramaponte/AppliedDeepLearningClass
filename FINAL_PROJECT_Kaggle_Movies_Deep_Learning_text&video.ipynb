{
  "nbformat": 4,
  "nbformat_minor": 0,
  "metadata": {
    "colab": {
      "name": "FINAL-PROJECT_Kaggle_Movies_Deep_Learning_text&video.ipynb",
      "version": "0.3.2",
      "views": {},
      "default_view": {},
      "provenance": [
        {
          "file_id": "1C_RnlBCWGkrJGsI7Vn3kcveoyypFDbJU",
          "timestamp": 1532212358419
        }
      ],
      "collapsed_sections": []
    },
    "kernelspec": {
      "name": "python3",
      "display_name": "Python 3"
    },
    "accelerator": "GPU"
  },
  "cells": [
    {
      "metadata": {
        "id": "bxWLgmXZoMbt",
        "colab_type": "text"
      },
      "cell_type": "markdown",
      "source": [
        "# Applied Deep Learning Final Project\n",
        "## Movie Genre Classification\n",
        "-------------------------------\n",
        "**Integrante 1**: Ricardo Medina Aponte...........................................................  **Código**: 200520707\n",
        "\n",
        "**Integrante 2**: Andrea Carolina Parra López...................................................**Código**: 201727740\n"
      ]
    },
    {
      "metadata": {
        "id": "afPA2dAWNXHC",
        "colab_type": "text"
      },
      "cell_type": "markdown",
      "source": [
        "\n",
        "#Model with a Machine Learning algorithm.\n",
        "## ## Load and Process Data.\n",
        "With the next code, we can access to the google Drive account. "
      ]
    },
    {
      "metadata": {
        "id": "ptXr1J2FjCkw",
        "colab_type": "code",
        "colab": {
          "autoexec": {
            "startup": false,
            "wait_interval": 0
          },
          "base_uri": "https://localhost:8080/",
          "height": 51
        },
        "outputId": "af75c58d-44fc-41a8-f8e1-d041e4b714ce",
        "executionInfo": {
          "status": "ok",
          "timestamp": 1532345240904,
          "user_tz": 300,
          "elapsed": 9933,
          "user": {
            "displayName": "andrea carolina parra lópez",
            "photoUrl": "//lh4.googleusercontent.com/-Kx8LhhSjJzM/AAAAAAAAAAI/AAAAAAAAANk/Y6doG3Y6XsI/s50-c-k-no/photo.jpg",
            "userId": "110040482315544751285"
          }
        }
      },
      "cell_type": "code",
      "source": [
        "# Install the PyDrive wrapper & import libraries.\n",
        "# This only needs to be done once per notebook.\n",
        "!pip install -U -q PyDrive\n",
        "from pydrive.auth import GoogleAuth\n",
        "from pydrive.drive import GoogleDrive\n",
        "from google.colab import auth\n",
        "from oauth2client.client import GoogleCredentials\n",
        "\n",
        "# Authenticate and create the PyDrive client.\n",
        "# This only needs to be done once per notebook.\n",
        "auth.authenticate_user()\n",
        "gauth = GoogleAuth()\n",
        "gauth.credentials = GoogleCredentials.get_application_default()\n",
        "drive = GoogleDrive(gauth)"
      ],
      "execution_count": 0,
      "outputs": [
        {
          "output_type": "stream",
          "text": [
            "\u001b[33mYou are using pip version 10.0.1, however version 18.0 is available.\r\n",
            "You should consider upgrading via the 'pip install --upgrade pip' command.\u001b[0m\r\n"
          ],
          "name": "stdout"
        }
      ]
    },
    {
      "metadata": {
        "id": "8Ryk23-7D7mV",
        "colab_type": "text"
      },
      "cell_type": "markdown",
      "source": [
        "### Read data with api Kaggle.\n",
        "We download the kaggle credentials to Colab and start using Kaggle API to read data."
      ]
    },
    {
      "metadata": {
        "id": "_0I6MzXhjmRy",
        "colab_type": "code",
        "colab": {
          "autoexec": {
            "startup": false,
            "wait_interval": 0
          },
          "base_uri": "https://localhost:8080/",
          "height": 34
        },
        "outputId": "df639cbd-f7ee-4f6b-e6d2-6fa830ef2f96",
        "executionInfo": {
          "status": "ok",
          "timestamp": 1532345245737,
          "user_tz": 300,
          "elapsed": 4785,
          "user": {
            "displayName": "andrea carolina parra lópez",
            "photoUrl": "//lh4.googleusercontent.com/-Kx8LhhSjJzM/AAAAAAAAAAI/AAAAAAAAANk/Y6doG3Y6XsI/s50-c-k-no/photo.jpg",
            "userId": "110040482315544751285"
          }
        }
      },
      "cell_type": "code",
      "source": [
        "from googleapiclient.discovery import build\n",
        "import io, os\n",
        "from googleapiclient.http import MediaIoBaseDownload\n",
        "from google.colab import auth\n",
        "\n",
        "auth.authenticate_user()\n",
        "\n",
        "drive_service = build('drive', 'v3')\n",
        "results = drive_service.files().list(\n",
        "        q=\"name = 'kaggle.json'\", fields=\"files(id)\").execute()\n",
        "kaggle_api_key = results.get('files', [])\n",
        "\n",
        "filename = \"/content/.kaggle/kaggle.json\"\n",
        "os.makedirs(os.path.dirname(filename), exist_ok=True)\n",
        "\n",
        "request = drive_service.files().get_media(fileId=kaggle_api_key[0]['id'])\n",
        "fh = io.FileIO(filename, 'wb')\n",
        "downloader = MediaIoBaseDownload(fh, request)\n",
        "done = False\n",
        "while done is False:\n",
        "    status, done = downloader.next_chunk()\n",
        "    print(\"Download %d%%.\" % int(status.progress() * 100))\n",
        "os.chmod(filename, 600)"
      ],
      "execution_count": 0,
      "outputs": [
        {
          "output_type": "stream",
          "text": [
            "Download 100%.\n"
          ],
          "name": "stdout"
        }
      ]
    },
    {
      "metadata": {
        "id": "5HSNKv3Ljx4I",
        "colab_type": "code",
        "colab": {
          "autoexec": {
            "startup": false,
            "wait_interval": 0
          },
          "base_uri": "https://localhost:8080/",
          "height": 394
        },
        "collapsed": true,
        "outputId": "4c68ec62-8d6d-4874-9f34-f6203ceb3fb6",
        "executionInfo": {
          "status": "ok",
          "timestamp": 1532345250080,
          "user_tz": 300,
          "elapsed": 4305,
          "user": {
            "displayName": "andrea carolina parra lópez",
            "photoUrl": "//lh4.googleusercontent.com/-Kx8LhhSjJzM/AAAAAAAAAAI/AAAAAAAAANk/Y6doG3Y6XsI/s50-c-k-no/photo.jpg",
            "userId": "110040482315544751285"
          }
        }
      },
      "cell_type": "code",
      "source": [
        "!pip install kaggle"
      ],
      "execution_count": 0,
      "outputs": [
        {
          "output_type": "stream",
          "text": [
            "Collecting kaggle\n",
            "\u001b[?25l  Downloading https://files.pythonhosted.org/packages/93/11/f7bc11a9527c52a31695816e7f38d421d8da0d096beff3fa2638dfbd4d95/kaggle-1.4.2.tar.gz (43kB)\n",
            "\u001b[K    100% |████████████████████████████████| 51kB 2.0MB/s \n",
            "\u001b[?25hRequirement already satisfied: urllib3<1.23.0,>=1.15 in /usr/local/lib/python3.6/dist-packages (from kaggle) (1.22)\n",
            "Requirement already satisfied: six>=1.10 in /usr/local/lib/python3.6/dist-packages (from kaggle) (1.11.0)\n",
            "Requirement already satisfied: certifi in /usr/local/lib/python3.6/dist-packages (from kaggle) (2018.4.16)\n",
            "Requirement already satisfied: python-dateutil in /usr/local/lib/python3.6/dist-packages (from kaggle) (2.5.3)\n",
            "Requirement already satisfied: requests in /usr/local/lib/python3.6/dist-packages (from kaggle) (2.18.4)\n",
            "Collecting tqdm (from kaggle)\n",
            "\u001b[?25l  Downloading https://files.pythonhosted.org/packages/93/24/6ab1df969db228aed36a648a8959d1027099ce45fad67532b9673d533318/tqdm-4.23.4-py2.py3-none-any.whl (42kB)\n",
            "\u001b[K    100% |████████████████████████████████| 51kB 7.1MB/s \n",
            "\u001b[?25hRequirement already satisfied: chardet<3.1.0,>=3.0.2 in /usr/local/lib/python3.6/dist-packages (from requests->kaggle) (3.0.4)\n",
            "Requirement already satisfied: idna<2.7,>=2.5 in /usr/local/lib/python3.6/dist-packages (from requests->kaggle) (2.6)\n",
            "Building wheels for collected packages: kaggle\n",
            "  Running setup.py bdist_wheel for kaggle ... \u001b[?25l-\b \b\\\b \bdone\n",
            "\u001b[?25h  Stored in directory: /content/.cache/pip/wheels/3b/8e/14/adcbb71d126f5fb939fec8aa81394450922c20eee876bf8882\n",
            "Successfully built kaggle\n",
            "Installing collected packages: tqdm, kaggle\n",
            "Successfully installed kaggle-1.4.2 tqdm-4.23.4\n",
            "\u001b[33mYou are using pip version 10.0.1, however version 18.0 is available.\n",
            "You should consider upgrading via the 'pip install --upgrade pip' command.\u001b[0m\n"
          ],
          "name": "stdout"
        }
      ]
    },
    {
      "metadata": {
        "id": "V5cHaZjajiFl",
        "colab_type": "code",
        "colab": {
          "autoexec": {
            "startup": false,
            "wait_interval": 0
          },
          "base_uri": "https://localhost:8080/",
          "height": 391
        },
        "collapsed": true,
        "outputId": "5807b46d-1b6c-4934-a544-a9f32b5d769d",
        "executionInfo": {
          "status": "ok",
          "timestamp": 1532345403072,
          "user_tz": 300,
          "elapsed": 152855,
          "user": {
            "displayName": "andrea carolina parra lópez",
            "photoUrl": "//lh4.googleusercontent.com/-Kx8LhhSjJzM/AAAAAAAAAAI/AAAAAAAAANk/Y6doG3Y6XsI/s50-c-k-no/photo.jpg",
            "userId": "110040482315544751285"
          }
        }
      },
      "cell_type": "code",
      "source": [
        "!kaggle competitions list"
      ],
      "execution_count": 0,
      "outputs": [
        {
          "output_type": "stream",
          "text": [
            "ref                                              deadline             category            reward  teamCount  userHasEntered  \r\n",
            "-----------------------------------------------  -------------------  ---------------  ---------  ---------  --------------  \r\n",
            "house-prices-advanced-regression-techniques      2030-01-01 00:00:00  Getting Started  Knowledge       4811           False  \r\n",
            "digit-recognizer                                 2030-01-01 00:00:00  Getting Started  Knowledge       2636           False  \r\n",
            "titanic                                          2030-01-01 00:00:00  Getting Started  Knowledge      10604           False  \r\n",
            "imagenet-object-localization-challenge           2029-12-31 07:00:00  Research         Knowledge         20           False  \r\n",
            "competitive-data-science-predict-future-sales    2019-01-01 23:59:00  Playground           Kudos       1012           False  \r\n",
            "tgs-salt-identification-challenge                2018-10-19 23:59:00  Featured          $100,000        277           False  \r\n",
            "flavours-of-physics-kernels-only                 2018-09-24 23:59:00  Playground       Knowledge         24           False  \r\n",
            "forest-cover-type-kernels-only                   2018-09-24 23:59:00  Playground       Knowledge        132           False  \r\n",
            "whats-cooking-kernels-only                       2018-09-24 23:59:00  Playground       Knowledge        153           False  \r\n",
            "movie-review-sentiment-analysis-kernels-only     2018-09-24 23:59:00  Playground       Knowledge        110           False  \r\n",
            "demand-forecasting-kernels-only                  2018-09-24 23:59:00  Playground       Knowledge        108           False  \r\n",
            "costa-rican-household-poverty-prediction         2018-09-19 23:59:00  Playground            Swag        125           False  \r\n",
            "google-ai-open-images-object-detection-track     2018-08-30 23:59:00  Featured           $30,000        284           False  \r\n",
            "google-ai-open-images-visual-relationship-track  2018-08-30 23:59:00  Featured           $20,000         72           False  \r\n",
            "home-credit-default-risk                         2018-08-29 23:59:00  Featured           $70,000       5102           False  \r\n",
            "santander-value-prediction-challenge             2018-08-20 23:59:00  Featured           $60,000       3593           False  \r\n",
            "trackml-particle-identification                  2018-08-13 23:59:00  Featured           $25,000        556           False  \r\n",
            "youtube8m-2018                                   2018-08-06 23:59:00  Featured           $25,000        360           False  \r\n",
            "freesound-audio-tagging                          2018-07-31 23:59:00  Research         Knowledge        539           False  \r\n",
            "whale-categorization-playground                  2018-07-09 23:59:00  Playground           Kudos        528           False  \r\n"
          ],
          "name": "stdout"
        }
      ]
    },
    {
      "metadata": {
        "id": "grG81mBpQ-CL",
        "colab_type": "text"
      },
      "cell_type": "markdown",
      "source": [
        "The following codes allow to download the different data included in the competition. There are four files, two in CSV and two in Zip format.\n"
      ]
    },
    {
      "metadata": {
        "id": "PxRIzCWKkKPR",
        "colab_type": "code",
        "colab": {
          "autoexec": {
            "startup": false,
            "wait_interval": 0
          },
          "base_uri": "https://localhost:8080/",
          "height": 68
        },
        "outputId": "2aaab3e3-7e92-4fd6-9ef8-e0eba9e33139",
        "executionInfo": {
          "status": "ok",
          "timestamp": 1532345406805,
          "user_tz": 300,
          "elapsed": 3550,
          "user": {
            "displayName": "andrea carolina parra lópez",
            "photoUrl": "//lh4.googleusercontent.com/-Kx8LhhSjJzM/AAAAAAAAAAI/AAAAAAAAANk/Y6doG3Y6XsI/s50-c-k-no/photo.jpg",
            "userId": "110040482315544751285"
          }
        }
      },
      "cell_type": "code",
      "source": [
        "!kaggle competitions download -c miia4406-movie-genre-classification -f images_resize_gray.zip -p DL/data"
      ],
      "execution_count": 0,
      "outputs": [
        {
          "output_type": "stream",
          "text": [
            "Downloading images_resize_gray.zip to DL/data\n",
            " 78%|██████████████████████████████▍        | 87.0M/112M [00:00<00:00, 93.7MB/s]\n",
            "100%|█████████████████████████████████████████| 112M/112M [00:00<00:00, 151MB/s]\n"
          ],
          "name": "stdout"
        }
      ]
    },
    {
      "metadata": {
        "id": "7EFQAOdLkMrk",
        "colab_type": "code",
        "colab": {
          "autoexec": {
            "startup": false,
            "wait_interval": 0
          },
          "base_uri": "https://localhost:8080/",
          "height": 119
        },
        "outputId": "ccf97416-be2d-499e-fc77-83edd26a3491",
        "executionInfo": {
          "status": "ok",
          "timestamp": 1532345413645,
          "user_tz": 300,
          "elapsed": 6691,
          "user": {
            "displayName": "andrea carolina parra lópez",
            "photoUrl": "//lh4.googleusercontent.com/-Kx8LhhSjJzM/AAAAAAAAAAI/AAAAAAAAANk/Y6doG3Y6XsI/s50-c-k-no/photo.jpg",
            "userId": "110040482315544751285"
          }
        }
      },
      "cell_type": "code",
      "source": [
        "!kaggle competitions download -c miia4406-movie-genre-classification -f dataTesting.csv -p DL/data\n",
        "!kaggle competitions download -c miia4406-movie-genre-classification -f dataTraining.csv -p DL/data"
      ],
      "execution_count": 0,
      "outputs": [
        {
          "output_type": "stream",
          "text": [
            "Downloading dataTesting.csv to DL/data\n",
            "  0%|                                               | 0.00/2.51M [00:00<?, ?B/s]\n",
            "100%|███████████████████████████████████████| 2.51M/2.51M [00:00<00:00, 119MB/s]\n",
            "Downloading dataTraining.csv to DL/data\n",
            "  0%|                                               | 0.00/6.13M [00:00<?, ?B/s]\n",
            "100%|██████████████████████████████████████| 6.13M/6.13M [00:00<00:00, 64.8MB/s]\n"
          ],
          "name": "stdout"
        }
      ]
    },
    {
      "metadata": {
        "id": "oJYd1PtzkWMG",
        "colab_type": "code",
        "colab": {
          "autoexec": {
            "startup": false,
            "wait_interval": 0
          },
          "base_uri": "https://localhost:8080/",
          "height": 34
        },
        "outputId": "0d75bc19-0fc6-4cef-cae5-7f2483f048cc",
        "executionInfo": {
          "status": "ok",
          "timestamp": 1532345415444,
          "user_tz": 300,
          "elapsed": 1696,
          "user": {
            "displayName": "andrea carolina parra lópez",
            "photoUrl": "//lh4.googleusercontent.com/-Kx8LhhSjJzM/AAAAAAAAAAI/AAAAAAAAANk/Y6doG3Y6XsI/s50-c-k-no/photo.jpg",
            "userId": "110040482315544751285"
          }
        }
      },
      "cell_type": "code",
      "source": [
        "!ls DL/data"
      ],
      "execution_count": 0,
      "outputs": [
        {
          "output_type": "stream",
          "text": [
            "dataTesting.csv  dataTraining.csv  images_resize_gray.zip\r\n"
          ],
          "name": "stdout"
        }
      ]
    },
    {
      "metadata": {
        "id": "d2zmbTHWkZmx",
        "colab_type": "code",
        "colab": {
          "autoexec": {
            "startup": false,
            "wait_interval": 0
          }
        }
      },
      "cell_type": "code",
      "source": [
        "!cd DL/data && unzip images_resize_gray.zip"
      ],
      "execution_count": 0,
      "outputs": []
    },
    {
      "metadata": {
        "id": "w2JnC7thR0RK",
        "colab_type": "text"
      },
      "cell_type": "markdown",
      "source": [
        "## Text classification with Random Forest\n",
        "\n",
        "In the text classification we have two kind of data in CSV format. These files contain the following variables of the films: genre, title, rating, description of the film, year and an ID to relate the movie with the file images. "
      ]
    },
    {
      "metadata": {
        "id": "54C_Ji96kd1b",
        "colab_type": "code",
        "colab": {
          "autoexec": {
            "startup": false,
            "wait_interval": 0
          }
        }
      },
      "cell_type": "code",
      "source": [
        "import pandas as pd\n",
        "import os\n",
        "import numpy as np\n",
        "from sklearn.feature_extraction.text import CountVectorizer\n",
        "from sklearn.preprocessing import MultiLabelBinarizer\n",
        "from sklearn.multiclass import OneVsRestClassifier\n",
        "from sklearn.ensemble import RandomForestRegressor, RandomForestClassifier\n",
        "from sklearn.metrics import r2_score, roc_auc_score\n",
        "from sklearn.model_selection import train_test_split"
      ],
      "execution_count": 0,
      "outputs": []
    },
    {
      "metadata": {
        "id": "f1P21teKkuWo",
        "colab_type": "code",
        "colab": {
          "autoexec": {
            "startup": false,
            "wait_interval": 0
          }
        }
      },
      "cell_type": "code",
      "source": [
        "path = 'DL'"
      ],
      "execution_count": 0,
      "outputs": []
    },
    {
      "metadata": {
        "id": "faa2xbtVFrwa",
        "colab_type": "text"
      },
      "cell_type": "markdown",
      "source": [
        "load the movies files"
      ]
    },
    {
      "metadata": {
        "id": "cOezoz4PkxQX",
        "colab_type": "code",
        "colab": {
          "autoexec": {
            "startup": false,
            "wait_interval": 0
          }
        }
      },
      "cell_type": "code",
      "source": [
        "dataTraining = pd.read_csv(os.path.join(path, 'data', 'dataTraining.csv'), encoding='UTF-8', index_col=0)\n",
        "dataTesting = pd.read_csv(os.path.join(path, 'data', 'dataTesting.csv'), encoding='UTF-8', index_col=0)"
      ],
      "execution_count": 0,
      "outputs": []
    },
    {
      "metadata": {
        "id": "Q5UAURt1kxz5",
        "colab_type": "code",
        "colab": {
          "autoexec": {
            "startup": false,
            "wait_interval": 0
          },
          "base_uri": "https://localhost:8080/",
          "height": 204
        },
        "outputId": "c0ef1893-56d3-4a1d-ae40-673cdac4d339",
        "executionInfo": {
          "status": "ok",
          "timestamp": 1532360565787,
          "user_tz": 300,
          "elapsed": 328,
          "user": {
            "displayName": "andrea carolina parra lópez",
            "photoUrl": "//lh4.googleusercontent.com/-Kx8LhhSjJzM/AAAAAAAAAAI/AAAAAAAAANk/Y6doG3Y6XsI/s50-c-k-no/photo.jpg",
            "userId": "110040482315544751285"
          }
        }
      },
      "cell_type": "code",
      "source": [
        "dataTraining.head()"
      ],
      "execution_count": 0,
      "outputs": [
        {
          "output_type": "execute_result",
          "data": {
            "text/html": [
              "<div>\n",
              "<style scoped>\n",
              "    .dataframe tbody tr th:only-of-type {\n",
              "        vertical-align: middle;\n",
              "    }\n",
              "\n",
              "    .dataframe tbody tr th {\n",
              "        vertical-align: top;\n",
              "    }\n",
              "\n",
              "    .dataframe thead th {\n",
              "        text-align: right;\n",
              "    }\n",
              "</style>\n",
              "<table border=\"1\" class=\"dataframe\">\n",
              "  <thead>\n",
              "    <tr style=\"text-align: right;\">\n",
              "      <th></th>\n",
              "      <th>year</th>\n",
              "      <th>title</th>\n",
              "      <th>plot</th>\n",
              "      <th>genres</th>\n",
              "      <th>rating</th>\n",
              "    </tr>\n",
              "  </thead>\n",
              "  <tbody>\n",
              "    <tr>\n",
              "      <th>3107</th>\n",
              "      <td>2003</td>\n",
              "      <td>Most</td>\n",
              "      <td>most is the story of a single father who takes...</td>\n",
              "      <td>['Short', 'Drama']</td>\n",
              "      <td>8.0</td>\n",
              "    </tr>\n",
              "    <tr>\n",
              "      <th>900</th>\n",
              "      <td>2008</td>\n",
              "      <td>How to Be a Serial Killer</td>\n",
              "      <td>a serial killer decides to teach the secrets o...</td>\n",
              "      <td>['Comedy', 'Crime', 'Horror']</td>\n",
              "      <td>5.6</td>\n",
              "    </tr>\n",
              "    <tr>\n",
              "      <th>6724</th>\n",
              "      <td>1941</td>\n",
              "      <td>A Woman's Face</td>\n",
              "      <td>in sweden ,  a female blackmailer with a disfi...</td>\n",
              "      <td>['Drama', 'Film-Noir', 'Thriller']</td>\n",
              "      <td>7.2</td>\n",
              "    </tr>\n",
              "    <tr>\n",
              "      <th>4704</th>\n",
              "      <td>1954</td>\n",
              "      <td>Executive Suite</td>\n",
              "      <td>in a friday afternoon in new york ,  the presi...</td>\n",
              "      <td>['Drama']</td>\n",
              "      <td>7.4</td>\n",
              "    </tr>\n",
              "    <tr>\n",
              "      <th>2582</th>\n",
              "      <td>1990</td>\n",
              "      <td>Narrow Margin</td>\n",
              "      <td>in los angeles ,  the editor of a publishing h...</td>\n",
              "      <td>['Action', 'Crime', 'Thriller']</td>\n",
              "      <td>6.6</td>\n",
              "    </tr>\n",
              "  </tbody>\n",
              "</table>\n",
              "</div>"
            ],
            "text/plain": [
              "      year                      title  \\\n",
              "3107  2003                       Most   \n",
              "900   2008  How to Be a Serial Killer   \n",
              "6724  1941             A Woman's Face   \n",
              "4704  1954            Executive Suite   \n",
              "2582  1990              Narrow Margin   \n",
              "\n",
              "                                                   plot  \\\n",
              "3107  most is the story of a single father who takes...   \n",
              "900   a serial killer decides to teach the secrets o...   \n",
              "6724  in sweden ,  a female blackmailer with a disfi...   \n",
              "4704  in a friday afternoon in new york ,  the presi...   \n",
              "2582  in los angeles ,  the editor of a publishing h...   \n",
              "\n",
              "                                  genres  rating  \n",
              "3107                  ['Short', 'Drama']     8.0  \n",
              "900        ['Comedy', 'Crime', 'Horror']     5.6  \n",
              "6724  ['Drama', 'Film-Noir', 'Thriller']     7.2  \n",
              "4704                           ['Drama']     7.4  \n",
              "2582     ['Action', 'Crime', 'Thriller']     6.6  "
            ]
          },
          "metadata": {
            "tags": []
          },
          "execution_count": 42
        }
      ]
    },
    {
      "metadata": {
        "id": "jT_8Pq6Ek0Vd",
        "colab_type": "code",
        "colab": {
          "autoexec": {
            "startup": false,
            "wait_interval": 0
          },
          "base_uri": "https://localhost:8080/",
          "height": 204
        },
        "outputId": "2ba6089a-d17f-4292-aaa9-10bbc6b6f3d8",
        "executionInfo": {
          "status": "ok",
          "timestamp": 1532360566269,
          "user_tz": 300,
          "elapsed": 333,
          "user": {
            "displayName": "andrea carolina parra lópez",
            "photoUrl": "//lh4.googleusercontent.com/-Kx8LhhSjJzM/AAAAAAAAAAI/AAAAAAAAANk/Y6doG3Y6XsI/s50-c-k-no/photo.jpg",
            "userId": "110040482315544751285"
          }
        }
      },
      "cell_type": "code",
      "source": [
        "dataTesting.head()"
      ],
      "execution_count": 0,
      "outputs": [
        {
          "output_type": "execute_result",
          "data": {
            "text/html": [
              "<div>\n",
              "<style scoped>\n",
              "    .dataframe tbody tr th:only-of-type {\n",
              "        vertical-align: middle;\n",
              "    }\n",
              "\n",
              "    .dataframe tbody tr th {\n",
              "        vertical-align: top;\n",
              "    }\n",
              "\n",
              "    .dataframe thead th {\n",
              "        text-align: right;\n",
              "    }\n",
              "</style>\n",
              "<table border=\"1\" class=\"dataframe\">\n",
              "  <thead>\n",
              "    <tr style=\"text-align: right;\">\n",
              "      <th></th>\n",
              "      <th>year</th>\n",
              "      <th>title</th>\n",
              "      <th>plot</th>\n",
              "    </tr>\n",
              "  </thead>\n",
              "  <tbody>\n",
              "    <tr>\n",
              "      <th>1</th>\n",
              "      <td>1999</td>\n",
              "      <td>Message in a Bottle</td>\n",
              "      <td>who meets by fate ,  shall be sealed by fate ....</td>\n",
              "    </tr>\n",
              "    <tr>\n",
              "      <th>4</th>\n",
              "      <td>1978</td>\n",
              "      <td>Midnight Express</td>\n",
              "      <td>the true story of billy hayes ,  an american c...</td>\n",
              "    </tr>\n",
              "    <tr>\n",
              "      <th>5</th>\n",
              "      <td>1996</td>\n",
              "      <td>Primal Fear</td>\n",
              "      <td>martin vail left the chicago da ' s office to ...</td>\n",
              "    </tr>\n",
              "    <tr>\n",
              "      <th>6</th>\n",
              "      <td>1950</td>\n",
              "      <td>Crisis</td>\n",
              "      <td>husband and wife americans dr .  eugene and mr...</td>\n",
              "    </tr>\n",
              "    <tr>\n",
              "      <th>7</th>\n",
              "      <td>1959</td>\n",
              "      <td>The Tingler</td>\n",
              "      <td>the coroner and scientist dr .  warren chapin ...</td>\n",
              "    </tr>\n",
              "  </tbody>\n",
              "</table>\n",
              "</div>"
            ],
            "text/plain": [
              "   year                title  \\\n",
              "1  1999  Message in a Bottle   \n",
              "4  1978     Midnight Express   \n",
              "5  1996          Primal Fear   \n",
              "6  1950               Crisis   \n",
              "7  1959          The Tingler   \n",
              "\n",
              "                                                plot  \n",
              "1  who meets by fate ,  shall be sealed by fate ....  \n",
              "4  the true story of billy hayes ,  an american c...  \n",
              "5  martin vail left the chicago da ' s office to ...  \n",
              "6  husband and wife americans dr .  eugene and mr...  \n",
              "7  the coroner and scientist dr .  warren chapin ...  "
            ]
          },
          "metadata": {
            "tags": []
          },
          "execution_count": 43
        }
      ]
    },
    {
      "metadata": {
        "id": "lvp0Oxf8V4p9",
        "colab_type": "text"
      },
      "cell_type": "markdown",
      "source": [
        "After analyzing the data, we find some variables with an unstructred text, for this reason we use Tokenization, to give structure to the information. \n",
        "\n",
        "Before selecting the characteristics presented below, several models were evaluated with different aspects.\n",
        "\n",
        "* **Max Features**: to select the appropriate number of words used with frequency in the text, the model was tested with 10.000, 20.000, 30.000, 40.000 and 50.000 words\n",
        "* **Lower cases** : We tested the model with *lowercases=False*\n",
        "* **N-grams**: in n-grams we tested with parameters 2, 3, and without n-grams\n",
        "* **Stopwords**: the model was tested including stopwords and excluding these kind of words.\n",
        "* **Stemming**: In the class about text analysis with SAS, we observed many words searched by its root, this exercise helped us to evaluate the inclusion of stemming in the model\n",
        "\n",
        "\n"
      ]
    },
    {
      "metadata": {
        "id": "5sGUeei-f67g",
        "colab_type": "text"
      },
      "cell_type": "markdown",
      "source": [
        "The features use for the final model were: n-grams=2, max_features=30.000, include stemming and the lowercase false.\n"
      ]
    },
    {
      "metadata": {
        "id": "ANLItOPjk2Qp",
        "colab_type": "code",
        "colab": {
          "autoexec": {
            "startup": false,
            "wait_interval": 0
          },
          "base_uri": "https://localhost:8080/",
          "height": 34
        },
        "outputId": "0aef00a1-c6f4-47a7-e2bf-e63bd648e947",
        "executionInfo": {
          "status": "ok",
          "timestamp": 1532360580126,
          "user_tz": 300,
          "elapsed": 13717,
          "user": {
            "displayName": "andrea carolina parra lópez",
            "photoUrl": "//lh4.googleusercontent.com/-Kx8LhhSjJzM/AAAAAAAAAAI/AAAAAAAAANk/Y6doG3Y6XsI/s50-c-k-no/photo.jpg",
            "userId": "110040482315544751285"
          }
        }
      },
      "cell_type": "code",
      "source": [
        "from nltk.stem.snowball import SnowballStemmer\n",
        "stemmer = SnowballStemmer('english')\n",
        "def split_into_lemmas(text):\n",
        "    text = text.lower()\n",
        "    words = text.split()\n",
        "    return [stemmer.stem(word) for word in words]\n",
        "vect = CountVectorizer(ngram_range=(1, 2),analyzer=split_into_lemmas, lowercase=False, max_features=30000)\n",
        "X_dtm = vect.fit_transform(dataTraining['plot'])\n",
        "X_dtm.shape"
      ],
      "execution_count": 0,
      "outputs": [
        {
          "output_type": "execute_result",
          "data": {
            "text/plain": [
              "(7895, 26934)"
            ]
          },
          "metadata": {
            "tags": []
          },
          "execution_count": 44
        }
      ]
    },
    {
      "metadata": {
        "id": "-YSMKbTwhNPH",
        "colab_type": "text"
      },
      "cell_type": "markdown",
      "source": [
        "Some words include in the data"
      ]
    },
    {
      "metadata": {
        "id": "LSoNv0Wklulz",
        "colab_type": "code",
        "colab": {
          "autoexec": {
            "startup": false,
            "wait_interval": 0
          },
          "base_uri": "https://localhost:8080/",
          "height": 54
        },
        "outputId": "4064a7ff-0948-4787-8479-120d00f497ca",
        "executionInfo": {
          "status": "ok",
          "timestamp": 1532360580572,
          "user_tz": 300,
          "elapsed": 400,
          "user": {
            "displayName": "andrea carolina parra lópez",
            "photoUrl": "//lh4.googleusercontent.com/-Kx8LhhSjJzM/AAAAAAAAAAI/AAAAAAAAANk/Y6doG3Y6XsI/s50-c-k-no/photo.jpg",
            "userId": "110040482315544751285"
          }
        }
      },
      "cell_type": "code",
      "source": [
        "print(vect.get_feature_names()[50:100])"
      ],
      "execution_count": 0,
      "outputs": [
        {
          "output_type": "stream",
          "text": [
            "['aberr', 'abet', 'abhor', 'abhorr', 'abid', 'abigail', 'abil', 'abilen', 'abin', 'abit', 'abkani', 'abl', 'ablixa', 'abm', 'abn', 'abner', 'abney', 'abnorm', 'aboard', 'abod', 'abolish', 'abolit', 'abolitionist', 'abomin', 'aborigin', 'abort', 'abound', 'about', 'abov', 'abra', 'abraham', 'abram', 'abramoff', 'abras', 'abrasax', 'abroad', 'abronsius', 'abrupt', 'abscond', 'absenc', 'absent', 'absente', 'absentia', 'abshir', 'absolut', 'absolv', 'absorb', 'absorpt', 'abstin', 'abstract']\n"
          ],
          "name": "stdout"
        }
      ]
    },
    {
      "metadata": {
        "id": "9E82o4qml2hc",
        "colab_type": "code",
        "colab": {
          "autoexec": {
            "startup": false,
            "wait_interval": 0
          }
        }
      },
      "cell_type": "code",
      "source": [
        "dataTraining['genres'] = dataTraining['genres'].map(lambda x: eval(x))\n",
        "\n",
        "le = MultiLabelBinarizer()\n",
        "y_genres = le.fit_transform(dataTraining['genres'])"
      ],
      "execution_count": 0,
      "outputs": []
    },
    {
      "metadata": {
        "id": "-c5ADlf-h84B",
        "colab_type": "text"
      },
      "cell_type": "markdown",
      "source": [
        "The training data base was divided in training and test in proportions of  0.7 and 0.3.\n",
        "The Random Forest model was tested with the n_estimators and max_deph.\n",
        "* **n_estimators**: The amount of trees determinded for the Random Forest model was 5000. However, it was tested previously with 4.000, 3.000, 2.000, 1.000 and 6.000 trees.\n",
        "* **max_deph**: For the depth of the trees the values ​​5, 10, 15, 20 were taken into account, finally 15 was the selected valued."
      ]
    },
    {
      "metadata": {
        "id": "s7Oy_xeWmkK5",
        "colab_type": "code",
        "colab": {
          "autoexec": {
            "startup": false,
            "wait_interval": 0
          }
        }
      },
      "cell_type": "code",
      "source": [
        "X_train, X_test, y_train_genres, y_test_genres = train_test_split(X_dtm, y_genres, test_size=0.30, random_state=42)"
      ],
      "execution_count": 0,
      "outputs": []
    },
    {
      "metadata": {
        "id": "r7wLeFeympMa",
        "colab_type": "code",
        "colab": {
          "autoexec": {
            "startup": false,
            "wait_interval": 0
          }
        }
      },
      "cell_type": "code",
      "source": [
        "clf = OneVsRestClassifier(RandomForestClassifier(n_jobs=-1, n_estimators=5000, max_depth=15, random_state=42))"
      ],
      "execution_count": 0,
      "outputs": []
    },
    {
      "metadata": {
        "id": "veLGCVbEmubl",
        "colab_type": "code",
        "colab": {
          "autoexec": {
            "startup": false,
            "wait_interval": 0
          },
          "base_uri": "https://localhost:8080/",
          "height": 136
        },
        "outputId": "a21a8e09-4abe-4057-e4f0-e28f5bec17f0",
        "executionInfo": {
          "status": "ok",
          "timestamp": 1532361868571,
          "user_tz": 300,
          "elapsed": 1274334,
          "user": {
            "displayName": "andrea carolina parra lópez",
            "photoUrl": "//lh4.googleusercontent.com/-Kx8LhhSjJzM/AAAAAAAAAAI/AAAAAAAAANk/Y6doG3Y6XsI/s50-c-k-no/photo.jpg",
            "userId": "110040482315544751285"
          }
        }
      },
      "cell_type": "code",
      "source": [
        "clf.fit(X_train, y_train_genres)"
      ],
      "execution_count": 0,
      "outputs": [
        {
          "output_type": "execute_result",
          "data": {
            "text/plain": [
              "OneVsRestClassifier(estimator=RandomForestClassifier(bootstrap=True, class_weight=None, criterion='gini',\n",
              "            max_depth=15, max_features='auto', max_leaf_nodes=None,\n",
              "            min_impurity_decrease=0.0, min_impurity_split=None,\n",
              "            min_samples_leaf=1, min_samples_split=2,\n",
              "            min_weight_fraction_leaf=0.0, n_estimators=5000, n_jobs=-1,\n",
              "            oob_score=False, random_state=42, verbose=0, warm_start=False),\n",
              "          n_jobs=1)"
            ]
          },
          "metadata": {
            "tags": []
          },
          "execution_count": 49
        }
      ]
    },
    {
      "metadata": {
        "id": "mdMGmGhOmu2Q",
        "colab_type": "code",
        "colab": {
          "autoexec": {
            "startup": false,
            "wait_interval": 0
          }
        }
      },
      "cell_type": "code",
      "source": [
        "y_pred_genres = clf.predict_proba(X_test)"
      ],
      "execution_count": 0,
      "outputs": []
    },
    {
      "metadata": {
        "id": "qYHCfclZdQuh",
        "colab_type": "text"
      },
      "cell_type": "markdown",
      "source": [
        "Some results of models tested\n",
        "<br>\n",
        "<table>\n",
        "<tr>\n",
        "<th>$Features$</th>\n",
        "<th>$AUC$</th>\n",
        "</tr>\n",
        "<tr>\n",
        "<td> max_features=20000</td>\n",
        "<td style=\"text-align:center\">0.78863</td>\n",
        "<td ></td>\n",
        "</tr>\n",
        "<tr>\n",
        "<td>max_features=30000</td>\n",
        "<td style=\"text-align:center\">0.80268</td>\n",
        "</tr>\n",
        "<tr>\n",
        "<td>max_features=30000 and n_estimators: 300</td>\n",
        "<td style=\"text-align:center\">0.81938</td>\n",
        "</tr>\n",
        "<tr>\n",
        "<td>max_features=30000, n_estimators: 300, max_depth=20</td>\n",
        "<td style=\"text-align:center\">0.81717</td>\n",
        "</tr>\n",
        " <tr>\n",
        "<td>max_features=30000, n_estimators: 400, max_depth=20</td>\n",
        "<td style=\"text-align:center\">0.81957</td>\n",
        "</tr>\n",
        " <tr>\n",
        "<td>max_features=40000, n_estimators: 500,stemmer, n-grams=2 max_depth=20</td>\n",
        "<td style=\"text-align:center\">0.83537</td>\n",
        "</tr>\n",
        "</table>\n",
        "\n"
      ]
    },
    {
      "metadata": {
        "id": "0IvF3OTHmzy9",
        "colab_type": "code",
        "colab": {
          "autoexec": {
            "startup": false,
            "wait_interval": 0
          },
          "base_uri": "https://localhost:8080/",
          "height": 34
        },
        "outputId": "2e58ad77-3bca-4942-8fbe-22b04ce19008",
        "executionInfo": {
          "status": "ok",
          "timestamp": 1532361969034,
          "user_tz": 300,
          "elapsed": 490,
          "user": {
            "displayName": "andrea carolina parra lópez",
            "photoUrl": "//lh4.googleusercontent.com/-Kx8LhhSjJzM/AAAAAAAAAAI/AAAAAAAAANk/Y6doG3Y6XsI/s50-c-k-no/photo.jpg",
            "userId": "110040482315544751285"
          }
        }
      },
      "cell_type": "code",
      "source": [
        "roc_auc_score(y_test_genres, y_pred_genres, average='macro')"
      ],
      "execution_count": 0,
      "outputs": [
        {
          "output_type": "execute_result",
          "data": {
            "text/plain": [
              "0.8409549939503472"
            ]
          },
          "metadata": {
            "tags": []
          },
          "execution_count": 51
        }
      ]
    },
    {
      "metadata": {
        "id": "yWeDaX7U3572",
        "colab_type": "text"
      },
      "cell_type": "markdown",
      "source": [
        "## Training with all data\n",
        "After validating the model with the \"test\", it was training with all the data base, and its results was submit in kaggle\n"
      ]
    },
    {
      "metadata": {
        "id": "urZpw6-Zm0Qb",
        "colab_type": "code",
        "colab": {
          "autoexec": {
            "startup": false,
            "wait_interval": 0
          }
        }
      },
      "cell_type": "code",
      "source": [
        "clf2 = OneVsRestClassifier(RandomForestClassifier(n_jobs=-1, n_estimators=5000, max_depth=15, random_state=42))\n",
        "clf2.fit(X_dtm, y_genres)\n",
        "X_test_dtm = vect.transform(dataTesting['plot'])\n",
        "\n",
        "cols = ['p_Action', 'p_Adventure', 'p_Animation', 'p_Biography', 'p_Comedy', 'p_Crime', 'p_Documentary', 'p_Drama', 'p_Family',\n",
        "        'p_Fantasy', 'p_Film-Noir', 'p_History', 'p_Horror', 'p_Music', 'p_Musical', 'p_Mystery', 'p_News', 'p_Romance',\n",
        "        'p_Sci-Fi', 'p_Short', 'p_Sport', 'p_Thriller', 'p_War', 'p_Western']\n",
        "\n",
        "y_pred_test_genres = clf.predict_proba(X_test_dtm)\n",
        "\n",
        "pd.DataFrame(y_pred_test_genres, index=dataTesting.index, columns=cols).to_csv('pred_genres_text_RF_5.csv', index_label='ID')"
      ],
      "execution_count": 0,
      "outputs": []
    },
    {
      "metadata": {
        "id": "84H-LkdWn0Hp",
        "colab_type": "code",
        "colab": {
          "autoexec": {
            "startup": false,
            "wait_interval": 0
          }
        }
      },
      "cell_type": "code",
      "source": [
        "from google.colab import files\n",
        "files.download('pred_genres_text_RF_5.csv')"
      ],
      "execution_count": 0,
      "outputs": []
    },
    {
      "metadata": {
        "id": "O2PQJeiEn-bL",
        "colab_type": "code",
        "colab": {
          "autoexec": {
            "startup": false,
            "wait_interval": 0
          },
          "base_uri": "https://localhost:8080/",
          "height": 34
        },
        "outputId": "17ed099d-51fa-4c84-e2d7-1c091972dd57",
        "executionInfo": {
          "status": "ok",
          "timestamp": 1532235077030,
          "user_tz": 300,
          "elapsed": 4112,
          "user": {
            "displayName": "andrea carolina parra lópez",
            "photoUrl": "//lh4.googleusercontent.com/-Kx8LhhSjJzM/AAAAAAAAAAI/AAAAAAAAANk/Y6doG3Y6XsI/s50-c-k-no/photo.jpg",
            "userId": "110040482315544751285"
          }
        }
      },
      "cell_type": "code",
      "source": [
        "!kaggle competitions submit -c miia4406-movie-genre-classification -f pred_genres_text_RF_5.csv -m \"text_3_md4\""
      ],
      "execution_count": 0,
      "outputs": [
        {
          "output_type": "stream",
          "text": [
            "Successfully submitted to MIIA4406 - MOVIE GENRE CLASSIFICATION"
          ],
          "name": "stdout"
        }
      ]
    },
    {
      "metadata": {
        "id": "kPN_ByrmFeT0",
        "colab_type": "text"
      },
      "cell_type": "markdown",
      "source": [
        "##Image classification with Random Forest\n",
        "\n",
        "For the first excercise we use the gray images to test a Random Forest model.\n",
        "\n"
      ]
    },
    {
      "metadata": {
        "id": "wMcFzu618iny",
        "colab_type": "code",
        "colab": {
          "autoexec": {
            "startup": false,
            "wait_interval": 0
          }
        }
      },
      "cell_type": "code",
      "source": [
        "import pandas as pd\n",
        "import os\n",
        "import numpy as np\n",
        "from sklearn.preprocessing import MultiLabelBinarizer\n",
        "from sklearn.multiclass import OneVsRestClassifier\n",
        "from sklearn.ensemble import RandomForestRegressor, RandomForestClassifier\n",
        "from sklearn.metrics import r2_score, roc_auc_score\n",
        "from sklearn.model_selection import train_test_split\n",
        "from sklearn.decomposition import PCA\n",
        "import matplotlib.pyplot as plt\n",
        "from skimage import io\n",
        "import os\n",
        "%matplotlib inline"
      ],
      "execution_count": 0,
      "outputs": []
    },
    {
      "metadata": {
        "id": "mQSaf-688in4",
        "colab_type": "text"
      },
      "cell_type": "markdown",
      "source": [
        "In the work directory we upload  the gray images to beging the project"
      ]
    },
    {
      "metadata": {
        "id": "bZShxtH0CPEy",
        "colab_type": "code",
        "colab": {
          "autoexec": {
            "startup": false,
            "wait_interval": 0
          },
          "base_uri": "https://localhost:8080/",
          "height": 34
        },
        "outputId": "272d1638-1425-4531-9741-3ebd96608211",
        "executionInfo": {
          "status": "ok",
          "timestamp": 1532362804174,
          "user_tz": 300,
          "elapsed": 1769,
          "user": {
            "displayName": "andrea carolina parra lópez",
            "photoUrl": "//lh4.googleusercontent.com/-Kx8LhhSjJzM/AAAAAAAAAAI/AAAAAAAAANk/Y6doG3Y6XsI/s50-c-k-no/photo.jpg",
            "userId": "110040482315544751285"
          }
        }
      },
      "cell_type": "code",
      "source": [
        "!ls DL/data"
      ],
      "execution_count": 0,
      "outputs": [
        {
          "output_type": "stream",
          "text": [
            "dataTesting.csv  dataTraining.csv  images_resize_gray  images_resize_gray.zip\r\n"
          ],
          "name": "stdout"
        }
      ]
    },
    {
      "metadata": {
        "id": "x0Vjh1yT0Sdw",
        "colab_type": "text"
      },
      "cell_type": "markdown",
      "source": [
        ""
      ]
    },
    {
      "metadata": {
        "id": "dCg1e7ux8in5",
        "colab_type": "code",
        "colab": {
          "autoexec": {
            "startup": false,
            "wait_interval": 0
          }
        }
      },
      "cell_type": "code",
      "source": [
        "path = 'DL/data'"
      ],
      "execution_count": 0,
      "outputs": []
    },
    {
      "metadata": {
        "id": "W5lIPB2D8in_",
        "colab_type": "code",
        "colab": {
          "autoexec": {
            "startup": false,
            "wait_interval": 0
          }
        }
      },
      "cell_type": "code",
      "source": [
        "dataTraining = pd.read_csv(os.path.join(path, 'dataTraining.csv'), encoding='UTF-8', index_col=0)\n",
        "dataTesting = pd.read_csv(os.path.join(path, 'dataTesting.csv'), encoding='UTF-8', index_col=0)"
      ],
      "execution_count": 0,
      "outputs": []
    },
    {
      "metadata": {
        "id": "202YPv6q8ioP",
        "colab_type": "text"
      },
      "cell_type": "markdown",
      "source": [
        "## Read Gray Images\n",
        "The next codes permit the  images visualization "
      ]
    },
    {
      "metadata": {
        "id": "RhTA8tlO8ioQ",
        "colab_type": "code",
        "colab": {
          "autoexec": {
            "startup": false,
            "wait_interval": 0
          }
        }
      },
      "cell_type": "code",
      "source": [
        "import skimage\n",
        "image1 = skimage.io.imread(os.path.join(path, 'images_resize_gray', str(dataTraining.index[0]) + '_resize_gray.jpeg'))\n",
        "image2 = skimage.io.imread(os.path.join(path, 'images_resize_gray', str(dataTraining.index[3]) + '_resize_gray.jpeg'))\n",
        "image3 = skimage.io.imread(os.path.join(path, 'images_resize_gray', str(dataTraining.index[100]) + '_resize_gray.jpeg'))"
      ],
      "execution_count": 0,
      "outputs": []
    },
    {
      "metadata": {
        "id": "-UjLfFBo3FC2",
        "colab_type": "code",
        "colab": {
          "autoexec": {
            "startup": false,
            "wait_interval": 0
          },
          "base_uri": "https://localhost:8080/",
          "height": 34
        },
        "outputId": "df8edc8b-2657-46ac-da7c-98687e7324ac",
        "executionInfo": {
          "status": "ok",
          "timestamp": 1532362806283,
          "user_tz": 300,
          "elapsed": 342,
          "user": {
            "displayName": "andrea carolina parra lópez",
            "photoUrl": "//lh4.googleusercontent.com/-Kx8LhhSjJzM/AAAAAAAAAAI/AAAAAAAAANk/Y6doG3Y6XsI/s50-c-k-no/photo.jpg",
            "userId": "110040482315544751285"
          }
        }
      },
      "cell_type": "code",
      "source": [
        "image1.shape, image2.shape, image3.shape"
      ],
      "execution_count": 0,
      "outputs": [
        {
          "output_type": "execute_result",
          "data": {
            "text/plain": [
              "((256, 160), (256, 160), (256, 160))"
            ]
          },
          "metadata": {
            "tags": []
          },
          "execution_count": 59
        }
      ]
    },
    {
      "metadata": {
        "id": "R5SSV1eW8ioa",
        "colab_type": "code",
        "colab": {
          "autoexec": {
            "startup": false,
            "wait_interval": 0
          },
          "base_uri": "https://localhost:8080/",
          "height": 286
        },
        "outputId": "43af9bf3-b9f0-4077-e658-9534c9d861ce",
        "executionInfo": {
          "status": "ok",
          "timestamp": 1532362807098,
          "user_tz": 300,
          "elapsed": 655,
          "user": {
            "displayName": "andrea carolina parra lópez",
            "photoUrl": "//lh4.googleusercontent.com/-Kx8LhhSjJzM/AAAAAAAAAAI/AAAAAAAAANk/Y6doG3Y6XsI/s50-c-k-no/photo.jpg",
            "userId": "110040482315544751285"
          }
        }
      },
      "cell_type": "code",
      "source": [
        "fig, ax = plt.subplots(nrows=1, ncols=1)\n",
        "ax.imshow(image1, cmap='gray')\n"
      ],
      "execution_count": 0,
      "outputs": [
        {
          "output_type": "execute_result",
          "data": {
            "text/plain": [
              "<matplotlib.image.AxesImage at 0x7f936dd28710>"
            ]
          },
          "metadata": {
            "tags": []
          },
          "execution_count": 60
        },
        {
          "output_type": "display_data",
          "data": {
            "image/png": "[encoded data removed]",
            "text/plain": [
              "<matplotlib.figure.Figure at 0x7f9367581080>"
            ]
          },
          "metadata": {
            "tags": []
          }
        }
      ]
    },
    {
      "metadata": {
        "id": "Fxfzv_t_4DgD",
        "colab_type": "code",
        "colab": {
          "autoexec": {
            "startup": false,
            "wait_interval": 0
          },
          "base_uri": "https://localhost:8080/",
          "height": 286
        },
        "outputId": "0ccf783c-97f1-43d5-8cfc-f04ec9822c18",
        "executionInfo": {
          "status": "ok",
          "timestamp": 1532362807979,
          "user_tz": 300,
          "elapsed": 712,
          "user": {
            "displayName": "andrea carolina parra lópez",
            "photoUrl": "//lh4.googleusercontent.com/-Kx8LhhSjJzM/AAAAAAAAAAI/AAAAAAAAANk/Y6doG3Y6XsI/s50-c-k-no/photo.jpg",
            "userId": "110040482315544751285"
          }
        }
      },
      "cell_type": "code",
      "source": [
        "fig, ax = plt.subplots(nrows=1, ncols=1)\n",
        "ax.imshow(image2, cmap='gray')\n"
      ],
      "execution_count": 0,
      "outputs": [
        {
          "output_type": "execute_result",
          "data": {
            "text/plain": [
              "<matplotlib.image.AxesImage at 0x7f936dc87240>"
            ]
          },
          "metadata": {
            "tags": []
          },
          "execution_count": 61
        },
        {
          "output_type": "display_data",
          "data": {
            "image/png": "[encoded data removed]",
            "text/plain": [
              "<matplotlib.figure.Figure at 0x7f936dd41908>"
            ]
          },
          "metadata": {
            "tags": []
          }
        }
      ]
    },
    {
      "metadata": {
        "id": "G26AKCrS4Dva",
        "colab_type": "code",
        "colab": {
          "autoexec": {
            "startup": false,
            "wait_interval": 0
          }
        }
      },
      "cell_type": "code",
      "source": [
        "fig, ax = plt.subplots(nrows=1, ncols=1)\n",
        "ax.imshow(image3, cmap='gray')"
      ],
      "execution_count": 0,
      "outputs": []
    },
    {
      "metadata": {
        "id": "xPPDH9E88iog",
        "colab_type": "text"
      },
      "cell_type": "markdown",
      "source": [
        "Now we read all images"
      ]
    },
    {
      "metadata": {
        "id": "sNyzMB0RlAcy",
        "colab_type": "code",
        "colab": {
          "autoexec": {
            "startup": false,
            "wait_interval": 0
          },
          "base_uri": "https://localhost:8080/",
          "height": 34
        },
        "outputId": "fdc20e49-642d-49c6-deb1-8a59371ad4a2",
        "executionInfo": {
          "status": "ok",
          "timestamp": 1532362814241,
          "user_tz": 300,
          "elapsed": 5561,
          "user": {
            "displayName": "andrea carolina parra lópez",
            "photoUrl": "//lh4.googleusercontent.com/-Kx8LhhSjJzM/AAAAAAAAAAI/AAAAAAAAANk/Y6doG3Y6XsI/s50-c-k-no/photo.jpg",
            "userId": "110040482315544751285"
          }
        }
      },
      "cell_type": "code",
      "source": [
        "from tqdm import tqdm\n",
        "images_training=[]\n",
        "for i in tqdm(dataTraining.index):\n",
        "    images_training.append(skimage.io.imread(os.path.join(path, 'images_resize_gray', str(i) + '_resize_gray.jpeg')).flatten())"
      ],
      "execution_count": 0,
      "outputs": [
        {
          "output_type": "stream",
          "text": [
            "100%|██████████| 7895/7895 [00:05<00:00, 1572.47it/s]\n"
          ],
          "name": "stderr"
        }
      ]
    },
    {
      "metadata": {
        "id": "Z2AzIzww8iot",
        "colab_type": "code",
        "colab": {
          "autoexec": {
            "startup": false,
            "wait_interval": 0
          },
          "base_uri": "https://localhost:8080/",
          "height": 34
        },
        "outputId": "16a1eba5-396e-4ee7-fa87-2e7f447b20ce",
        "executionInfo": {
          "status": "ok",
          "timestamp": 1532362815704,
          "user_tz": 300,
          "elapsed": 1441,
          "user": {
            "displayName": "andrea carolina parra lópez",
            "photoUrl": "//lh4.googleusercontent.com/-Kx8LhhSjJzM/AAAAAAAAAAI/AAAAAAAAANk/Y6doG3Y6XsI/s50-c-k-no/photo.jpg",
            "userId": "110040482315544751285"
          }
        }
      },
      "cell_type": "code",
      "source": [
        "images_training = np.stack(images_training)\n",
        "\n",
        "images_training.shape, dataTraining.shape[0]"
      ],
      "execution_count": 0,
      "outputs": [
        {
          "output_type": "execute_result",
          "data": {
            "text/plain": [
              "((7895, 40960), 7895)"
            ]
          },
          "metadata": {
            "tags": []
          },
          "execution_count": 64
        }
      ]
    },
    {
      "metadata": {
        "id": "tJXbzVz18ioz",
        "colab_type": "code",
        "colab": {
          "autoexec": {
            "startup": false,
            "wait_interval": 0
          },
          "base_uri": "https://localhost:8080/",
          "height": 51
        },
        "outputId": "a10b7724-06df-48d3-ca17-9f0caf602293",
        "executionInfo": {
          "status": "ok",
          "timestamp": 1532362818444,
          "user_tz": 300,
          "elapsed": 2705,
          "user": {
            "displayName": "andrea carolina parra lópez",
            "photoUrl": "//lh4.googleusercontent.com/-Kx8LhhSjJzM/AAAAAAAAAAI/AAAAAAAAANk/Y6doG3Y6XsI/s50-c-k-no/photo.jpg",
            "userId": "110040482315544751285"
          }
        }
      },
      "cell_type": "code",
      "source": [
        "images_testing = []\n",
        "for i in tqdm(dataTesting.index):\n",
        "    images_testing.append(skimage.io.imread(os.path.join(path, 'images_resize_gray', str(i) + '_resize_gray.jpeg')).flatten())\n",
        "\n",
        "images_testing = np.stack(images_testing)\n",
        "\n",
        "images_testing.shape, dataTesting.shape[0]"
      ],
      "execution_count": 0,
      "outputs": [
        {
          "output_type": "stream",
          "text": [
            "100%|██████████| 3383/3383 [00:01<00:00, 1693.94it/s]\n"
          ],
          "name": "stderr"
        },
        {
          "output_type": "execute_result",
          "data": {
            "text/plain": [
              "((3383, 40960), 3383)"
            ]
          },
          "metadata": {
            "tags": []
          },
          "execution_count": 65
        }
      ]
    },
    {
      "metadata": {
        "id": "lGriXAS_8io2",
        "colab_type": "text"
      },
      "cell_type": "markdown",
      "source": [
        "## Apply PCA\n",
        "\n",
        "The images were transformed with principal components analysis PCA in the test and training data.\n",
        "We tested PCA with different components.\n",
        "<br>\n",
        "<table>\n",
        "<tr>\n",
        "<th>$components$</th>\n",
        "<th>$Variance explained$</th>\n",
        "</tr>\n",
        "<tr>\n",
        "<td> 10</td>\n",
        "<td style=\"text-align:center\">0.5488</td>\n",
        "<td ></td>\n",
        "</tr>\n",
        "<tr>\n",
        "<td>20</td>\n",
        "<td style=\"text-align:center\">0.6105</td>\n",
        "</tr>\n",
        "<tr>\n",
        "<td>25</td>\n",
        "<td style=\"text-align:center\">0.6301</td>\n",
        "</tr>\n",
        "<tr>\n",
        "<td>100</td>\n",
        "<td style=\"text-align:center\">0.7416</td>\n",
        "</tr>\n",
        " <tr>\n",
        "<td>200</td>\n",
        "<td style=\"text-align:center\">0.7897</td>\n",
        "</tr>\n",
        " <tr>\n",
        "<td>300</td>\n",
        "<td style=\"text-align:center\">0.8169</td>\n",
        "</tr>\n",
        "</table>\n",
        "\n",
        "In this case we tuned up the PCA using an explained variance of 63%, we took 25 variables."
      ]
    },
    {
      "metadata": {
        "id": "Kk1VICKZ8io3",
        "colab_type": "code",
        "colab": {
          "autoexec": {
            "startup": false,
            "wait_interval": 0
          }
        }
      },
      "cell_type": "code",
      "source": [
        "pca = PCA(n_components=25)\n",
        "images_training_pca = pca.fit_transform(images_training)\n"
      ],
      "execution_count": 0,
      "outputs": []
    },
    {
      "metadata": {
        "id": "0UEB3rXe7NNm",
        "colab_type": "code",
        "colab": {
          "autoexec": {
            "startup": false,
            "wait_interval": 0
          },
          "base_uri": "https://localhost:8080/",
          "height": 34
        },
        "outputId": "bff7fc70-b2ec-42ca-99e8-2e42c3126ef6",
        "executionInfo": {
          "status": "ok",
          "timestamp": 1532362860485,
          "user_tz": 300,
          "elapsed": 327,
          "user": {
            "displayName": "andrea carolina parra lópez",
            "photoUrl": "//lh4.googleusercontent.com/-Kx8LhhSjJzM/AAAAAAAAAAI/AAAAAAAAANk/Y6doG3Y6XsI/s50-c-k-no/photo.jpg",
            "userId": "110040482315544751285"
          }
        }
      },
      "cell_type": "code",
      "source": [
        "sum(pca.explained_variance_ratio_)"
      ],
      "execution_count": 0,
      "outputs": [
        {
          "output_type": "execute_result",
          "data": {
            "text/plain": [
              "0.6301178947868343"
            ]
          },
          "metadata": {
            "tags": []
          },
          "execution_count": 67
        }
      ]
    },
    {
      "metadata": {
        "id": "dPgvSoFv8io8",
        "colab_type": "code",
        "colab": {
          "autoexec": {
            "startup": false,
            "wait_interval": 0
          }
        }
      },
      "cell_type": "code",
      "source": [
        "images_testing_pca = pca.transform(images_testing)"
      ],
      "execution_count": 0,
      "outputs": []
    },
    {
      "metadata": {
        "id": "03RLqIkp8ipE",
        "colab_type": "text"
      },
      "cell_type": "markdown",
      "source": [
        "## Create Y\n",
        "The trainig data images were divided in training and test with  0.7, 0.3 proportions."
      ]
    },
    {
      "metadata": {
        "id": "C49AzS3q8ipF",
        "colab_type": "code",
        "colab": {
          "autoexec": {
            "startup": false,
            "wait_interval": 0
          }
        }
      },
      "cell_type": "code",
      "source": [
        "dataTraining['genres'] = dataTraining['genres'].map(lambda x: eval(x))\n",
        "le = MultiLabelBinarizer()\n",
        "y_genres = le.fit_transform(dataTraining['genres'])"
      ],
      "execution_count": 0,
      "outputs": []
    },
    {
      "metadata": {
        "id": "aUaWyTtr8ipK",
        "colab_type": "code",
        "colab": {
          "autoexec": {
            "startup": false,
            "wait_interval": 0
          }
        }
      },
      "cell_type": "code",
      "source": [
        "X_train, X_test, y_train_genres, y_test_genres = train_test_split(images_training_pca, y_genres, test_size=0.30, random_state=50)"
      ],
      "execution_count": 0,
      "outputs": []
    },
    {
      "metadata": {
        "id": "fits6ELC9W-z",
        "colab_type": "code",
        "colab": {
          "autoexec": {
            "startup": false,
            "wait_interval": 0
          },
          "base_uri": "https://localhost:8080/",
          "height": 136
        },
        "outputId": "2f4d7f4b-b3c1-4112-b24e-125feef05df6",
        "executionInfo": {
          "status": "ok",
          "timestamp": 1532362863609,
          "user_tz": 300,
          "elapsed": 503,
          "user": {
            "displayName": "andrea carolina parra lópez",
            "photoUrl": "//lh4.googleusercontent.com/-Kx8LhhSjJzM/AAAAAAAAAAI/AAAAAAAAANk/Y6doG3Y6XsI/s50-c-k-no/photo.jpg",
            "userId": "110040482315544751285"
          }
        }
      },
      "cell_type": "code",
      "source": [
        "y_genres \n"
      ],
      "execution_count": 0,
      "outputs": [
        {
          "output_type": "execute_result",
          "data": {
            "text/plain": [
              "array([[0, 0, 0, ..., 0, 0, 0],\n",
              "       [0, 0, 0, ..., 0, 0, 0],\n",
              "       [0, 0, 0, ..., 1, 0, 0],\n",
              "       ...,\n",
              "       [0, 1, 0, ..., 0, 0, 0],\n",
              "       [0, 1, 1, ..., 0, 0, 0],\n",
              "       [0, 1, 1, ..., 0, 0, 0]])"
            ]
          },
          "metadata": {
            "tags": []
          },
          "execution_count": 71
        }
      ]
    },
    {
      "metadata": {
        "id": "AnG7CUJ48ipR",
        "colab_type": "text"
      },
      "cell_type": "markdown",
      "source": [
        "## Training multi-class multi-label model\n",
        "* **n_estimators**: The amount of trees used for the Random Forest model were 5000. Previously was tested with 1500, 500, 100, 1.000 and 6.000 trees.\n",
        "* **max_deph**: For the depth of the trees the values ​​5, 10, 15, 20 were taken into account. After analyzing the resaults 15 was the selected value"
      ]
    },
    {
      "metadata": {
        "id": "4IosyelU8ipU",
        "colab_type": "code",
        "colab": {
          "autoexec": {
            "startup": false,
            "wait_interval": 0
          }
        }
      },
      "cell_type": "code",
      "source": [
        "clf = OneVsRestClassifier(RandomForestClassifier(n_jobs=-1, n_estimators=1500, max_depth=15, random_state=50))"
      ],
      "execution_count": 0,
      "outputs": []
    },
    {
      "metadata": {
        "id": "AFy5YWth8ipY",
        "colab_type": "code",
        "colab": {
          "autoexec": {
            "startup": false,
            "wait_interval": 0
          },
          "base_uri": "https://localhost:8080/",
          "height": 136
        },
        "outputId": "71228dfc-788a-43e7-d190-caa855ef7b27",
        "executionInfo": {
          "status": "ok",
          "timestamp": 1532363543790,
          "user_tz": 300,
          "elapsed": 679619,
          "user": {
            "displayName": "andrea carolina parra lópez",
            "photoUrl": "//lh4.googleusercontent.com/-Kx8LhhSjJzM/AAAAAAAAAAI/AAAAAAAAANk/Y6doG3Y6XsI/s50-c-k-no/photo.jpg",
            "userId": "110040482315544751285"
          }
        }
      },
      "cell_type": "code",
      "source": [
        "clf.fit(X_train, y_train_genres)"
      ],
      "execution_count": 0,
      "outputs": [
        {
          "output_type": "execute_result",
          "data": {
            "text/plain": [
              "OneVsRestClassifier(estimator=RandomForestClassifier(bootstrap=True, class_weight=None, criterion='gini',\n",
              "            max_depth=15, max_features='auto', max_leaf_nodes=None,\n",
              "            min_impurity_decrease=0.0, min_impurity_split=None,\n",
              "            min_samples_leaf=1, min_samples_split=2,\n",
              "            min_weight_fraction_leaf=0.0, n_estimators=1500, n_jobs=-1,\n",
              "            oob_score=False, random_state=50, verbose=0, warm_start=False),\n",
              "          n_jobs=1)"
            ]
          },
          "metadata": {
            "tags": []
          },
          "execution_count": 73
        }
      ]
    },
    {
      "metadata": {
        "id": "W7Y7IbSs8ipd",
        "colab_type": "code",
        "colab": {
          "autoexec": {
            "startup": false,
            "wait_interval": 0
          }
        }
      },
      "cell_type": "code",
      "source": [
        "y_pred_genres1 = clf.predict_proba(X_test)"
      ],
      "execution_count": 0,
      "outputs": []
    },
    {
      "metadata": {
        "id": "V-6QRATQOPi0",
        "colab_type": "text"
      },
      "cell_type": "markdown",
      "source": [
        "This model present an AUC with values under 0.6. These values are lower than those we obtained with the Random Forest model of the text data.\n",
        "Results :\n",
        "<br>\n",
        "<table>\n",
        "<tr>\n",
        "<th>$features$</th>\n",
        "<th>$AUC$</th>\n",
        "</tr>\n",
        "<tr>\n",
        "<td> components=200, n_estimators: 1500, max_depth=15</td>\n",
        "<td style=\"text-align:center\">0.54910</td>\n",
        "<td ></td>\n",
        "</tr>\n",
        "<tr>\n",
        "<td>components=300, n_estimators: 500, max_depth=15</td>\n",
        "<td style=\"text-align:center\">0.54261</td>\n",
        "</tr>\n",
        "<tr>\n",
        "<td>components=200, n_estimators: 500, max_depth=10</td>\n",
        "<td style=\"text-align:center\">0.55891</td>\n",
        "</tr>\n",
        "<tr>\n",
        "<td>components=300, n_estimators: 2000, max_depth=10</td>\n",
        "<td style=\"text-align:center\">0.50008</td>\n",
        "</tr>\n",
        "</table>"
      ]
    },
    {
      "metadata": {
        "id": "223OcVXw8ipl",
        "colab_type": "code",
        "colab": {
          "autoexec": {
            "startup": false,
            "wait_interval": 0
          },
          "base_uri": "https://localhost:8080/",
          "height": 34
        },
        "outputId": "2dc30f2b-17c2-4f0a-85d2-19e4cced2187",
        "executionInfo": {
          "status": "ok",
          "timestamp": 1532363560218,
          "user_tz": 300,
          "elapsed": 335,
          "user": {
            "displayName": "andrea carolina parra lópez",
            "photoUrl": "//lh4.googleusercontent.com/-Kx8LhhSjJzM/AAAAAAAAAAI/AAAAAAAAANk/Y6doG3Y6XsI/s50-c-k-no/photo.jpg",
            "userId": "110040482315544751285"
          }
        }
      },
      "cell_type": "code",
      "source": [
        "roc_auc_score(y_test_genres, y_pred_genres1, average='macro')"
      ],
      "execution_count": 0,
      "outputs": [
        {
          "output_type": "execute_result",
          "data": {
            "text/plain": [
              "0.5802260826536205"
            ]
          },
          "metadata": {
            "tags": []
          },
          "execution_count": 75
        }
      ]
    },
    {
      "metadata": {
        "id": "HFKG0Ghc8ipq",
        "colab_type": "text"
      },
      "cell_type": "markdown",
      "source": [
        "## Apply models to test\n",
        "\n"
      ]
    },
    {
      "metadata": {
        "id": "qVE-nZSL8ipt",
        "colab_type": "code",
        "colab": {
          "autoexec": {
            "startup": false,
            "wait_interval": 0
          }
        }
      },
      "cell_type": "code",
      "source": [
        "cols = ['p_Action', 'p_Adventure', 'p_Animation', 'p_Biography', 'p_Comedy', 'p_Crime', 'p_Documentary', 'p_Drama', 'p_Family',\n",
        "        'p_Fantasy', 'p_Film-Noir', 'p_History', 'p_Horror', 'p_Music', 'p_Musical', 'p_Mystery', 'p_News', 'p_Romance',\n",
        "        'p_Sci-Fi', 'p_Short', 'p_Sport', 'p_Thriller', 'p_War', 'p_Western']\n",
        "\n",
        "y_pred_test_genres1 = clf.predict_proba(images_testing_pca)"
      ],
      "execution_count": 0,
      "outputs": []
    },
    {
      "metadata": {
        "id": "HTDX468EAqYh",
        "colab_type": "text"
      },
      "cell_type": "markdown",
      "source": [
        "To link both models, we used a maximum likelihood criteria between values."
      ]
    },
    {
      "metadata": {
        "id": "aecfQxR6egoN",
        "colab_type": "code",
        "colab": {
          "autoexec": {
            "startup": false,
            "wait_interval": 0
          }
        }
      },
      "cell_type": "code",
      "source": [
        "pd.DataFrame(y_pred_test_genres1, index=dataTesting.index, columns=cols).to_csv('pred_genres_img_RF1.csv', index_label='ID')"
      ],
      "execution_count": 0,
      "outputs": []
    },
    {
      "metadata": {
        "id": "hg7ysOxNd6-9",
        "colab_type": "code",
        "colab": {
          "autoexec": {
            "startup": false,
            "wait_interval": 0
          }
        }
      },
      "cell_type": "code",
      "source": [
        "from google.colab import files\n",
        "files.download('pred_genres_img_RF1.csv')"
      ],
      "execution_count": 0,
      "outputs": []
    },
    {
      "metadata": {
        "id": "uoZOz-Rid6-_",
        "colab_type": "code",
        "colab": {
          "autoexec": {
            "startup": false,
            "wait_interval": 0
          },
          "base_uri": "https://localhost:8080/",
          "height": 34
        },
        "outputId": "a4f4c4d1-7f27-4ba4-f6f1-b22801b6142f",
        "executionInfo": {
          "status": "ok",
          "timestamp": 1532363587247,
          "user_tz": 300,
          "elapsed": 4842,
          "user": {
            "displayName": "andrea carolina parra lópez",
            "photoUrl": "//lh4.googleusercontent.com/-Kx8LhhSjJzM/AAAAAAAAAAI/AAAAAAAAANk/Y6doG3Y6XsI/s50-c-k-no/photo.jpg",
            "userId": "110040482315544751285"
          }
        }
      },
      "cell_type": "code",
      "source": [
        "!kaggle competitions submit -c miia4406-movie-genre-classification -f pred_genres_img_RF1.csv -m \"text_3_md4\""
      ],
      "execution_count": 0,
      "outputs": [
        {
          "output_type": "stream",
          "text": [
            "Successfully submitted to MIIA4406 - MOVIE GENRE CLASSIFICATION"
          ],
          "name": "stdout"
        }
      ]
    },
    {
      "metadata": {
        "id": "csuUnNj6Eq2N",
        "colab_type": "text"
      },
      "cell_type": "markdown",
      "source": [
        "## Merged text and images model\n",
        "To merge the maximum likelihood criteria between the best sparately trained models was used.\n"
      ]
    },
    {
      "metadata": {
        "id": "zxGVskcC8ip0",
        "colab_type": "code",
        "colab": {
          "autoexec": {
            "startup": false,
            "wait_interval": 0
          },
          "base_uri": "https://localhost:8080/",
          "height": 34
        },
        "outputId": "dba0b435-de29-4c02-c174-5849638cb42a",
        "executionInfo": {
          "status": "ok",
          "timestamp": 1532363579325,
          "user_tz": 300,
          "elapsed": 464,
          "user": {
            "displayName": "andrea carolina parra lópez",
            "photoUrl": "//lh4.googleusercontent.com/-Kx8LhhSjJzM/AAAAAAAAAAI/AAAAAAAAANk/Y6doG3Y6XsI/s50-c-k-no/photo.jpg",
            "userId": "110040482315544751285"
          }
        }
      },
      "cell_type": "code",
      "source": [
        "y_pred_test_genres1.shape,y_pred_test_genres.shape\n"
      ],
      "execution_count": 0,
      "outputs": [
        {
          "output_type": "execute_result",
          "data": {
            "text/plain": [
              "((3383, 24), (3383, 24))"
            ]
          },
          "metadata": {
            "tags": []
          },
          "execution_count": 77
        }
      ]
    },
    {
      "metadata": {
        "id": "r8oESStGA6HH",
        "colab_type": "code",
        "colab": {
          "autoexec": {
            "startup": false,
            "wait_interval": 0
          },
          "base_uri": "https://localhost:8080/",
          "height": 102
        },
        "outputId": "4c7daf3d-689a-4d67-d36b-267f6f1fa431",
        "executionInfo": {
          "status": "ok",
          "timestamp": 1532364707161,
          "user_tz": 300,
          "elapsed": 512,
          "user": {
            "displayName": "andrea carolina parra lópez",
            "photoUrl": "//lh4.googleusercontent.com/-Kx8LhhSjJzM/AAAAAAAAAAI/AAAAAAAAANk/Y6doG3Y6XsI/s50-c-k-no/photo.jpg",
            "userId": "110040482315544751285"
          }
        }
      },
      "cell_type": "code",
      "source": [
        "y_pred_test_genres2=y_pred_test_genres\n",
        "for i in range(3383):\n",
        "  for j in range(24):\n",
        "    y_pred_test_genres2[i][j]=max(y_pred_test_genres1[i][j],y_pred_test_genres[i][j])\n",
        "\n",
        "\n",
        "y_pred_test_genres2[1]"
      ],
      "execution_count": 0,
      "outputs": [
        {
          "output_type": "execute_result",
          "data": {
            "text/plain": [
              "array([0.14618898, 0.09940688, 0.02553197, 0.04088071, 0.34820087,\n",
              "       0.19937039, 0.07928273, 0.49044115, 0.06913041, 0.10251603,\n",
              "       0.01371479, 0.02771752, 0.43695182, 0.03084691, 0.02478332,\n",
              "       0.16716393, 0.01181107, 0.16248835, 0.07864753, 0.00995831,\n",
              "       0.02157711, 0.4913058 , 0.03207433, 0.01898275])"
            ]
          },
          "metadata": {
            "tags": []
          },
          "execution_count": 88
        }
      ]
    },
    {
      "metadata": {
        "id": "uR0Sc4wuDCms",
        "colab_type": "code",
        "colab": {
          "autoexec": {
            "startup": false,
            "wait_interval": 0
          },
          "base_uri": "https://localhost:8080/",
          "height": 34
        },
        "outputId": "1a4b2232-2a00-49b6-ca70-915dc8fae479",
        "executionInfo": {
          "status": "ok",
          "timestamp": 1532364608369,
          "user_tz": 300,
          "elapsed": 698,
          "user": {
            "displayName": "andrea carolina parra lópez",
            "photoUrl": "//lh4.googleusercontent.com/-Kx8LhhSjJzM/AAAAAAAAAAI/AAAAAAAAANk/Y6doG3Y6XsI/s50-c-k-no/photo.jpg",
            "userId": "110040482315544751285"
          }
        }
      },
      "cell_type": "code",
      "source": [
        "y_pred_test_genres1[1][1]"
      ],
      "execution_count": 0,
      "outputs": [
        {
          "output_type": "execute_result",
          "data": {
            "text/plain": [
              "0.06250262668505581"
            ]
          },
          "metadata": {
            "tags": []
          },
          "execution_count": 84
        }
      ]
    },
    {
      "metadata": {
        "id": "uSOIlpIJDtZe",
        "colab_type": "code",
        "colab": {
          "autoexec": {
            "startup": false,
            "wait_interval": 0
          }
        }
      },
      "cell_type": "code",
      "source": [
        "pd.DataFrame(y_pred_test_genres2, index=dataTesting.index, columns=cols).to_csv('pred_genres_comb.csv', index_label='ID')"
      ],
      "execution_count": 0,
      "outputs": []
    },
    {
      "metadata": {
        "id": "lGO7EKBqDtZh",
        "colab_type": "code",
        "colab": {
          "autoexec": {
            "startup": false,
            "wait_interval": 0
          }
        }
      },
      "cell_type": "code",
      "source": [
        "from google.colab import files\n",
        "files.download('pred_genres_comb.csv')"
      ],
      "execution_count": 0,
      "outputs": []
    },
    {
      "metadata": {
        "id": "hTnEv4gsDtZi",
        "colab_type": "code",
        "colab": {
          "autoexec": {
            "startup": false,
            "wait_interval": 0
          },
          "base_uri": "https://localhost:8080/",
          "height": 34
        },
        "outputId": "8d747ebf-9e3e-4cc7-9ec2-94ba455ee635",
        "executionInfo": {
          "status": "ok",
          "timestamp": 1532364833226,
          "user_tz": 300,
          "elapsed": 4113,
          "user": {
            "displayName": "andrea carolina parra lópez",
            "photoUrl": "//lh4.googleusercontent.com/-Kx8LhhSjJzM/AAAAAAAAAAI/AAAAAAAAANk/Y6doG3Y6XsI/s50-c-k-no/photo.jpg",
            "userId": "110040482315544751285"
          }
        }
      },
      "cell_type": "code",
      "source": [
        "!kaggle competitions submit -c miia4406-movie-genre-classification -f pred_genres_comb.csv -m \"text_3_md4\""
      ],
      "execution_count": 0,
      "outputs": [
        {
          "output_type": "stream",
          "text": [
            "Successfully submitted to MIIA4406 - MOVIE GENRE CLASSIFICATION"
          ],
          "name": "stdout"
        }
      ]
    },
    {
      "metadata": {
        "id": "_G_8de7YNUQR",
        "colab_type": "text"
      },
      "cell_type": "markdown",
      "source": [
        "#Model with a Deep Learning algorithm.\n",
        "\n",
        "To develop the second model, we used Transfer Learning"
      ]
    },
    {
      "metadata": {
        "id": "czqbSIyfpK7_",
        "colab_type": "code",
        "colab": {
          "autoexec": {
            "startup": false,
            "wait_interval": 0
          },
          "base_uri": "https://localhost:8080/",
          "height": 287
        },
        "outputId": "eff6c297-030c-4403-ea0e-cbb8a74a5918",
        "executionInfo": {
          "status": "ok",
          "timestamp": 1532182523641,
          "user_tz": 300,
          "elapsed": 8961,
          "user": {
            "displayName": "carolina Torres",
            "photoUrl": "//lh3.googleusercontent.com/-Myr7t3FBZJ0/AAAAAAAAAAI/AAAAAAAAAAk/sRRDKExxq_w/s50-c-k-no/photo.jpg",
            "userId": "103001663480388798882"
          }
        }
      },
      "cell_type": "code",
      "source": [
        "##!kill -9 -1\n",
        "from tensorflow.python.client import device_lib\n",
        "device_lib.list_local_devices()"
      ],
      "execution_count": 0,
      "outputs": [
        {
          "output_type": "execute_result",
          "data": {
            "text/plain": [
              "[name: \"/device:CPU:0\"\n",
              " device_type: \"CPU\"\n",
              " memory_limit: 268435456\n",
              " locality {\n",
              " }\n",
              " incarnation: 13154342813668217807, name: \"/device:GPU:0\"\n",
              " device_type: \"GPU\"\n",
              " memory_limit: 11285974221\n",
              " locality {\n",
              "   bus_id: 1\n",
              "   links {\n",
              "   }\n",
              " }\n",
              " incarnation: 12238196443248421398\n",
              " physical_device_desc: \"device: 0, name: Tesla K80, pci bus id: 0000:00:04.0, compute capability: 3.7\"]"
            ]
          },
          "metadata": {
            "tags": []
          },
          "execution_count": 1
        }
      ]
    },
    {
      "metadata": {
        "id": "1xWGeKj3ypd-",
        "colab_type": "text"
      },
      "cell_type": "markdown",
      "source": [
        "##Loading libraries and color images\n",
        "\n",
        "The following code is used to load the libraries and present the basic information of the data"
      ]
    },
    {
      "metadata": {
        "id": "ihR6Dc8p_Wsi",
        "colab_type": "code",
        "colab": {
          "autoexec": {
            "startup": false,
            "wait_interval": 0
          }
        }
      },
      "cell_type": "code",
      "source": [
        "import pandas as pd\n",
        "import os\n",
        "import numpy as np\n",
        "from sklearn.preprocessing import MultiLabelBinarizer\n",
        "from sklearn.multiclass import OneVsRestClassifier\n",
        "from sklearn.ensemble import RandomForestRegressor, RandomForestClassifier\n",
        "from sklearn.metrics import r2_score, roc_auc_score\n",
        "from sklearn.model_selection import train_test_split\n",
        "from sklearn.decomposition import PCA\n",
        "import matplotlib.pyplot as plt\n",
        "from skimage import io\n",
        "from tqdm import tqdm\n",
        "import os\n",
        "%matplotlib inline"
      ],
      "execution_count": 0,
      "outputs": []
    },
    {
      "metadata": {
        "id": "HtLQ1ZA7F5Yq",
        "colab_type": "text"
      },
      "cell_type": "markdown",
      "source": [
        "there are 2 datasets, training and testing description ***Genres*** is the objective variable"
      ]
    },
    {
      "metadata": {
        "id": "d6HIdxDQDUX7",
        "colab_type": "code",
        "colab": {
          "autoexec": {
            "startup": false,
            "wait_interval": 0
          },
          "base_uri": "https://localhost:8080/",
          "height": 204
        },
        "outputId": "e6bc32fd-55b0-4000-dd23-d578efb021fd",
        "executionInfo": {
          "status": "ok",
          "timestamp": 1532182741745,
          "user_tz": 300,
          "elapsed": 358,
          "user": {
            "displayName": "carolina Torres",
            "photoUrl": "//lh3.googleusercontent.com/-Myr7t3FBZJ0/AAAAAAAAAAI/AAAAAAAAAAk/sRRDKExxq_w/s50-c-k-no/photo.jpg",
            "userId": "103001663480388798882"
          }
        }
      },
      "cell_type": "code",
      "source": [
        "dataTraining.head()"
      ],
      "execution_count": 0,
      "outputs": [
        {
          "output_type": "execute_result",
          "data": {
            "text/html": [
              "<div>\n",
              "<style scoped>\n",
              "    .dataframe tbody tr th:only-of-type {\n",
              "        vertical-align: middle;\n",
              "    }\n",
              "\n",
              "    .dataframe tbody tr th {\n",
              "        vertical-align: top;\n",
              "    }\n",
              "\n",
              "    .dataframe thead th {\n",
              "        text-align: right;\n",
              "    }\n",
              "</style>\n",
              "<table border=\"1\" class=\"dataframe\">\n",
              "  <thead>\n",
              "    <tr style=\"text-align: right;\">\n",
              "      <th></th>\n",
              "      <th>year</th>\n",
              "      <th>title</th>\n",
              "      <th>plot</th>\n",
              "      <th>genres</th>\n",
              "      <th>rating</th>\n",
              "    </tr>\n",
              "  </thead>\n",
              "  <tbody>\n",
              "    <tr>\n",
              "      <th>3107</th>\n",
              "      <td>2003</td>\n",
              "      <td>Most</td>\n",
              "      <td>most is the story of a single father who takes...</td>\n",
              "      <td>['Short', 'Drama']</td>\n",
              "      <td>8.0</td>\n",
              "    </tr>\n",
              "    <tr>\n",
              "      <th>900</th>\n",
              "      <td>2008</td>\n",
              "      <td>How to Be a Serial Killer</td>\n",
              "      <td>a serial killer decides to teach the secrets o...</td>\n",
              "      <td>['Comedy', 'Crime', 'Horror']</td>\n",
              "      <td>5.6</td>\n",
              "    </tr>\n",
              "    <tr>\n",
              "      <th>6724</th>\n",
              "      <td>1941</td>\n",
              "      <td>A Woman's Face</td>\n",
              "      <td>in sweden ,  a female blackmailer with a disfi...</td>\n",
              "      <td>['Drama', 'Film-Noir', 'Thriller']</td>\n",
              "      <td>7.2</td>\n",
              "    </tr>\n",
              "    <tr>\n",
              "      <th>4704</th>\n",
              "      <td>1954</td>\n",
              "      <td>Executive Suite</td>\n",
              "      <td>in a friday afternoon in new york ,  the presi...</td>\n",
              "      <td>['Drama']</td>\n",
              "      <td>7.4</td>\n",
              "    </tr>\n",
              "    <tr>\n",
              "      <th>2582</th>\n",
              "      <td>1990</td>\n",
              "      <td>Narrow Margin</td>\n",
              "      <td>in los angeles ,  the editor of a publishing h...</td>\n",
              "      <td>['Action', 'Crime', 'Thriller']</td>\n",
              "      <td>6.6</td>\n",
              "    </tr>\n",
              "  </tbody>\n",
              "</table>\n",
              "</div>"
            ],
            "text/plain": [
              "      year                      title  \\\n",
              "3107  2003                       Most   \n",
              "900   2008  How to Be a Serial Killer   \n",
              "6724  1941             A Woman's Face   \n",
              "4704  1954            Executive Suite   \n",
              "2582  1990              Narrow Margin   \n",
              "\n",
              "                                                   plot  \\\n",
              "3107  most is the story of a single father who takes...   \n",
              "900   a serial killer decides to teach the secrets o...   \n",
              "6724  in sweden ,  a female blackmailer with a disfi...   \n",
              "4704  in a friday afternoon in new york ,  the presi...   \n",
              "2582  in los angeles ,  the editor of a publishing h...   \n",
              "\n",
              "                                  genres  rating  \n",
              "3107                  ['Short', 'Drama']     8.0  \n",
              "900        ['Comedy', 'Crime', 'Horror']     5.6  \n",
              "6724  ['Drama', 'Film-Noir', 'Thriller']     7.2  \n",
              "4704                           ['Drama']     7.4  \n",
              "2582     ['Action', 'Crime', 'Thriller']     6.6  "
            ]
          },
          "metadata": {
            "tags": []
          },
          "execution_count": 15
        }
      ]
    },
    {
      "metadata": {
        "id": "Wrx4IEvlGbyU",
        "colab_type": "text"
      },
      "cell_type": "markdown",
      "source": [
        "the testing database "
      ]
    },
    {
      "metadata": {
        "id": "4KzJt_z3Dc1m",
        "colab_type": "code",
        "colab": {
          "autoexec": {
            "startup": false,
            "wait_interval": 0
          },
          "base_uri": "https://localhost:8080/",
          "height": 204
        },
        "outputId": "ba856f50-f165-4a68-ee5b-59b1caea8f2a",
        "executionInfo": {
          "status": "ok",
          "timestamp": 1532182742380,
          "user_tz": 300,
          "elapsed": 365,
          "user": {
            "displayName": "carolina Torres",
            "photoUrl": "//lh3.googleusercontent.com/-Myr7t3FBZJ0/AAAAAAAAAAI/AAAAAAAAAAk/sRRDKExxq_w/s50-c-k-no/photo.jpg",
            "userId": "103001663480388798882"
          }
        }
      },
      "cell_type": "code",
      "source": [
        "dataTesting.head()"
      ],
      "execution_count": 0,
      "outputs": [
        {
          "output_type": "execute_result",
          "data": {
            "text/html": [
              "<div>\n",
              "<style scoped>\n",
              "    .dataframe tbody tr th:only-of-type {\n",
              "        vertical-align: middle;\n",
              "    }\n",
              "\n",
              "    .dataframe tbody tr th {\n",
              "        vertical-align: top;\n",
              "    }\n",
              "\n",
              "    .dataframe thead th {\n",
              "        text-align: right;\n",
              "    }\n",
              "</style>\n",
              "<table border=\"1\" class=\"dataframe\">\n",
              "  <thead>\n",
              "    <tr style=\"text-align: right;\">\n",
              "      <th></th>\n",
              "      <th>year</th>\n",
              "      <th>title</th>\n",
              "      <th>plot</th>\n",
              "    </tr>\n",
              "  </thead>\n",
              "  <tbody>\n",
              "    <tr>\n",
              "      <th>1</th>\n",
              "      <td>1999</td>\n",
              "      <td>Message in a Bottle</td>\n",
              "      <td>who meets by fate ,  shall be sealed by fate ....</td>\n",
              "    </tr>\n",
              "    <tr>\n",
              "      <th>4</th>\n",
              "      <td>1978</td>\n",
              "      <td>Midnight Express</td>\n",
              "      <td>the true story of billy hayes ,  an american c...</td>\n",
              "    </tr>\n",
              "    <tr>\n",
              "      <th>5</th>\n",
              "      <td>1996</td>\n",
              "      <td>Primal Fear</td>\n",
              "      <td>martin vail left the chicago da ' s office to ...</td>\n",
              "    </tr>\n",
              "    <tr>\n",
              "      <th>6</th>\n",
              "      <td>1950</td>\n",
              "      <td>Crisis</td>\n",
              "      <td>husband and wife americans dr .  eugene and mr...</td>\n",
              "    </tr>\n",
              "    <tr>\n",
              "      <th>7</th>\n",
              "      <td>1959</td>\n",
              "      <td>The Tingler</td>\n",
              "      <td>the coroner and scientist dr .  warren chapin ...</td>\n",
              "    </tr>\n",
              "  </tbody>\n",
              "</table>\n",
              "</div>"
            ],
            "text/plain": [
              "   year                title  \\\n",
              "1  1999  Message in a Bottle   \n",
              "4  1978     Midnight Express   \n",
              "5  1996          Primal Fear   \n",
              "6  1950               Crisis   \n",
              "7  1959          The Tingler   \n",
              "\n",
              "                                                plot  \n",
              "1  who meets by fate ,  shall be sealed by fate ....  \n",
              "4  the true story of billy hayes ,  an american c...  \n",
              "5  martin vail left the chicago da ' s office to ...  \n",
              "6  husband and wife americans dr .  eugene and mr...  \n",
              "7  the coroner and scientist dr .  warren chapin ...  "
            ]
          },
          "metadata": {
            "tags": []
          },
          "execution_count": 16
        }
      ]
    },
    {
      "metadata": {
        "id": "iaFo91fXDhnp",
        "colab_type": "text"
      },
      "cell_type": "markdown",
      "source": [
        "## Read Color Images\n",
        "\n",
        "This code allowed us to observe color images."
      ]
    },
    {
      "metadata": {
        "id": "kSTf7X6lDerg",
        "colab_type": "code",
        "colab": {
          "autoexec": {
            "startup": false,
            "wait_interval": 0
          }
        }
      },
      "cell_type": "code",
      "source": [
        "#Loading some movies images\n",
        "image = io.imread(os.path.join(path, 'data', 'images', str(dataTraining.index[0]) + '.jpeg'))\n",
        "print(image.shape)\n",
        "fig, ax = plt.subplots(nrows=1, ncols=1)\n",
        "ax.imshow(image)"
      ],
      "execution_count": 0,
      "outputs": []
    },
    {
      "metadata": {
        "id": "QDI2OwamG5LN",
        "colab_type": "text"
      },
      "cell_type": "markdown",
      "source": [
        "Most of movies have several clasifications"
      ]
    },
    {
      "metadata": {
        "id": "uULUFTmU6IAe",
        "colab_type": "code",
        "colab": {
          "autoexec": {
            "startup": false,
            "wait_interval": 0
          }
        }
      },
      "cell_type": "code",
      "source": [
        "# image = io.imread(os.path.join(path, 'data', 'images', str(dataTraining.index[0]) + '.jpeg'))\n",
        "nb_classes = range(0,20)\n",
        "\n",
        "# Plot 20 images\n",
        "fig, ax = plt.subplots(4,5, figsize=(15,15))\n",
        "ax = ax.reshape(20)\n",
        "for i in nb_classes:\n",
        "    image = io.imread(os.path.join(path, 'data', 'images', str(dataTraining.index[i]) + '.jpeg'))\n",
        "    ax[i].imshow(image)\n",
        "    ax[i].set_title(str(dataTraining.iloc[i,3]))\n",
        "    ax[i].axis('off')\n",
        "\n",
        "ax[-1].axis('off')\n",
        "ax[-2].axis('off')\n",
        "plt.show()"
      ],
      "execution_count": 0,
      "outputs": []
    },
    {
      "metadata": {
        "id": "liQnYPhlHPNm",
        "colab_type": "text"
      },
      "cell_type": "markdown",
      "source": [
        "Because we have 10.000 images, it is necessary to load them in batches; then, we separate them by training and test images in different folders"
      ]
    },
    {
      "metadata": {
        "id": "S25VdacxZ8yi",
        "colab_type": "code",
        "colab": {
          "autoexec": {
            "startup": false,
            "wait_interval": 0
          }
        }
      },
      "cell_type": "code",
      "source": [
        "!cd DL/data && mkdir img\n",
        "!cd DL/data/img && mkdir test\n",
        "!cd DL/data/images && mkdir train"
      ],
      "execution_count": 0,
      "outputs": []
    },
    {
      "metadata": {
        "id": "KLbN-vitbAkn",
        "colab_type": "code",
        "colab": {
          "autoexec": {
            "startup": false,
            "wait_interval": 0
          },
          "base_uri": "https://localhost:8080/",
          "height": 35
        },
        "outputId": "3de1175b-2c00-4eb2-d156-907849ed1caa",
        "executionInfo": {
          "status": "ok",
          "timestamp": 1532182790319,
          "user_tz": 300,
          "elapsed": 1376,
          "user": {
            "displayName": "carolina Torres",
            "photoUrl": "//lh3.googleusercontent.com/-Myr7t3FBZJ0/AAAAAAAAAAI/AAAAAAAAAAk/sRRDKExxq_w/s50-c-k-no/photo.jpg",
            "userId": "103001663480388798882"
          }
        }
      },
      "cell_type": "code",
      "source": [
        "!ls DL/data"
      ],
      "execution_count": 0,
      "outputs": [
        {
          "output_type": "stream",
          "text": [
            "dataTesting.csv  dataTraining.csv  images  img\r\n"
          ],
          "name": "stdout"
        }
      ]
    },
    {
      "metadata": {
        "id": "tjEPs4TSCxE6",
        "colab_type": "code",
        "colab": {
          "autoexec": {
            "startup": false,
            "wait_interval": 0
          },
          "base_uri": "https://localhost:8080/",
          "height": 53
        },
        "outputId": "58f56179-1637-4cdf-9d4a-274c4e19fb38",
        "executionInfo": {
          "status": "ok",
          "timestamp": 1532182796248,
          "user_tz": 300,
          "elapsed": 1148,
          "user": {
            "displayName": "carolina Torres",
            "photoUrl": "//lh3.googleusercontent.com/-Myr7t3FBZJ0/AAAAAAAAAAI/AAAAAAAAAAk/sRRDKExxq_w/s50-c-k-no/photo.jpg",
            "userId": "103001663480388798882"
          }
        }
      },
      "cell_type": "code",
      "source": [
        "#MOVING THE TEST IMAGES TO 'DL/data/img/test'\n",
        "#MOVING THE TRAIN IMAGES TO  'DL/data/imgages/train'\n",
        "#THERE ARE 7895 TRAIN IMAGES AND 3383 TEST IMAGES\n",
        "import pandas as pd\n",
        "import os\n",
        "import numpy as np\n",
        "import shutil\n",
        "\n",
        "\n",
        "tpath = 'DL/data/images/train'\n",
        "tindx = list(dataTraining.index)\n",
        "\n",
        "print('train: ',len(tindx))\n",
        "\n",
        "current_img = ''\n",
        "\n",
        "for f in tindx:\n",
        "\n",
        "  current_img = str('DL/data/images/' + str(f) + '.jpeg')\n",
        "  ##**Check this Line Accordingly** \n",
        "  shutil.move(current_img, tpath)\n",
        "  \n",
        "tpath = 'DL/data/img/test'\n",
        "tindx = list(dataTesting.index)  \n",
        "current_img = ''\n",
        "print('test: ',len(tindx))\n",
        "for g in tindx:\n",
        "\n",
        "  current_img = str('DL/data/images/' + str(g) + '.jpeg')\n",
        "  ##**Check this Line Accordingly** \n",
        "  shutil.move(current_img, tpath)"
      ],
      "execution_count": 0,
      "outputs": [
        {
          "output_type": "stream",
          "text": [
            "train:  7895\n",
            "test:  3383\n"
          ],
          "name": "stdout"
        }
      ]
    },
    {
      "metadata": {
        "id": "GfbWMUfvJtiH",
        "colab_type": "text"
      },
      "cell_type": "markdown",
      "source": [
        "## Transfer learninig.\n",
        "\n",
        "Load the pre - trained VGG16 model without the top layers, this is just for images convolution"
      ]
    },
    {
      "metadata": {
        "id": "gExcuJzNDyQb",
        "colab_type": "code",
        "colab": {
          "autoexec": {
            "startup": false,
            "wait_interval": 0
          },
          "base_uri": "https://localhost:8080/",
          "height": 53
        },
        "outputId": "92e7f15d-6a5c-4482-d9b9-a341d517d9ac",
        "executionInfo": {
          "status": "ok",
          "timestamp": 1532183719024,
          "user_tz": 300,
          "elapsed": 2650,
          "user": {
            "displayName": "carolina Torres",
            "photoUrl": "//lh3.googleusercontent.com/-Myr7t3FBZJ0/AAAAAAAAAAI/AAAAAAAAAAk/sRRDKExxq_w/s50-c-k-no/photo.jpg",
            "userId": "103001663480388798882"
          }
        }
      },
      "cell_type": "code",
      "source": [
        "from keras.applications.vgg16 import VGG16\n",
        "from keras.preprocessing import image\n",
        "from keras.applications.vgg16 import preprocess_input\n",
        "import numpy as np\n",
        "\n",
        "model = VGG16(weights='imagenet', include_top=False)"
      ],
      "execution_count": 0,
      "outputs": [
        {
          "output_type": "stream",
          "text": [
            "Downloading data from https://github.com/fchollet/deep-learning-models/releases/download/v0.1/vgg16_weights_tf_dim_ordering_tf_kernels_notop.h5\n",
            "58892288/58889256 [==============================] - 1s 0us/step\n"
          ],
          "name": "stdout"
        }
      ]
    },
    {
      "metadata": {
        "id": "mghJAnXlA2e_",
        "colab_type": "code",
        "colab": {
          "autoexec": {
            "startup": false,
            "wait_interval": 0
          }
        }
      },
      "cell_type": "code",
      "source": [
        "!pip3 install image\n",
        "!pip3 install pyautogui"
      ],
      "execution_count": 0,
      "outputs": []
    },
    {
      "metadata": {
        "id": "lAdPDK6N4JCU",
        "colab_type": "text"
      },
      "cell_type": "markdown",
      "source": [
        "##Images convolution with training folder for training and test.\n",
        "\n",
        "System parameter to allow loading large size images"
      ]
    },
    {
      "metadata": {
        "id": "dPIsWWhHBQBu",
        "colab_type": "code",
        "colab": {
          "autoexec": {
            "startup": false,
            "wait_interval": 0
          }
        }
      },
      "cell_type": "code",
      "source": [
        "import sys\n",
        "from PIL import Image\n",
        "sys.modules['Image'] = Image\n",
        "Image.MAX_IMAGE_PIXELS = 900000000"
      ],
      "execution_count": 0,
      "outputs": []
    },
    {
      "metadata": {
        "id": "7GaOfXzdUESs",
        "colab_type": "text"
      },
      "cell_type": "markdown",
      "source": [
        "The training images were divided in training and test, with flow_from_directory. Then we create the dictionary to convolutionate them in batches and resize it to 224X224 pixeles"
      ]
    },
    {
      "metadata": {
        "id": "4pl2yiQJMCxJ",
        "colab_type": "code",
        "colab": {
          "autoexec": {
            "startup": false,
            "wait_interval": 0
          },
          "base_uri": "https://localhost:8080/",
          "height": 71
        },
        "outputId": "2fc0b749-cd18-4893-9cd7-a0b4a6c9836c",
        "executionInfo": {
          "status": "ok",
          "timestamp": 1532183242641,
          "user_tz": 300,
          "elapsed": 2180,
          "user": {
            "displayName": "carolina Torres",
            "photoUrl": "//lh3.googleusercontent.com/-Myr7t3FBZJ0/AAAAAAAAAAI/AAAAAAAAAAk/sRRDKExxq_w/s50-c-k-no/photo.jpg",
            "userId": "103001663480388798882"
          }
        }
      },
      "cell_type": "code",
      "source": [
        "import numpy as np\n",
        "from keras.preprocessing.image import ImageDataGenerator\n",
        "from keras.models import Sequential\n",
        "from keras.layers import Dropout, Flatten, Dense\n",
        "from keras import applications\n",
        "\n",
        "\n",
        "img_width, img_height = 224, 224\n",
        "\n",
        "top_model_weights_path = 'bottleneck_fc_model.h5'\n",
        "train_data_dir = 'DL/data/images'\n",
        "validation_data_dir = 'DL/data/img'\n",
        "nb_train_samples = 7895\n",
        "nb_validation_samples = 3383\n",
        "batch_size = 64\n",
        "\n",
        "\n",
        "data_generator = ImageDataGenerator(rescale=1./255, validation_split=0.2)\n",
        "\n",
        "train_generator = data_generator.flow_from_directory(train_data_dir, target_size=(img_width, img_height), shuffle=False, seed=13,\n",
        "                                                     class_mode=None, batch_size=batch_size, subset=\"training\")\n",
        "\n",
        "validation_generator = data_generator.flow_from_directory(train_data_dir, target_size=(img_width, img_height),  shuffle=False, seed=13,\n",
        "                                                     class_mode=None, batch_size=batch_size, subset=\"validation\")"
      ],
      "execution_count": 0,
      "outputs": [
        {
          "output_type": "stream",
          "text": [
            "Using TensorFlow backend.\n"
          ],
          "name": "stderr"
        },
        {
          "output_type": "stream",
          "text": [
            "Found 6316 images belonging to 1 classes.\n",
            "Found 1579 images belonging to 1 classes.\n"
          ],
          "name": "stdout"
        }
      ]
    },
    {
      "metadata": {
        "id": "qxn4uSdq-c2H",
        "colab_type": "code",
        "colab": {
          "autoexec": {
            "startup": false,
            "wait_interval": 0
          }
        }
      },
      "cell_type": "code",
      "source": [
        "#save the image file path (this is for get the INDEX images)\n",
        "files_train = train_generator.filenames\n",
        "files_test = validation_generator.filenames"
      ],
      "execution_count": 0,
      "outputs": []
    },
    {
      "metadata": {
        "id": "qvWYJCEgPyJZ",
        "colab_type": "code",
        "colab": {
          "autoexec": {
            "startup": false,
            "wait_interval": 0
          },
          "base_uri": "https://localhost:8080/",
          "height": 107
        },
        "outputId": "e749e945-f4c4-4cb9-a12c-33b9ee142b45",
        "executionInfo": {
          "status": "ok",
          "timestamp": 1532183414921,
          "user_tz": 300,
          "elapsed": 391,
          "user": {
            "displayName": "carolina Torres",
            "photoUrl": "//lh3.googleusercontent.com/-Myr7t3FBZJ0/AAAAAAAAAAI/AAAAAAAAAAk/sRRDKExxq_w/s50-c-k-no/photo.jpg",
            "userId": "103001663480388798882"
          }
        }
      },
      "cell_type": "code",
      "source": [
        "files_train[:5]"
      ],
      "execution_count": 0,
      "outputs": [
        {
          "output_type": "execute_result",
          "data": {
            "text/plain": [
              "['train/1915.jpeg',\n",
              " 'train/1916.jpeg',\n",
              " 'train/1918.jpeg',\n",
              " 'train/1919.jpeg',\n",
              " 'train/192.jpeg']"
            ]
          },
          "metadata": {
            "tags": []
          },
          "execution_count": 31
        }
      ]
    },
    {
      "metadata": {
        "id": "LLgllpjXUnxU",
        "colab_type": "text"
      },
      "cell_type": "markdown",
      "source": [
        "get the index from path images\n"
      ]
    },
    {
      "metadata": {
        "id": "5Na4qfMXa_9i",
        "colab_type": "code",
        "colab": {
          "autoexec": {
            "startup": false,
            "wait_interval": 0
          }
        }
      },
      "cell_type": "code",
      "source": [
        "files_train = [w.replace('train/', '') for w in files_train]\n",
        "files_train = [w.replace('.jpeg', '') for w in files_train]\n",
        "\n",
        "files_test = [w.replace('train/', '') for w in files_test]\n",
        "files_test = [w.replace('.jpeg', '') for w in files_test]"
      ],
      "execution_count": 0,
      "outputs": []
    },
    {
      "metadata": {
        "id": "OxR6p1UCUt_A",
        "colab_type": "text"
      },
      "cell_type": "markdown",
      "source": [
        "then we have the index images, to relate the description and genres\n"
      ]
    },
    {
      "metadata": {
        "id": "cp1RCSS_P_by",
        "colab_type": "code",
        "colab": {
          "autoexec": {
            "startup": false,
            "wait_interval": 0
          },
          "base_uri": "https://localhost:8080/",
          "height": 35
        },
        "outputId": "1bc436a0-fb8f-4aa0-9805-35d020de954e",
        "executionInfo": {
          "status": "ok",
          "timestamp": 1532183451827,
          "user_tz": 300,
          "elapsed": 451,
          "user": {
            "displayName": "carolina Torres",
            "photoUrl": "//lh3.googleusercontent.com/-Myr7t3FBZJ0/AAAAAAAAAAI/AAAAAAAAAAk/sRRDKExxq_w/s50-c-k-no/photo.jpg",
            "userId": "103001663480388798882"
          }
        }
      },
      "cell_type": "code",
      "source": [
        "files_train[:5]"
      ],
      "execution_count": 0,
      "outputs": [
        {
          "output_type": "execute_result",
          "data": {
            "text/plain": [
              "['1915', '1916', '1918', '1919', '192']"
            ]
          },
          "metadata": {
            "tags": []
          },
          "execution_count": 33
        }
      ]
    },
    {
      "metadata": {
        "id": "QiJnF9aSUyVB",
        "colab_type": "text"
      },
      "cell_type": "markdown",
      "source": [
        "We get the information related to each image in the order of flow_from_directory load\n"
      ]
    },
    {
      "metadata": {
        "id": "Z-fmC2PnbLLd",
        "colab_type": "code",
        "colab": {
          "autoexec": {
            "startup": false,
            "wait_interval": 0
          },
          "base_uri": "https://localhost:8080/",
          "height": 204
        },
        "outputId": "1493a242-0018-4efd-c72f-baebb45e2077",
        "executionInfo": {
          "status": "ok",
          "timestamp": 1532183604582,
          "user_tz": 300,
          "elapsed": 36849,
          "user": {
            "displayName": "carolina Torres",
            "photoUrl": "//lh3.googleusercontent.com/-Myr7t3FBZJ0/AAAAAAAAAAI/AAAAAAAAAAk/sRRDKExxq_w/s50-c-k-no/photo.jpg",
            "userId": "103001663480388798882"
          }
        }
      },
      "cell_type": "code",
      "source": [
        "y_train = pd.DataFrame()\n",
        "y_test = pd.DataFrame()\n",
        "\n",
        "for i in files_train:\n",
        "  y_train = y_train.append(dataTraining.loc[int(i)])\n",
        "\n",
        "for i in files_test:\n",
        "  y_test = y_test.append(dataTraining.loc[int(i)])\n",
        "  \n",
        "y_train.head()\n"
      ],
      "execution_count": 0,
      "outputs": [
        {
          "output_type": "execute_result",
          "data": {
            "text/html": [
              "<div>\n",
              "<style scoped>\n",
              "    .dataframe tbody tr th:only-of-type {\n",
              "        vertical-align: middle;\n",
              "    }\n",
              "\n",
              "    .dataframe tbody tr th {\n",
              "        vertical-align: top;\n",
              "    }\n",
              "\n",
              "    .dataframe thead th {\n",
              "        text-align: right;\n",
              "    }\n",
              "</style>\n",
              "<table border=\"1\" class=\"dataframe\">\n",
              "  <thead>\n",
              "    <tr style=\"text-align: right;\">\n",
              "      <th></th>\n",
              "      <th>genres</th>\n",
              "      <th>plot</th>\n",
              "      <th>rating</th>\n",
              "      <th>title</th>\n",
              "      <th>year</th>\n",
              "    </tr>\n",
              "  </thead>\n",
              "  <tbody>\n",
              "    <tr>\n",
              "      <th>1915</th>\n",
              "      <td>['Crime', 'Drama', 'Thriller']</td>\n",
              "      <td>cosmo vitelli owns the crazy horse west ,  a s...</td>\n",
              "      <td>7.5</td>\n",
              "      <td>The Killing of a Chinese Bookie</td>\n",
              "      <td>1976.0</td>\n",
              "    </tr>\n",
              "    <tr>\n",
              "      <th>1916</th>\n",
              "      <td>['Short']</td>\n",
              "      <td>the sound has been found in the form of an old...</td>\n",
              "      <td>6.8</td>\n",
              "      <td>Dickson Experimental Sound Film</td>\n",
              "      <td>1894.0</td>\n",
              "    </tr>\n",
              "    <tr>\n",
              "      <th>1918</th>\n",
              "      <td>['Documentary', 'Crime']</td>\n",
              "      <td>set in  N  on the inner - city streets of oakl...</td>\n",
              "      <td>6.7</td>\n",
              "      <td>Cocaine Cowboys 2</td>\n",
              "      <td>2008.0</td>\n",
              "    </tr>\n",
              "    <tr>\n",
              "      <th>1919</th>\n",
              "      <td>['Drama', 'Music', 'Romance']</td>\n",
              "      <td>honey daniels is a  N  - year - old ,  sexy , ...</td>\n",
              "      <td>5.3</td>\n",
              "      <td>Honey</td>\n",
              "      <td>2003.0</td>\n",
              "    </tr>\n",
              "    <tr>\n",
              "      <th>192</th>\n",
              "      <td>['Action', 'Comedy', 'Fantasy']</td>\n",
              "      <td>an ancient scroll that ,  when recited out lou...</td>\n",
              "      <td>5.5</td>\n",
              "      <td>Bulletproof Monk</td>\n",
              "      <td>2003.0</td>\n",
              "    </tr>\n",
              "  </tbody>\n",
              "</table>\n",
              "</div>"
            ],
            "text/plain": [
              "                               genres  \\\n",
              "1915   ['Crime', 'Drama', 'Thriller']   \n",
              "1916                        ['Short']   \n",
              "1918         ['Documentary', 'Crime']   \n",
              "1919    ['Drama', 'Music', 'Romance']   \n",
              "192   ['Action', 'Comedy', 'Fantasy']   \n",
              "\n",
              "                                                   plot  rating  \\\n",
              "1915  cosmo vitelli owns the crazy horse west ,  a s...     7.5   \n",
              "1916  the sound has been found in the form of an old...     6.8   \n",
              "1918  set in  N  on the inner - city streets of oakl...     6.7   \n",
              "1919  honey daniels is a  N  - year - old ,  sexy , ...     5.3   \n",
              "192   an ancient scroll that ,  when recited out lou...     5.5   \n",
              "\n",
              "                                title    year  \n",
              "1915  The Killing of a Chinese Bookie  1976.0  \n",
              "1916  Dickson Experimental Sound Film  1894.0  \n",
              "1918                Cocaine Cowboys 2  2008.0  \n",
              "1919                            Honey  2003.0  \n",
              "192                  Bulletproof Monk  2003.0  "
            ]
          },
          "metadata": {
            "tags": []
          },
          "execution_count": 34
        }
      ]
    },
    {
      "metadata": {
        "id": "Bs1HwxvtoL26",
        "colab_type": "code",
        "colab": {
          "autoexec": {
            "startup": false,
            "wait_interval": 0
          },
          "base_uri": "https://localhost:8080/",
          "height": 222
        },
        "outputId": "692af31e-121a-4ec7-aa84-af1c6c6f1c4f",
        "executionInfo": {
          "status": "ok",
          "timestamp": 1532183650291,
          "user_tz": 300,
          "elapsed": 438,
          "user": {
            "displayName": "carolina Torres",
            "photoUrl": "//lh3.googleusercontent.com/-Myr7t3FBZJ0/AAAAAAAAAAI/AAAAAAAAAAk/sRRDKExxq_w/s50-c-k-no/photo.jpg",
            "userId": "103001663480388798882"
          }
        }
      },
      "cell_type": "code",
      "source": [
        "print(y_test.shape)\n",
        "y_test.head()"
      ],
      "execution_count": 0,
      "outputs": [
        {
          "output_type": "stream",
          "text": [
            "(1579, 5)\n"
          ],
          "name": "stdout"
        },
        {
          "output_type": "execute_result",
          "data": {
            "text/html": [
              "<div>\n",
              "<style scoped>\n",
              "    .dataframe tbody tr th:only-of-type {\n",
              "        vertical-align: middle;\n",
              "    }\n",
              "\n",
              "    .dataframe tbody tr th {\n",
              "        vertical-align: top;\n",
              "    }\n",
              "\n",
              "    .dataframe thead th {\n",
              "        text-align: right;\n",
              "    }\n",
              "</style>\n",
              "<table border=\"1\" class=\"dataframe\">\n",
              "  <thead>\n",
              "    <tr style=\"text-align: right;\">\n",
              "      <th></th>\n",
              "      <th>genres</th>\n",
              "      <th>plot</th>\n",
              "      <th>rating</th>\n",
              "      <th>title</th>\n",
              "      <th>year</th>\n",
              "    </tr>\n",
              "  </thead>\n",
              "  <tbody>\n",
              "    <tr>\n",
              "      <th>0</th>\n",
              "      <td>['Adventure', 'Comedy', 'Family']</td>\n",
              "      <td>major benson winifred payne is being discharge...</td>\n",
              "      <td>6.1</td>\n",
              "      <td>Major Payne</td>\n",
              "      <td>1995.0</td>\n",
              "    </tr>\n",
              "    <tr>\n",
              "      <th>10</th>\n",
              "      <td>['Drama', 'History']</td>\n",
              "      <td>in  N th - century china ,  seven year old gir...</td>\n",
              "      <td>6.1</td>\n",
              "      <td>Snow Flower and the Secret Fan</td>\n",
              "      <td>2011.0</td>\n",
              "    </tr>\n",
              "    <tr>\n",
              "      <th>100</th>\n",
              "      <td>['Drama', 'Mystery', 'Thriller']</td>\n",
              "      <td>in  N  new orleans ,  dr .  john cukrowicz ,  ...</td>\n",
              "      <td>7.7</td>\n",
              "      <td>Suddenly, Last Summer</td>\n",
              "      <td>1959.0</td>\n",
              "    </tr>\n",
              "    <tr>\n",
              "      <th>10000</th>\n",
              "      <td>['Comedy', 'Crime', 'Drama', 'Sci-Fi']</td>\n",
              "      <td>in the near future ,  frank is a retired catbu...</td>\n",
              "      <td>7.1</td>\n",
              "      <td>Robot &amp; Frank</td>\n",
              "      <td>2012.0</td>\n",
              "    </tr>\n",
              "    <tr>\n",
              "      <th>10001</th>\n",
              "      <td>['Comedy']</td>\n",
              "      <td>in los angeles ,  a depressed writer named sol...</td>\n",
              "      <td>6.4</td>\n",
              "      <td>The Dog Problem</td>\n",
              "      <td>2006.0</td>\n",
              "    </tr>\n",
              "  </tbody>\n",
              "</table>\n",
              "</div>"
            ],
            "text/plain": [
              "                                       genres  \\\n",
              "0           ['Adventure', 'Comedy', 'Family']   \n",
              "10                       ['Drama', 'History']   \n",
              "100          ['Drama', 'Mystery', 'Thriller']   \n",
              "10000  ['Comedy', 'Crime', 'Drama', 'Sci-Fi']   \n",
              "10001                              ['Comedy']   \n",
              "\n",
              "                                                    plot  rating  \\\n",
              "0      major benson winifred payne is being discharge...     6.1   \n",
              "10     in  N th - century china ,  seven year old gir...     6.1   \n",
              "100    in  N  new orleans ,  dr .  john cukrowicz ,  ...     7.7   \n",
              "10000  in the near future ,  frank is a retired catbu...     7.1   \n",
              "10001  in los angeles ,  a depressed writer named sol...     6.4   \n",
              "\n",
              "                                title    year  \n",
              "0                         Major Payne  1995.0  \n",
              "10     Snow Flower and the Secret Fan  2011.0  \n",
              "100             Suddenly, Last Summer  1959.0  \n",
              "10000                   Robot & Frank  2012.0  \n",
              "10001                 The Dog Problem  2006.0  "
            ]
          },
          "metadata": {
            "tags": []
          },
          "execution_count": 35
        }
      ]
    },
    {
      "metadata": {
        "id": "iQ2gxDz0VsCr",
        "colab_type": "text"
      },
      "cell_type": "markdown",
      "source": [
        "The following codes were used for save images convolutinated for test and training, the shape necesary for merge with VGG16 pre-trained was (7,7,512)"
      ]
    },
    {
      "metadata": {
        "id": "OQecON_WIPDy",
        "colab_type": "code",
        "colab": {
          "autoexec": {
            "startup": false,
            "wait_interval": 0
          }
        }
      },
      "cell_type": "code",
      "source": [
        "#getting convolutionated the images (TRAIN) \n",
        "bottleneck_features_train = model.predict_generator(train_generator)"
      ],
      "execution_count": 0,
      "outputs": []
    },
    {
      "metadata": {
        "id": "2GYhG2EaEhbe",
        "colab_type": "code",
        "colab": {
          "autoexec": {
            "startup": false,
            "wait_interval": 0
          },
          "base_uri": "https://localhost:8080/",
          "height": 35
        },
        "outputId": "4926649c-d5df-4012-83b2-b6db0f79650d",
        "executionInfo": {
          "status": "ok",
          "timestamp": 1532183955255,
          "user_tz": 300,
          "elapsed": 549,
          "user": {
            "displayName": "carolina Torres",
            "photoUrl": "//lh3.googleusercontent.com/-Myr7t3FBZJ0/AAAAAAAAAAI/AAAAAAAAAAk/sRRDKExxq_w/s50-c-k-no/photo.jpg",
            "userId": "103001663480388798882"
          }
        }
      },
      "cell_type": "code",
      "source": [
        "#We convulationated train images to 7,7,512\n",
        "bottleneck_features_train.shape"
      ],
      "execution_count": 0,
      "outputs": [
        {
          "output_type": "execute_result",
          "data": {
            "text/plain": [
              "(6316, 7, 7, 512)"
            ]
          },
          "metadata": {
            "tags": []
          },
          "execution_count": 41
        }
      ]
    },
    {
      "metadata": {
        "id": "HsIMrqja-GHf",
        "colab_type": "code",
        "colab": {
          "autoexec": {
            "startup": false,
            "wait_interval": 0
          }
        }
      },
      "cell_type": "code",
      "source": [
        "#getting convolutionated the images (TEST)\n",
        "bottleneck_features_validation = model.predict_generator(validation_generator)"
      ],
      "execution_count": 0,
      "outputs": []
    },
    {
      "metadata": {
        "id": "c1eZTnRjJ9cj",
        "colab_type": "code",
        "colab": {
          "autoexec": {
            "startup": false,
            "wait_interval": 0
          },
          "base_uri": "https://localhost:8080/",
          "height": 35
        },
        "outputId": "067e8a30-ae23-4878-f660-fff7951c9acc",
        "executionInfo": {
          "status": "ok",
          "timestamp": 1532184002993,
          "user_tz": 300,
          "elapsed": 351,
          "user": {
            "displayName": "carolina Torres",
            "photoUrl": "//lh3.googleusercontent.com/-Myr7t3FBZJ0/AAAAAAAAAAI/AAAAAAAAAAk/sRRDKExxq_w/s50-c-k-no/photo.jpg",
            "userId": "103001663480388798882"
          }
        }
      },
      "cell_type": "code",
      "source": [
        "#We convulationated test images to 7,7,512\n",
        "bottleneck_features_validation.shape"
      ],
      "execution_count": 0,
      "outputs": [
        {
          "output_type": "execute_result",
          "data": {
            "text/plain": [
              "(1579, 7, 7, 512)"
            ]
          },
          "metadata": {
            "tags": []
          },
          "execution_count": 43
        }
      ]
    },
    {
      "metadata": {
        "id": "yg5foZHB2tQe",
        "colab_type": "code",
        "colab": {
          "autoexec": {
            "startup": false,
            "wait_interval": 0
          },
          "base_uri": "https://localhost:8080/",
          "height": 143
        },
        "outputId": "995bcb8c-6d66-474b-b719-b25678be129a",
        "executionInfo": {
          "status": "ok",
          "timestamp": 1532184003775,
          "user_tz": 300,
          "elapsed": 557,
          "user": {
            "displayName": "carolina Torres",
            "photoUrl": "//lh3.googleusercontent.com/-Myr7t3FBZJ0/AAAAAAAAAAI/AAAAAAAAAAk/sRRDKExxq_w/s50-c-k-no/photo.jpg",
            "userId": "103001663480388798882"
          }
        }
      },
      "cell_type": "code",
      "source": [
        "#Building the response data in One Hot Encode Sequence\n",
        "le = MultiLabelBinarizer()\n",
        "y_train_genres = le.fit_transform(y_train['genres'].map(lambda x: eval(x)))\n",
        "y_test_genres = le.fit_transform(y_test['genres'].map(lambda x: eval(x)))\n",
        "y_train_genres"
      ],
      "execution_count": 0,
      "outputs": [
        {
          "output_type": "execute_result",
          "data": {
            "text/plain": [
              "array([[0, 0, 0, ..., 1, 0, 0],\n",
              "       [0, 0, 0, ..., 0, 0, 0],\n",
              "       [0, 0, 0, ..., 0, 0, 0],\n",
              "       ...,\n",
              "       [0, 0, 0, ..., 1, 0, 0],\n",
              "       [0, 0, 0, ..., 0, 0, 0],\n",
              "       [0, 0, 0, ..., 1, 0, 0]])"
            ]
          },
          "metadata": {
            "tags": []
          },
          "execution_count": 44
        }
      ]
    },
    {
      "metadata": {
        "id": "fERZXQXB4RrP",
        "colab_type": "text"
      },
      "cell_type": "markdown",
      "source": [
        "##Images convolution with training and test forder for final prediction\n",
        "With all test images, create the dictionary to convolutionate in batches with flow_from_directory.\n",
        "\n",
        "resize images to 224X224 pixeles\n"
      ]
    },
    {
      "metadata": {
        "id": "GHri-Ai4AfWl",
        "colab_type": "code",
        "colab": {
          "autoexec": {
            "startup": false,
            "wait_interval": 0
          },
          "base_uri": "https://localhost:8080/",
          "height": 35
        },
        "outputId": "85471f3f-0d92-49b7-a083-a120ee1ea343",
        "executionInfo": {
          "status": "ok",
          "timestamp": 1532184330339,
          "user_tz": 300,
          "elapsed": 100031,
          "user": {
            "displayName": "carolina Torres",
            "photoUrl": "//lh3.googleusercontent.com/-Myr7t3FBZJ0/AAAAAAAAAAI/AAAAAAAAAAk/sRRDKExxq_w/s50-c-k-no/photo.jpg",
            "userId": "103001663480388798882"
          }
        }
      },
      "cell_type": "code",
      "source": [
        "import numpy as np\n",
        "from keras.preprocessing.image import ImageDataGenerator\n",
        "from keras.models import Sequential\n",
        "from keras.layers import Dropout, Flatten, Dense\n",
        "from keras import applications\n",
        "\n",
        "\n",
        "# dimensions of our images.\n",
        "img_width, img_height = 224, 224\n",
        "\n",
        "top_model_weights_path = 'bottleneck_fc_model.h5'\n",
        "train_data_dir = 'DL/data/images'\n",
        "validation_data_dir = 'DL/data/img'\n",
        "nb_train_samples = 7895\n",
        "nb_validation_samples = 3383\n",
        "epochs = 50\n",
        "batch_size = 64\n",
        "\n",
        "datagen = ImageDataGenerator(rescale=1. / 255)\n",
        "\n",
        "# # build the MobileNet network\n",
        "# model = applications.MobileNet(include_top=False, weights='imagenet'\n",
        "#                                , input_shape=(img_width, img_height, 3))\n",
        "\n",
        "\n",
        "generator = datagen.flow_from_directory(\n",
        "    validation_data_dir,\n",
        "    target_size=(img_width, img_height),\n",
        "    batch_size=batch_size,\n",
        "    class_mode=None,\n",
        "    shuffle=False)\n",
        "\n",
        "bottleneck_features_validation2 = model.predict_generator(\n",
        "    generator)\n",
        "# np.save('bottleneck_features_validation.npy',\n",
        "#         bottleneck_features_validation\n",
        "\n"
      ],
      "execution_count": 0,
      "outputs": [
        {
          "output_type": "stream",
          "text": [
            "Found 3383 images belonging to 1 classes.\n"
          ],
          "name": "stdout"
        }
      ]
    },
    {
      "metadata": {
        "id": "zIrehsqzy_yH",
        "colab_type": "code",
        "colab": {
          "autoexec": {
            "startup": false,
            "wait_interval": 0
          },
          "base_uri": "https://localhost:8080/",
          "height": 215
        },
        "outputId": "db4a8555-ef16-466f-e06f-3ec9d483ef09",
        "executionInfo": {
          "status": "ok",
          "timestamp": 1532184332371,
          "user_tz": 300,
          "elapsed": 1683,
          "user": {
            "displayName": "carolina Torres",
            "photoUrl": "//lh3.googleusercontent.com/-Myr7t3FBZJ0/AAAAAAAAAAI/AAAAAAAAAAk/sRRDKExxq_w/s50-c-k-no/photo.jpg",
            "userId": "103001663480388798882"
          }
        }
      },
      "cell_type": "code",
      "source": [
        "#get the images indexes\n",
        "print(bottleneck_features_validation2.shape)\n",
        "\n",
        "files_test2 = generator.filenames\n",
        "\n",
        "files_test2 = [w.replace('test/', '') for w in files_test2]\n",
        "files_test2 = [w.replace('.jpeg', '') for w in files_test2]\n",
        "files_test2[:10]"
      ],
      "execution_count": 0,
      "outputs": [
        {
          "output_type": "stream",
          "text": [
            "(3383, 7, 7, 512)\n"
          ],
          "name": "stdout"
        },
        {
          "output_type": "execute_result",
          "data": {
            "text/plain": [
              "['1',\n",
              " '1000',\n",
              " '10002',\n",
              " '10003',\n",
              " '10009',\n",
              " '10011',\n",
              " '10013',\n",
              " '10015',\n",
              " '10016',\n",
              " '10019']"
            ]
          },
          "metadata": {
            "tags": []
          },
          "execution_count": 46
        }
      ]
    },
    {
      "metadata": {
        "id": "jUZr1ZDYYF5l",
        "colab_type": "text"
      },
      "cell_type": "markdown",
      "source": [
        "With all train images, create the dictionary to convolutionate in batches with flow_from_directory.\n",
        "resize images to 224X224 pixeles"
      ]
    },
    {
      "metadata": {
        "id": "FyInF1_Uy3Ho",
        "colab_type": "code",
        "colab": {
          "autoexec": {
            "startup": false,
            "wait_interval": 0
          },
          "base_uri": "https://localhost:8080/",
          "height": 35
        },
        "outputId": "1f56bacd-6faa-4bec-dfcc-998cedc3e461",
        "executionInfo": {
          "status": "ok",
          "timestamp": 1532184528933,
          "user_tz": 300,
          "elapsed": 195732,
          "user": {
            "displayName": "carolina Torres",
            "photoUrl": "//lh3.googleusercontent.com/-Myr7t3FBZJ0/AAAAAAAAAAI/AAAAAAAAAAk/sRRDKExxq_w/s50-c-k-no/photo.jpg",
            "userId": "103001663480388798882"
          }
        }
      },
      "cell_type": "code",
      "source": [
        "generator = datagen.flow_from_directory(\n",
        "    train_data_dir,\n",
        "    target_size=(img_width, img_height),\n",
        "    batch_size=batch_size,\n",
        "    class_mode=None,\n",
        "    shuffle=False)\n",
        "\n",
        "bottleneck_features_train2 = model.predict_generator(\n",
        "    generator)\n",
        "# np.save('bottleneck_features_train.npy',\n",
        "#         bottleneck_features_train)"
      ],
      "execution_count": 0,
      "outputs": [
        {
          "output_type": "stream",
          "text": [
            "Found 7895 images belonging to 1 classes.\n"
          ],
          "name": "stdout"
        }
      ]
    },
    {
      "metadata": {
        "id": "60xM9N3AJocM",
        "colab_type": "code",
        "colab": {
          "autoexec": {
            "startup": false,
            "wait_interval": 0
          },
          "base_uri": "https://localhost:8080/",
          "height": 215
        },
        "outputId": "68f1dd14-04b7-420e-8b50-340d7689f3da",
        "executionInfo": {
          "status": "ok",
          "timestamp": 1532184529605,
          "user_tz": 300,
          "elapsed": 495,
          "user": {
            "displayName": "carolina Torres",
            "photoUrl": "//lh3.googleusercontent.com/-Myr7t3FBZJ0/AAAAAAAAAAI/AAAAAAAAAAk/sRRDKExxq_w/s50-c-k-no/photo.jpg",
            "userId": "103001663480388798882"
          }
        }
      },
      "cell_type": "code",
      "source": [
        "#getting the images indexes\n",
        "print(bottleneck_features_train2.shape)\n",
        "files_train2 = generator.filenames\n",
        "\n",
        "files_train2 = [w.replace('train/', '') for w in files_train2]\n",
        "files_train2 = [w.replace('.jpeg', '') for w in files_train2]\n",
        "files_train2[:10]"
      ],
      "execution_count": 0,
      "outputs": [
        {
          "output_type": "stream",
          "text": [
            "(7895, 7, 7, 512)\n"
          ],
          "name": "stdout"
        },
        {
          "output_type": "execute_result",
          "data": {
            "text/plain": [
              "['0',\n",
              " '10',\n",
              " '100',\n",
              " '10000',\n",
              " '10001',\n",
              " '10004',\n",
              " '10005',\n",
              " '10006',\n",
              " '10007',\n",
              " '10008']"
            ]
          },
          "metadata": {
            "tags": []
          },
          "execution_count": 48
        }
      ]
    },
    {
      "metadata": {
        "id": "te51jMUav4_W",
        "colab_type": "code",
        "colab": {
          "autoexec": {
            "startup": false,
            "wait_interval": 0
          }
        }
      },
      "cell_type": "code",
      "source": [
        "#we get the information related to each image in the order of flow_from_directory load\n",
        "y_genres = pd.DataFrame()\n",
        "  \n",
        "for i in files_train2:\n",
        "  y_genres = y_genres.append(dataTraining.loc[[int(i)]])\n",
        "  "
      ],
      "execution_count": 0,
      "outputs": []
    },
    {
      "metadata": {
        "id": "Axcl6p9axLSC",
        "colab_type": "code",
        "colab": {
          "autoexec": {
            "startup": false,
            "wait_interval": 0
          },
          "base_uri": "https://localhost:8080/",
          "height": 143
        },
        "outputId": "00121916-7ba8-4169-be20-b987b717dcf3",
        "executionInfo": {
          "status": "ok",
          "timestamp": 1532185094623,
          "user_tz": 300,
          "elapsed": 372,
          "user": {
            "displayName": "carolina Torres",
            "photoUrl": "//lh3.googleusercontent.com/-Myr7t3FBZJ0/AAAAAAAAAAI/AAAAAAAAAAk/sRRDKExxq_w/s50-c-k-no/photo.jpg",
            "userId": "103001663480388798882"
          }
        }
      },
      "cell_type": "code",
      "source": [
        "#Building the response data (gender) in One Hot Encode Sequence\n",
        "le = MultiLabelBinarizer()\n",
        "y_genres2 = le.fit_transform(y_genres['genres'].map(lambda x: eval(x)))\n",
        "y_genres2"
      ],
      "execution_count": 0,
      "outputs": [
        {
          "output_type": "execute_result",
          "data": {
            "text/plain": [
              "array([[0, 1, 0, ..., 0, 0, 0],\n",
              "       [0, 0, 0, ..., 0, 0, 0],\n",
              "       [0, 0, 0, ..., 1, 0, 0],\n",
              "       ...,\n",
              "       [0, 0, 0, ..., 1, 0, 0],\n",
              "       [0, 0, 0, ..., 0, 0, 0],\n",
              "       [0, 0, 0, ..., 1, 0, 0]])"
            ]
          },
          "metadata": {
            "tags": []
          },
          "execution_count": 51
        }
      ]
    },
    {
      "metadata": {
        "id": "c-L0yE4WFv6C",
        "colab_type": "text"
      },
      "cell_type": "markdown",
      "source": [
        "##NLP for movies description\n",
        "\n",
        "Get the movies index in the same way as the movies order\n"
      ]
    },
    {
      "metadata": {
        "id": "e6lQHL8tR22Y",
        "colab_type": "code",
        "colab": {
          "autoexec": {
            "startup": false,
            "wait_interval": 0
          },
          "base_uri": "https://localhost:8080/",
          "height": 204
        },
        "outputId": "4551c150-8d06-4fa1-e6a4-c0b0b2ff0267",
        "executionInfo": {
          "status": "ok",
          "timestamp": 1532185620217,
          "user_tz": 300,
          "elapsed": 47152,
          "user": {
            "displayName": "carolina Torres",
            "photoUrl": "//lh3.googleusercontent.com/-Myr7t3FBZJ0/AAAAAAAAAAI/AAAAAAAAAAk/sRRDKExxq_w/s50-c-k-no/photo.jpg",
            "userId": "103001663480388798882"
          }
        }
      },
      "cell_type": "code",
      "source": [
        "texto_test = pd.DataFrame()\n",
        "texto_train = pd.DataFrame()\n",
        "  \n",
        "for i in files_test2:\n",
        "  texto_test = texto_test.append(dataTesting.loc[int(i)])\n",
        "\n",
        "for i in files_train2:\n",
        "  texto_train = texto_train.append(dataTraining.loc[int(i)])\n",
        "\n",
        "texto_train.head()"
      ],
      "execution_count": 0,
      "outputs": [
        {
          "output_type": "execute_result",
          "data": {
            "text/html": [
              "<div>\n",
              "<style scoped>\n",
              "    .dataframe tbody tr th:only-of-type {\n",
              "        vertical-align: middle;\n",
              "    }\n",
              "\n",
              "    .dataframe tbody tr th {\n",
              "        vertical-align: top;\n",
              "    }\n",
              "\n",
              "    .dataframe thead th {\n",
              "        text-align: right;\n",
              "    }\n",
              "</style>\n",
              "<table border=\"1\" class=\"dataframe\">\n",
              "  <thead>\n",
              "    <tr style=\"text-align: right;\">\n",
              "      <th></th>\n",
              "      <th>genres</th>\n",
              "      <th>plot</th>\n",
              "      <th>rating</th>\n",
              "      <th>title</th>\n",
              "      <th>year</th>\n",
              "    </tr>\n",
              "  </thead>\n",
              "  <tbody>\n",
              "    <tr>\n",
              "      <th>0</th>\n",
              "      <td>['Adventure', 'Comedy', 'Family']</td>\n",
              "      <td>major benson winifred payne is being discharge...</td>\n",
              "      <td>6.1</td>\n",
              "      <td>Major Payne</td>\n",
              "      <td>1995.0</td>\n",
              "    </tr>\n",
              "    <tr>\n",
              "      <th>10</th>\n",
              "      <td>['Drama', 'History']</td>\n",
              "      <td>in  N th - century china ,  seven year old gir...</td>\n",
              "      <td>6.1</td>\n",
              "      <td>Snow Flower and the Secret Fan</td>\n",
              "      <td>2011.0</td>\n",
              "    </tr>\n",
              "    <tr>\n",
              "      <th>100</th>\n",
              "      <td>['Drama', 'Mystery', 'Thriller']</td>\n",
              "      <td>in  N  new orleans ,  dr .  john cukrowicz ,  ...</td>\n",
              "      <td>7.7</td>\n",
              "      <td>Suddenly, Last Summer</td>\n",
              "      <td>1959.0</td>\n",
              "    </tr>\n",
              "    <tr>\n",
              "      <th>10000</th>\n",
              "      <td>['Comedy', 'Crime', 'Drama', 'Sci-Fi']</td>\n",
              "      <td>in the near future ,  frank is a retired catbu...</td>\n",
              "      <td>7.1</td>\n",
              "      <td>Robot &amp; Frank</td>\n",
              "      <td>2012.0</td>\n",
              "    </tr>\n",
              "    <tr>\n",
              "      <th>10001</th>\n",
              "      <td>['Comedy']</td>\n",
              "      <td>in los angeles ,  a depressed writer named sol...</td>\n",
              "      <td>6.4</td>\n",
              "      <td>The Dog Problem</td>\n",
              "      <td>2006.0</td>\n",
              "    </tr>\n",
              "  </tbody>\n",
              "</table>\n",
              "</div>"
            ],
            "text/plain": [
              "                                       genres  \\\n",
              "0           ['Adventure', 'Comedy', 'Family']   \n",
              "10                       ['Drama', 'History']   \n",
              "100          ['Drama', 'Mystery', 'Thriller']   \n",
              "10000  ['Comedy', 'Crime', 'Drama', 'Sci-Fi']   \n",
              "10001                              ['Comedy']   \n",
              "\n",
              "                                                    plot  rating  \\\n",
              "0      major benson winifred payne is being discharge...     6.1   \n",
              "10     in  N th - century china ,  seven year old gir...     6.1   \n",
              "100    in  N  new orleans ,  dr .  john cukrowicz ,  ...     7.7   \n",
              "10000  in the near future ,  frank is a retired catbu...     7.1   \n",
              "10001  in los angeles ,  a depressed writer named sol...     6.4   \n",
              "\n",
              "                                title    year  \n",
              "0                         Major Payne  1995.0  \n",
              "10     Snow Flower and the Secret Fan  2011.0  \n",
              "100             Suddenly, Last Summer  1959.0  \n",
              "10000                   Robot & Frank  2012.0  \n",
              "10001                 The Dog Problem  2006.0  "
            ]
          },
          "metadata": {
            "tags": []
          },
          "execution_count": 52
        }
      ]
    },
    {
      "metadata": {
        "id": "gnnsogNuYu6r",
        "colab_type": "text"
      },
      "cell_type": "markdown",
      "source": [
        "For Vectorizing the movie description (plot), we use 1 n-gram and 2 n-gram and max features 30000, this parameters were optimizated in the machine learning prediction\n"
      ]
    },
    {
      "metadata": {
        "id": "rtO2iVerFyb3",
        "colab_type": "code",
        "colab": {
          "autoexec": {
            "startup": false,
            "wait_interval": 0
          },
          "base_uri": "https://localhost:8080/",
          "height": 53
        },
        "outputId": "e0fdbce4-4a4b-4614-dfd3-1f917e327aad",
        "executionInfo": {
          "status": "ok",
          "timestamp": 1532185738170,
          "user_tz": 300,
          "elapsed": 6078,
          "user": {
            "displayName": "carolina Torres",
            "photoUrl": "//lh3.googleusercontent.com/-Myr7t3FBZJ0/AAAAAAAAAAI/AAAAAAAAAAk/sRRDKExxq_w/s50-c-k-no/photo.jpg",
            "userId": "103001663480388798882"
          }
        }
      },
      "cell_type": "code",
      "source": [
        "from sklearn.feature_extraction.text import CountVectorizer\n",
        "\n",
        "vect = CountVectorizer(ngram_range=(1,2), max_features=30000)\n",
        "X_dtm_train = vect.fit_transform(texto_train['plot'])\n",
        "print(X_dtm_train.shape)\n",
        "\n",
        "X_dtm_test = vect.fit_transform(texto_test['plot'])\n",
        "print(X_dtm_test.shape)\n"
      ],
      "execution_count": 0,
      "outputs": [
        {
          "output_type": "stream",
          "text": [
            "(7895, 30000)\n",
            "(3383, 30000)\n"
          ],
          "name": "stdout"
        }
      ]
    },
    {
      "metadata": {
        "id": "s9HhHuS5Y-4j",
        "colab_type": "text"
      },
      "cell_type": "markdown",
      "source": [
        "first 50 features\n"
      ]
    },
    {
      "metadata": {
        "id": "-FwyhaTaYya_",
        "colab_type": "code",
        "colab": {
          "autoexec": {
            "startup": false,
            "wait_interval": 0
          },
          "base_uri": "https://localhost:8080/",
          "height": 55
        },
        "outputId": "c47f7c65-5c2f-4ae1-b36c-79185d69707e",
        "executionInfo": {
          "status": "ok",
          "timestamp": 1532185874463,
          "user_tz": 300,
          "elapsed": 428,
          "user": {
            "displayName": "carolina Torres",
            "photoUrl": "//lh3.googleusercontent.com/-Myr7t3FBZJ0/AAAAAAAAAAI/AAAAAAAAAAk/sRRDKExxq_w/s50-c-k-no/photo.jpg",
            "userId": "103001663480388798882"
          }
        }
      },
      "cell_type": "code",
      "source": [
        "print(vect.get_feature_names()[:50])"
      ],
      "execution_count": 0,
      "outputs": [
        {
          "output_type": "stream",
          "text": [
            "['aaron', 'abandon', 'abandoned', 'abandoned by', 'abandoning', 'abandonment', 'abandons', 'abarra', 'abby', 'abby and', 'abduct', 'abducted', 'abducted and', 'abducted by', 'abduction', 'abductions', 'abducts', 'abducts the', 'abe', 'abel', 'abhorrent', 'abide', 'abigail', 'abilities', 'abilities and', 'abilities to', 'ability', 'ability to', 'able', 'able to', 'aboard', 'aboard the', 'abortion', 'abound', 'about', 'about an', 'about her', 'about him', 'about himself', 'about his', 'about how', 'about is', 'about it', 'about life', 'about love', 'about something', 'about taking', 'about the', 'about their', 'about them']\n"
          ],
          "name": "stdout"
        }
      ]
    },
    {
      "metadata": {
        "id": "NhBSjhSNG7Bn",
        "colab_type": "code",
        "colab": {
          "autoexec": {
            "startup": false,
            "wait_interval": 0
          },
          "base_uri": "https://localhost:8080/",
          "height": 143
        },
        "outputId": "f6b7fa07-be9a-4c6c-8504-aa6c36e70bfb",
        "executionInfo": {
          "status": "ok",
          "timestamp": 1532190642989,
          "user_tz": 300,
          "elapsed": 429,
          "user": {
            "displayName": "carolina Torres",
            "photoUrl": "//lh3.googleusercontent.com/-Myr7t3FBZJ0/AAAAAAAAAAI/AAAAAAAAAAk/sRRDKExxq_w/s50-c-k-no/photo.jpg",
            "userId": "103001663480388798882"
          }
        }
      },
      "cell_type": "code",
      "source": [
        "#Building the response data (gender) in One Hot Encode Sequence\n",
        "le = MultiLabelBinarizer()\n",
        "y_genres1 = le.fit_transform(texto_train['genres'].map(lambda x: eval(x)))\n",
        "y_genres1"
      ],
      "execution_count": 0,
      "outputs": [
        {
          "output_type": "execute_result",
          "data": {
            "text/plain": [
              "array([[0, 1, 0, ..., 0, 0, 0],\n",
              "       [0, 0, 0, ..., 0, 0, 0],\n",
              "       [0, 0, 0, ..., 1, 0, 0],\n",
              "       ...,\n",
              "       [0, 0, 0, ..., 1, 0, 0],\n",
              "       [0, 0, 0, ..., 0, 0, 0],\n",
              "       [0, 0, 0, ..., 1, 0, 0]])"
            ]
          },
          "metadata": {
            "tags": []
          },
          "execution_count": 139
        }
      ]
    },
    {
      "metadata": {
        "id": "YuXL3Kxg8S1V",
        "colab_type": "text"
      },
      "cell_type": "markdown",
      "source": [
        "##Neural network combining transfer learning (Images) and natural language processing (Text)"
      ]
    },
    {
      "metadata": {
        "id": "zbbUaF1ia7w5",
        "colab_type": "code",
        "colab": {
          "autoexec": {
            "startup": false,
            "wait_interval": 0
          }
        }
      },
      "cell_type": "code",
      "source": [
        "!pip install pydot\n",
        "!apt-get -qq install -y graphviz && pip3 install -q pydot\n",
        "import pydot\n",
        "!pip3 install livelossplot"
      ],
      "execution_count": 0,
      "outputs": []
    },
    {
      "metadata": {
        "id": "OYvTxGsnZkoD",
        "colab_type": "text"
      },
      "cell_type": "markdown",
      "source": [
        "BUILDING THE NEURAL NETWORK MODEL \n"
      ]
    },
    {
      "metadata": {
        "id": "jCqIeX_H8YRm",
        "colab_type": "code",
        "colab": {
          "autoexec": {
            "startup": false,
            "wait_interval": 0
          },
          "base_uri": "https://localhost:8080/",
          "height": 377
        },
        "outputId": "f699f49d-5b6a-4d7a-813e-8df94ad4ee50",
        "executionInfo": {
          "status": "ok",
          "timestamp": 1532190923262,
          "user_tz": 300,
          "elapsed": 442,
          "user": {
            "displayName": "carolina Torres",
            "photoUrl": "//lh3.googleusercontent.com/-Myr7t3FBZJ0/AAAAAAAAAAI/AAAAAAAAAAk/sRRDKExxq_w/s50-c-k-no/photo.jpg",
            "userId": "103001663480388798882"
          }
        }
      },
      "cell_type": "code",
      "source": [
        "from keras.layers import Input, Embedding, Dense\n",
        "from keras.models import Model\n",
        "from keras.layers.merge import concatenate\n",
        "from keras.utils import plot_model\n",
        "from keras import optimizers\n",
        "from livelossplot import PlotLossesKeras\n",
        "\n",
        "model_P = Sequential()\n",
        "model_P.add(Flatten(input_shape=bottleneck_features_train.shape[1:]))\n",
        "model_P.add(Dense(1024, activation='relu')) #CAPA INTERMEDIA\n",
        "model_P.add(Dropout(0.5))\n",
        "model_P.add(Dense(256, activation='relu')) #CAPA INTERMEDIA\n",
        "#model_P.add(Dropout(0.1))\n",
        "\n",
        "\n",
        "model_T = Sequential()\n",
        "model_T.add(Dense(128, input_shape=(30000,),activation='relu', kernel_initializer='random_uniform'))\n",
        "model_T.add(Dropout(0.8)) #--0.95\n",
        "\n",
        "\n",
        "#imagen\n",
        "poster_input = Input(shape=(bottleneck_features_train.shape[1:]), name='video_input')\n",
        "encode_image = model_P(poster_input)\n",
        "\n",
        "#texto\n",
        "text_input = Input(shape=(30000,), name='texto_input')\n",
        "encode_text = model_T(text_input)\n",
        "\n",
        "\n",
        "merged = concatenate([encode_image, encode_text])\n",
        "\n",
        "# x = Dense(128, activation='relu')(x)\n",
        "# x = Dropout(0.5)(merged)\n",
        "\n",
        "output = Dense(24, activation='sigmoid')(merged)\n",
        "\n",
        "movies_model = Model(inputs=[poster_input,text_input], outputs=output)\n",
        "\n",
        "#plot_model(movies_model)\n",
        "movies_model.summary()\n"
      ],
      "execution_count": 0,
      "outputs": [
        {
          "output_type": "stream",
          "text": [
            "__________________________________________________________________________________________________\n",
            "Layer (type)                    Output Shape         Param #     Connected to                     \n",
            "==================================================================================================\n",
            "video_input (InputLayer)        (None, 7, 7, 512)    0                                            \n",
            "__________________________________________________________________________________________________\n",
            "texto_input (InputLayer)        (None, 30000)        0                                            \n",
            "__________________________________________________________________________________________________\n",
            "sequential_35 (Sequential)      (None, 256)          25953536    video_input[0][0]                \n",
            "__________________________________________________________________________________________________\n",
            "sequential_36 (Sequential)      (None, 128)          3840128     texto_input[0][0]                \n",
            "__________________________________________________________________________________________________\n",
            "concatenate_18 (Concatenate)    (None, 384)          0           sequential_35[1][0]              \n",
            "                                                                 sequential_36[1][0]              \n",
            "__________________________________________________________________________________________________\n",
            "dense_59 (Dense)                (None, 24)           9240        concatenate_18[0][0]             \n",
            "==================================================================================================\n",
            "Total params: 29,802,904\n",
            "Trainable params: 29,802,904\n",
            "Non-trainable params: 0\n",
            "__________________________________________________________________________________________________\n"
          ],
          "name": "stdout"
        }
      ]
    },
    {
      "metadata": {
        "id": "SQpWBvL3bHSV",
        "colab_type": "text"
      },
      "cell_type": "markdown",
      "source": [
        "TRAINING PLOT TEXT\n",
        "\n"
      ]
    },
    {
      "metadata": {
        "id": "zheR6Tg5cAkO",
        "colab_type": "code",
        "colab": {
          "autoexec": {
            "startup": false,
            "wait_interval": 0
          },
          "base_uri": "https://localhost:8080/",
          "height": 35
        },
        "outputId": "7dc4dd09-1242-4c31-e91c-7bab6a0c0f15",
        "executionInfo": {
          "status": "ok",
          "timestamp": 1532186648530,
          "user_tz": 300,
          "elapsed": 4238,
          "user": {
            "displayName": "carolina Torres",
            "photoUrl": "//lh3.googleusercontent.com/-Myr7t3FBZJ0/AAAAAAAAAAI/AAAAAAAAAAk/sRRDKExxq_w/s50-c-k-no/photo.jpg",
            "userId": "103001663480388798882"
          }
        }
      },
      "cell_type": "code",
      "source": [
        "from sklearn.feature_extraction.text import CountVectorizer\n",
        "\n",
        "vect = CountVectorizer(ngram_range=(1,2), max_features=30000)\n",
        "X_dtm_train1 = vect.fit_transform(y_train['plot'])\n",
        "print(X_dtm_train1.shape)\n",
        "\n",
        "X_dtm_test1 = vect.fit_transform(y_test['plot'])"
      ],
      "execution_count": 0,
      "outputs": [
        {
          "output_type": "stream",
          "text": [
            "(6316, 30000)\n"
          ],
          "name": "stdout"
        }
      ]
    },
    {
      "metadata": {
        "id": "baTlW3kJbOS9",
        "colab_type": "text"
      },
      "cell_type": "markdown",
      "source": [
        "We compiled the model with Adam Optimizer and Binary_Crossentropy with the following features.\n",
        "\n",
        "*keras.optimizers.Adam(lr=0.001, beta_1=0.9, beta_2=0.999, epsilon=None, decay=0.0, amsgrad=False)*\n",
        "\n",
        "Because the algorithm reaches the optimum too fast, the Adam Learning rate is decreased to 0.0001\n"
      ]
    },
    {
      "metadata": {
        "id": "jiQNJAod9H7-",
        "colab_type": "code",
        "colab": {
          "autoexec": {
            "startup": false,
            "wait_interval": 0
          },
          "base_uri": "https://localhost:8080/",
          "height": 344
        },
        "outputId": "07cb9fe0-97ad-4866-9a80-0a98209758ce",
        "executionInfo": {
          "status": "ok",
          "timestamp": 1532190446978,
          "user_tz": 300,
          "elapsed": 253,
          "user": {
            "displayName": "carolina Torres",
            "photoUrl": "//lh3.googleusercontent.com/-Myr7t3FBZJ0/AAAAAAAAAAI/AAAAAAAAAAk/sRRDKExxq_w/s50-c-k-no/photo.jpg",
            "userId": "103001663480388798882"
          }
        }
      },
      "cell_type": "code",
      "source": [
        "adam = optimizers.Adam(lr=0.0001)\n",
        "\n",
        "movies_model.compile(optimizer=adam,\n",
        "              loss='binary_crossentropy', metrics=['accuracy'], )\n",
        "\n",
        "epochs = 13 #--2\n",
        "batch_size = 32 \n",
        "\n",
        "movies_model.fit([bottleneck_features_train, X_dtm_train1], [y_train_genres],\n",
        "          epochs=epochs, batch_size=batch_size, callbacks=[PlotLossesKeras()],\n",
        "          verbose=0)"
      ],
      "execution_count": 0,
      "outputs": [
        {
          "output_type": "display_data",
          "data": {
            "image/png": "[encoded data removed]",
            "text/plain": [
              "<matplotlib.figure.Figure at 0x7f6feb67a438>"
            ]
          },
          "metadata": {
            "tags": []
          }
        },
        {
          "output_type": "execute_result",
          "data": {
            "text/plain": [
              "<keras.callbacks.History at 0x7f6feae50cc0>"
            ]
          },
          "metadata": {
            "tags": []
          },
          "execution_count": 135
        }
      ]
    },
    {
      "metadata": {
        "id": "2LicBgpGb3ww",
        "colab_type": "text"
      },
      "cell_type": "markdown",
      "source": [
        "Run the prediction with both TRAINING data, text and images\n"
      ]
    },
    {
      "metadata": {
        "id": "Cg4fyi-_ZUO4",
        "colab_type": "code",
        "colab": {
          "autoexec": {
            "startup": false,
            "wait_interval": 0
          }
        }
      },
      "cell_type": "code",
      "source": [
        "y_pred_test_genres = movies_model.predict([bottleneck_features_validation, X_dtm_test1])"
      ],
      "execution_count": 0,
      "outputs": []
    },
    {
      "metadata": {
        "id": "PyYdnx0LZUPA",
        "colab_type": "code",
        "colab": {
          "autoexec": {
            "startup": false,
            "wait_interval": 0
          },
          "base_uri": "https://localhost:8080/",
          "height": 35
        },
        "outputId": "5b4981a2-257d-4ec5-d0e0-bde4661fa82a",
        "executionInfo": {
          "status": "ok",
          "timestamp": 1532190449475,
          "user_tz": 300,
          "elapsed": 344,
          "user": {
            "displayName": "carolina Torres",
            "photoUrl": "//lh3.googleusercontent.com/-Myr7t3FBZJ0/AAAAAAAAAAI/AAAAAAAAAAk/sRRDKExxq_w/s50-c-k-no/photo.jpg",
            "userId": "103001663480388798882"
          }
        }
      },
      "cell_type": "code",
      "source": [
        "#Calculate the AUC\n",
        "roc_auc_score(y_test_genres, y_pred_test_genres, average='macro')\n"
      ],
      "execution_count": 0,
      "outputs": [
        {
          "output_type": "execute_result",
          "data": {
            "text/plain": [
              "0.7220864919352527"
            ]
          },
          "metadata": {
            "tags": []
          },
          "execution_count": 137
        }
      ]
    },
    {
      "metadata": {
        "id": "GW_epPGUb8M8",
        "colab_type": "text"
      },
      "cell_type": "markdown",
      "source": [
        "Some result with other features\n",
        "<br>\n",
        "<table>\n",
        "<tr>\n",
        "<th>$features$</th>\n",
        "<th>$AUC$</th>\n",
        "</tr>\n",
        "<tr>\n",
        "<td> NN256, adam, categorical, 20 ep</td>\n",
        "<td style=\"text-align:center\"> 0.70300</td>\n",
        "<td ></td>\n",
        "</tr>\n",
        "<tr>\n",
        "<td>NN256,adam, categorical, 10 ep</td>\n",
        "<td style=\"text-align:center\">0.70249</td>\n",
        "</tr>\n",
        "<tr>\n",
        "<td>NN256,adam, categorical, 40 ep</td>\n",
        "<td style=\"text-align:center\">0.68756</td>\n",
        "</tr>\n",
        "  <tr>\n",
        "<td>NN256,adam, categorical, 25 ep</td>\n",
        "<td style=\"text-align:center\">0.68924</td>\n",
        "</tr>\n",
        "  <tr>\n",
        "<td>NN128,adam, categorical, 15 ep</td>\n",
        "<td style=\"text-align:center\">0.69092</td>\n",
        "</tr>\n",
        "  <tr>\n",
        "<td>NN256,adam, binary, 10 ep</td>\n",
        "<td style=\"text-align:center\">0.70366</td>\n",
        "</tr>\n",
        "  <tr>\n",
        "<td>NN1024 128 24 </td>\n",
        "<td style=\"text-align:center\">0.68578</td>\n",
        "</tr>\n",
        "  <tr>\n",
        "<td>NN sin dropout</td>\n",
        "<td style=\"text-align:center\">0.70600</td>\n",
        "</tr>\n",
        "  <tr>\n",
        "<td>NN sin dropout 15 epch </td>\n",
        "<td style=\"text-align:center\">0.70397</td>\n",
        "</tr>\n",
        "  <tr>\n",
        "<td>NN sin dropout 5 epch</td>\n",
        "<td style=\"text-align:center\"> 0.71100</td>\n",
        "</tr>\n",
        "  <tr>\n",
        "<td>NNcomb 64 24</td>\n",
        "<td style=\"text-align:center\">0.68365</td>\n",
        "</tr>\n",
        "  <tr>\n",
        "<td>NNcomb 64relu</td>\n",
        "<td style=\"text-align:center\">0.68513</td>\n",
        "</tr>\n",
        "  <tr>\n",
        "<td>NN64softmax 0.5, drop 0.5, drop 0.7,  24</td>\n",
        "<td style=\"text-align:center\">0.69494</td>\n",
        "</tr>\n",
        "  <tr>\n",
        "<td>NN254 drop 0.5  drop 0.8</td>\n",
        "<td style=\"text-align:center\">0.70457</td>\n",
        "</tr>\n",
        "  <tr>\n",
        "<td>NN256 128 drop 0.95, 2 epoch</td>\n",
        "<td style=\"text-align:center\">0.72352</td>\n",
        "</tr>\n",
        "<tr>\n",
        "<td> Video 1024 d 0.5 256, img 128 d0.8; 10 epch; batch 32</td>\n",
        "<td style=\"text-align:center\">0.73021</td>\n",
        "</tr>\n",
        "</table>\n",
        "\n",
        " "
      ]
    },
    {
      "metadata": {
        "id": "ODxzRhEDEkKu",
        "colab_type": "code",
        "colab": {
          "autoexec": {
            "startup": false,
            "wait_interval": 0
          }
        }
      },
      "cell_type": "code",
      "source": [
        "#Finally, Fit model with both TEST data, text and images\n",
        "adam = optimizers.Adam(lr=0.0001)\n",
        "\n",
        "movies_model.compile(optimizer=adam,\n",
        "              loss='binary_crossentropy', metrics=['accuracy'])\n",
        "\n",
        "epochs = 13\n",
        "batch_size = 32\n",
        "\n",
        "movies_model.fit([bottleneck_features_train2, X_dtm_train], [y_genres1],\n",
        "          epochs=epochs, batch_size=batch_size, callbacks=[PlotLossesKeras()],\n",
        "          verbose=0)"
      ],
      "execution_count": 0,
      "outputs": []
    },
    {
      "metadata": {
        "id": "Z-PcOHbSMzD0",
        "colab_type": "code",
        "colab": {
          "autoexec": {
            "startup": false,
            "wait_interval": 0
          }
        }
      },
      "cell_type": "code",
      "source": [
        "#then predict the model with both TEST data, text and images\n",
        "\n",
        "cols = ['p_Action', 'p_Adventure', 'p_Animation', 'p_Biography', 'p_Comedy', 'p_Crime', 'p_Documentary', 'p_Drama', 'p_Family',\n",
        "        'p_Fantasy', 'p_Film-Noir', 'p_History', 'p_Horror', 'p_Music', 'p_Musical', 'p_Mystery', 'p_News', 'p_Romance',\n",
        "        'p_Sci-Fi', 'p_Short', 'p_Sport', 'p_Thriller', 'p_War', 'p_Western']\n",
        "\n",
        "y_pred_test_genres = movies_model.predict([bottleneck_features_validation2, X_dtm_test])\n",
        "\n",
        "pd.DataFrame(y_pred_test_genres, index=texto_test.index, columns=cols).to_csv('pred_genres_textvideo_6.csv', index_label='ID')"
      ],
      "execution_count": 0,
      "outputs": []
    },
    {
      "metadata": {
        "id": "cOBNBy2VPmwd",
        "colab_type": "code",
        "colab": {
          "autoexec": {
            "startup": false,
            "wait_interval": 0
          },
          "base_uri": "https://localhost:8080/",
          "height": 35
        },
        "outputId": "c3e1e0a6-5624-4530-a597-21e94c76dc2e",
        "executionInfo": {
          "status": "ok",
          "timestamp": 1532191117991,
          "user_tz": 300,
          "elapsed": 13687,
          "user": {
            "displayName": "carolina Torres",
            "photoUrl": "//lh3.googleusercontent.com/-Myr7t3FBZJ0/AAAAAAAAAAI/AAAAAAAAAAk/sRRDKExxq_w/s50-c-k-no/photo.jpg",
            "userId": "103001663480388798882"
          }
        }
      },
      "cell_type": "code",
      "source": [
        "#Upload resolts to KAGGLE\n",
        "!kaggle competitions submit -c miia4406-movie-genre-classification -f pred_genres_textvideo_6.csv -m \"DL TEXT AND VIDEO --- Video 1024 d 0.5 256, img 128 d0.8; 10 epch; batch 32 \""
      ],
      "execution_count": 0,
      "outputs": [
        {
          "output_type": "stream",
          "text": [
            "Successfully submitted to MIIA4406 - MOVIE GENRE CLASSIFICATION"
          ],
          "name": "stdout"
        }
      ]
    },
    {
      "metadata": {
        "id": "u86iGReTPmw0",
        "colab_type": "code",
        "colab": {
          "autoexec": {
            "startup": false,
            "wait_interval": 0
          }
        }
      },
      "cell_type": "code",
      "source": [
        "#Download the csv results\n",
        "from google.colab import files\n",
        "files.download('pred_genres_textvideo_6.csv')"
      ],
      "execution_count": 0,
      "outputs": []
    },
    {
      "metadata": {
        "id": "ZJGGr76AT7AN",
        "colab_type": "text"
      },
      "cell_type": "markdown",
      "source": [
        ""
      ]
    }
  ]
}