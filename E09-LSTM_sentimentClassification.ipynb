{
 "cells": [
  {
   "cell_type": "markdown",
   "metadata": {},
   "source": [
    "# Exercise 09\n",
    "Integrante 1: Andrea Carolina Parra López.................................................. Código: 201727740\n",
    "\n",
    "Integrante 2: Ricardo Andrés Medina Aponte............................................... Código: 201628949\n",
    "\n",
    "## Sequence Classification using LSTM\n",
    "\n",
    "Sequence classification is a predictive modeling problem where you have some sequence of inputs over space or time and the task is to predict a category for the sequence.\n",
    "\n",
    "What makes this problem difficult is that the sequences can vary in length, be comprised of a very large vocabulary of input symbols and may require the model to learn the long-term context or dependencies between symbols in the input sequence."
   ]
  },
  {
   "cell_type": "markdown",
   "metadata": {},
   "source": [
    "[The Large Movie Review Dataset](http://ai.stanford.edu/~amaas/data/sentiment/) (often referred to as the IMDB dataset) contains 25,000 highly-polar movie reviews (good or bad) for training and the same amount again for testing. The problem is to determine whether a given movie review has a positive or negative sentiment."
   ]
  },
  {
   "cell_type": "code",
   "execution_count": 23,
   "metadata": {},
   "outputs": [],
   "source": [
    "import numpy as np\n",
    "from keras.datasets import imdb\n",
    "from keras.models import Sequential\n",
    "from keras.layers import Dense, Dropout\n",
    "from keras.layers import LSTM\n",
    "from keras.layers.embeddings import Embedding\n",
    "from keras.preprocessing import sequence\n",
    "from keras.callbacks import History\n",
    "np.random.seed(7)"
   ]
  },
  {
   "cell_type": "code",
   "execution_count": 5,
   "metadata": {},
   "outputs": [],
   "source": [
    "from livelossplot import PlotLossesKeras\n",
    "%matplotlib inline"
   ]
  },
  {
   "cell_type": "code",
   "execution_count": 7,
   "metadata": {},
   "outputs": [
    {
     "name": "stdout",
     "output_type": "stream",
     "text": [
      "Downloading data from https://s3.amazonaws.com/text-datasets/imdb.npz\n",
      "17465344/17464789 [==============================] - 200s 11us/step\n"
     ]
    }
   ],
   "source": [
    "# load the dataset but only keep the top n words, zero the rest\n",
    "top_words = 5000\n",
    "index_from = 3\n",
    "(X_train, y_train), (X_test, y_test) = imdb.load_data(num_words=top_words, index_from=index_from)"
   ]
  },
  {
   "cell_type": "code",
   "execution_count": 8,
   "metadata": {},
   "outputs": [
    {
     "data": {
      "text/plain": [
       "1"
      ]
     },
     "execution_count": 8,
     "metadata": {},
     "output_type": "execute_result"
    }
   ],
   "source": [
    "y_train[0]"
   ]
  },
  {
   "cell_type": "code",
   "execution_count": 9,
   "metadata": {},
   "outputs": [
    {
     "data": {
      "text/plain": [
       "(1, 4999)"
      ]
     },
     "execution_count": 9,
     "metadata": {},
     "output_type": "execute_result"
    }
   ],
   "source": [
    "np.min([np.min(x) for x in X_train]), np.max([np.max(x) for x in X_train])"
   ]
  },
  {
   "cell_type": "markdown",
   "metadata": {},
   "source": [
    "The words have been replaced by integers that indicate the ordered frequency of each word in the dataset. The sentences in each review are therefore comprised of a sequence of integers."
   ]
  },
  {
   "cell_type": "code",
   "execution_count": 10,
   "metadata": {},
   "outputs": [
    {
     "data": {
      "text/plain": [
       "(25000,)"
      ]
     },
     "execution_count": 10,
     "metadata": {},
     "output_type": "execute_result"
    }
   ],
   "source": [
    "X_train.shape"
   ]
  },
  {
   "cell_type": "code",
   "execution_count": 11,
   "metadata": {},
   "outputs": [
    {
     "name": "stdout",
     "output_type": "stream",
     "text": [
      "[1, 14, 22, 16, 43, 530, 973, 1622, 1385, 65, 458, 4468, 66, 3941, 4, 173, 36, 256, 5, 25, 100, 43, 838, 112, 50, 670, 2, 9, 35, 480, 284, 5, 150, 4, 172, 112, 167, 2, 336, 385, 39, 4, 172, 4536, 1111, 17, 546, 38, 13, 447, 4, 192, 50, 16, 6, 147, 2025, 19, 14, 22, 4, 1920, 4613, 469, 4, 22, 71, 87, 12, 16, 43, 530, 38, 76, 15, 13, 1247, 4, 22, 17, 515, 17, 12, 16, 626, 18, 2, 5, 62, 386, 12, 8, 316, 8, 106, 5, 4, 2223, 2, 16, 480, 66, 3785, 33, 4, 130, 12, 16, 38, 619, 5, 25, 124, 51, 36, 135, 48, 25, 1415, 33, 6, 22, 12, 215, 28, 77, 52, 5, 14, 407, 16, 82, 2, 8, 4, 107, 117, 2, 15, 256, 4, 2, 7, 3766, 5, 723, 36, 71, 43, 530, 476, 26, 400, 317, 46, 7, 4, 2, 1029, 13, 104, 88, 4, 381, 15, 297, 98, 32, 2071, 56, 26, 141, 6, 194, 2, 18, 4, 226, 22, 21, 134, 476, 26, 480, 5, 144, 30, 2, 18, 51, 36, 28, 224, 92, 25, 104, 4, 226, 65, 16, 38, 1334, 88, 12, 16, 283, 5, 16, 4472, 113, 103, 32, 15, 16, 2, 19, 178, 32]\n"
     ]
    }
   ],
   "source": [
    "print(X_train[0])"
   ]
  },
  {
   "cell_type": "markdown",
   "metadata": {},
   "source": [
    "Next, we need to truncate and pad the input sequences so that they are all the same length for modeling. The model will learn the zero values carry no information so indeed the sequences are not the same length in terms of content, but same length vectors is required to perform the computation in Keras."
   ]
  },
  {
   "cell_type": "code",
   "execution_count": 12,
   "metadata": {},
   "outputs": [],
   "source": [
    "# truncate and pad input sequences\n",
    "max_review_length = 500\n",
    "X_train_pad = sequence.pad_sequences(X_train, maxlen=max_review_length)\n",
    "X_test_pad = sequence.pad_sequences(X_test, maxlen=max_review_length)"
   ]
  },
  {
   "cell_type": "code",
   "execution_count": 13,
   "metadata": {},
   "outputs": [
    {
     "data": {
      "text/plain": [
       "(25000, 500)"
      ]
     },
     "execution_count": 13,
     "metadata": {},
     "output_type": "execute_result"
    }
   ],
   "source": [
    "X_train_pad.shape"
   ]
  },
  {
   "cell_type": "markdown",
   "metadata": {},
   "source": [
    "### Word Embedding\n",
    "\n",
    "We will map each movie review into a real vector domain, a popular technique when working with text called word embedding. This is a technique where words are encoded as real-valued vectors in a high dimensional space, where the similarity between words in terms of meaning translates to closeness in the vector space.\n",
    "\n",
    "Keras provides a convenient way to convert positive integer representations of words into a word embedding by an Embedding layer.\n",
    "\n",
    "We will map each word onto a 32 length real valued vector. We will also limit the total number of words that we are interested in modeling to the 5000 most frequent words, and zero out the rest. Finally, the sequence length (number of words) in each review varies, so we will constrain each review to be 500 words, truncating long reviews and pad the shorter reviews with zero values.\n",
    "\n",
    "Now that we have defined our problem and how the data will be prepared and modeled, we are ready to develop an LSTM model to classify the sentiment of movie reviews."
   ]
  },
  {
   "cell_type": "markdown",
   "metadata": {},
   "source": [
    "# Exercise 09.1\n",
    "\n",
    "Train a Deep Neural Network with the following architecture:\n",
    "\n",
    "- Input = pad_sequences (input_length=max_review_length)\n",
    "- Embedding(top_words, 32, input_length)\n",
    "- LSTM(100)\n",
    "- Dense(1, sigmoid)\n",
    "\n",
    "Optimized using adam using as loss binary_crossentropy\n",
    "\n",
    "Hints: \n",
    "- test with two iterations then try more. \n",
    "- learning can be ajusted\n",
    "\n",
    "Evaluate the performance using the testing set (aprox 87% with 10 epochs)"
   ]
  },
  {
   "cell_type": "code",
   "execution_count": 82,
   "metadata": {
    "scrolled": true
   },
   "outputs": [
    {
     "name": "stdout",
     "output_type": "stream",
     "text": [
      "_________________________________________________________________\n",
      "Layer (type)                 Output Shape              Param #   \n",
      "=================================================================\n",
      "embedding_4 (Embedding)      (None, 500, 32)           160000    \n",
      "_________________________________________________________________\n",
      "lstm_2 (LSTM)                (None, 100)               53200     \n",
      "_________________________________________________________________\n",
      "dropout_2 (Dropout)          (None, 100)               0         \n",
      "_________________________________________________________________\n",
      "dense_2 (Dense)              (None, 1)                 101       \n",
      "=================================================================\n",
      "Total params: 213,301\n",
      "Trainable params: 213,301\n",
      "Non-trainable params: 0\n",
      "_________________________________________________________________\n"
     ]
    }
   ],
   "source": [
    "model = Sequential()\n",
    "model.add(Embedding(top_words,32, input_length=max_review_length))\n",
    "model.add(LSTM(100))\n",
    "model.add(Dropout(0.5))          \n",
    "model.add(Dense(1, activation='sigmoid'))\n",
    "model.compile(loss='binary_crossentropy', optimizer='adam', metrics=['accuracy'])\n",
    "model.summary()        "
   ]
  },
  {
   "cell_type": "code",
   "execution_count": 83,
   "metadata": {
    "scrolled": true
   },
   "outputs": [
    {
     "data": {
      "image/png": "[encoded data removed]",
      "text/plain": [
       "<Figure size 864x576 with 2 Axes>"
      ]
     },
     "metadata": {},
     "output_type": "display_data"
    },
    {
     "data": {
      "text/plain": [
       "<keras.callbacks.History at 0x199aaefdc50>"
      ]
     },
     "execution_count": 83,
     "metadata": {},
     "output_type": "execute_result"
    }
   ],
   "source": [
    "model.fit(X_train_pad, y_train, validation_data=[X_test_pad, y_test], \n",
    "          batch_size=128, epochs=10, verbose=1,\n",
    "          callbacks=[PlotLossesKeras()])"
   ]
  },
  {
   "cell_type": "code",
   "execution_count": 84,
   "metadata": {},
   "outputs": [
    {
     "name": "stdout",
     "output_type": "stream",
     "text": [
      "0.8658\n"
     ]
    }
   ],
   "source": [
    "y_pred = model.predict_classes(X_test_pad)[:,0]\n",
    "\n",
    "print((y_pred == y_test).mean())"
   ]
  },
  {
   "cell_type": "markdown",
   "metadata": {},
   "source": [
    "# Exercise 09.2\n",
    "\n",
    "Predict the sentiment of the following reviews"
   ]
  },
  {
   "cell_type": "code",
   "execution_count": 85,
   "metadata": {},
   "outputs": [],
   "source": [
    "reviews = [\"I was fortunate enough to see this movie on pre-release last night and, though I wasn't expecting to, actually really enjoyed the movie for the most part. The rescues and sea effects were amazing to watch and definitely provided edge of the seat tense moments, probably all the more so knowing that there are guys who do this for a living. The weaker parts of the movie revolve largely around using stereotypical set scenes. I'm not going to spoil the movie but this really follows along the lines of An Officer and a Gentleman and those moments give it a little bit of a cheesy aftertaste.<br /><br />Like I said over all this movie is pretty good and worth checking out as long as you can get past the clichés.\",\n",
    "           '\"The Dresser\" is perhaps the most refined of backstage films. The film is brimming with wit and spirit, for the most part provided by the \"energetic\" character of Norman (Tom Courtenay). Although his character is clearly gay, and certainly has an attraction for the lead performer (Albert Finney) that he assists, the film never dwells on it or makes it more than it is.<br /><br />The gritty style of Peter Yates that worked so well in \"Bullitt\" is again on display, and gives the film a sense of realism and coherence. This is much appreciated in a story that could so easily have become tedious. In the end, \"The Dresser\" will bore many people silly, but it will truly be a delight to those who love British cinema.<br /><br />7.7 out of 10',\n",
    "           \"So real and surreal, all in one. I remember feeling like Tessa. Heck, I remember being Tessa. This was a beautiful vignette of a relationship ending. I especially liked the protesters tangent. It is nice to see symbolism in a movie without being smacked over the head with it. If you get the chance to see this, take it. It is well worth the 30 minutes.\",\n",
    "           \"This is a pale imitation of 'Officer and a Gentleman.' There is NO chemistry between Kutcher and the unknown woman who plays his love interest. The dialog is wooden, the situations hackneyed. It's too long and the climax is anti-climactic(!). I love the USCG, its men and women are fearless and tough. The action scenes are awesome, but this movie doesn't do much for recruiting, I fear. The script is formulaic, but confusing. Kutcher's character is trying to redeem himself for an accident that wasn't his fault? Costner's is raging against the dying of the light, but why? His 'conflict' with his wife is about as deep as a mud puddle. I saw this sneak preview for free and certainly felt I got my money's worth.\",\n",
    "           \"I was at Wrestlemania VI in Toronto as a 10 year old, and the event I saw then was pretty different from what I saw on the Wrestlemania Collection DVD I just watched. I don't understand how the wwE doesn't have the rights to some of the old music, since most of those songs were created by the WWF they shouldn't have to worry about the licensing and royalty fees that prevent shows like SNL from releasing season sets. Its pretty stupid to whine about, but for me hearing Demolition come out to their theme music at a Wrestlemania in person was a memory that I never forgot, and it didn't exist on this DVD. What is the point of them even owning the rights to this huge library of video if they have to edit it so drastically to use it?\",\n",
    "           \"Wow! What a movie if you want to blow your budget on the title and have it look real bad ask the guys that made this movie on how to do that. They could have spent the money on a good rewrite or something else. Or they could have spent it on beer when they made this movie at least it would have come out better.\"\n",
    "          ]"
   ]
  },
  {
   "cell_type": "markdown",
   "metadata": {},
   "source": [
    "Reviews must be preprocessed"
   ]
  },
  {
   "cell_type": "code",
   "execution_count": 86,
   "metadata": {},
   "outputs": [],
   "source": [
    "from keras.datasets.imdb import get_word_index\n",
    "\n",
    "vocab = get_word_index()\n",
    "\n",
    "vocab = {k:(v+index_from) for k,v in vocab.items()}\n",
    "vocab[\"<PAD>\"] = 0\n",
    "vocab[\"<START>\"] = 1\n",
    "vocab[\"<UNK>\"] = 2\n"
   ]
  },
  {
   "cell_type": "code",
   "execution_count": 87,
   "metadata": {
    "scrolled": true
   },
   "outputs": [
    {
     "data": {
      "text/plain": [
       "{'fawn': 34704,\n",
       " 'tsukino': 52009,\n",
       " 'nunnery': 52010,\n",
       " 'sonja': 16819,\n",
       " 'vani': 63954,\n",
       " 'woods': 1411,\n",
       " 'spiders': 16118,\n",
       " 'hanging': 2348,\n",
       " 'woody': 2292,\n",
       " 'trawling': 52011}"
      ]
     },
     "execution_count": 87,
     "metadata": {},
     "output_type": "execute_result"
    }
   ],
   "source": [
    "{k:vocab[k] for k in list(vocab.keys())[:10]}"
   ]
  },
  {
   "cell_type": "markdown",
   "metadata": {},
   "source": [
    " Lets see how X_train is encoded"
   ]
  },
  {
   "cell_type": "code",
   "execution_count": 88,
   "metadata": {},
   "outputs": [
    {
     "data": {
      "text/plain": [
       "array([   0,    0,    0,    0,    0,    0,    0,    0,    0,    0,    0,\n",
       "          0,    0,    0,    0,    0,    0,    0,    0,    0,    0,    0,\n",
       "          0,    0,    0,    0,    0,    0,    0,    0,    0,    0,    0,\n",
       "          0,    0,    0,    0,    0,    0,    0,    0,    0,    0,    0,\n",
       "          0,    0,    0,    0,    0,    0,    0,    0,    0,    0,    0,\n",
       "          0,    0,    0,    0,    0,    0,    0,    0,    0,    0,    0,\n",
       "          0,    0,    0,    0,    0,    0,    0,    0,    0,    0,    0,\n",
       "          0,    0,    0,    0,    0,    0,    0,    0,    0,    0,    0,\n",
       "          0,    0,    0,    0,    0,    0,    0,    0,    0,    0,    0,\n",
       "          0,    0,    0,    0,    0,    0,    0,    0,    0,    0,    0,\n",
       "          0,    0,    0,    0,    0,    0,    0,    0,    0,    0,    0,\n",
       "          0,    0,    0,    0,    0,    0,    0,    0,    0,    0,    0,\n",
       "          0,    0,    0,    0,    0,    0,    0,    0,    0,    0,    0,\n",
       "          0,    0,    0,    0,    0,    0,    0,    0,    0,    0,    0,\n",
       "          0,    0,    0,    0,    0,    0,    0,    0,    0,    0,    0,\n",
       "          0,    0,    0,    0,    0,    0,    0,    0,    0,    0,    0,\n",
       "          0,    0,    0,    0,    0,    0,    0,    0,    0,    0,    0,\n",
       "          0,    0,    0,    0,    0,    0,    0,    0,    0,    0,    0,\n",
       "          0,    0,    0,    0,    0,    0,    0,    0,    0,    0,    0,\n",
       "          0,    0,    0,    0,    0,    0,    0,    0,    0,    0,    0,\n",
       "          0,    0,    0,    0,    0,    0,    0,    0,    0,    0,    0,\n",
       "          0,    0,    0,    0,    0,    0,    0,    0,    0,    0,    0,\n",
       "          0,    0,    0,    0,    0,    0,    0,    0,    0,    0,    0,\n",
       "          0,    0,    0,    0,    0,    0,    0,    0,    0,    0,    0,\n",
       "          0,    0,    0,    0,    0,    0,    0,    0,    0,    0,    0,\n",
       "          0,    0,    0,    0,    0,    0,    0,    1,   14,   22,   16,\n",
       "         43,  530,  973, 1622, 1385,   65,  458, 4468,   66, 3941,    4,\n",
       "        173,   36,  256,    5,   25,  100,   43,  838,  112,   50,  670,\n",
       "          2,    9,   35,  480,  284,    5,  150,    4,  172,  112,  167,\n",
       "          2,  336,  385,   39,    4,  172, 4536, 1111,   17,  546,   38,\n",
       "         13,  447,    4,  192,   50,   16,    6,  147, 2025,   19,   14,\n",
       "         22,    4, 1920, 4613,  469,    4,   22,   71,   87,   12,   16,\n",
       "         43,  530,   38,   76,   15,   13, 1247,    4,   22,   17,  515,\n",
       "         17,   12,   16,  626,   18,    2,    5,   62,  386,   12,    8,\n",
       "        316,    8,  106,    5,    4, 2223,    2,   16,  480,   66, 3785,\n",
       "         33,    4,  130,   12,   16,   38,  619,    5,   25,  124,   51,\n",
       "         36,  135,   48,   25, 1415,   33,    6,   22,   12,  215,   28,\n",
       "         77,   52,    5,   14,  407,   16,   82,    2,    8,    4,  107,\n",
       "        117,    2,   15,  256,    4,    2,    7, 3766,    5,  723,   36,\n",
       "         71,   43,  530,  476,   26,  400,  317,   46,    7,    4,    2,\n",
       "       1029,   13,  104,   88,    4,  381,   15,  297,   98,   32, 2071,\n",
       "         56,   26,  141,    6,  194,    2,   18,    4,  226,   22,   21,\n",
       "        134,  476,   26,  480,    5,  144,   30,    2,   18,   51,   36,\n",
       "         28,  224,   92,   25,  104,    4,  226,   65,   16,   38, 1334,\n",
       "         88,   12,   16,  283,    5,   16, 4472,  113,  103,   32,   15,\n",
       "         16,    2,   19,  178,   32])"
      ]
     },
     "execution_count": 88,
     "metadata": {},
     "output_type": "execute_result"
    }
   ],
   "source": [
    "X_train_pad[0]"
   ]
  },
  {
   "cell_type": "code",
   "execution_count": 89,
   "metadata": {},
   "outputs": [
    {
     "name": "stdout",
     "output_type": "stream",
     "text": [
      "[1, 14, 22, 16, 43, 530, 973, 1622, 1385, 65, 458, 4468, 66, 3941, 4, 173, 36, 256, 5, 25, 100, 43, 838, 112, 50, 670, 2, 9, 35, 480, 284, 5, 150, 4, 172, 112, 167, 2, 336, 385, 39, 4, 172, 4536, 1111, 17, 546, 38, 13, 447, 4, 192, 50, 16, 6, 147, 2025, 19, 14, 22, 4, 1920, 4613, 469, 4, 22, 71, 87, 12, 16, 43, 530, 38, 76, 15, 13, 1247, 4, 22, 17, 515, 17, 12, 16, 626, 18, 2, 5, 62, 386, 12, 8, 316, 8, 106, 5, 4, 2223, 2, 16, 480, 66, 3785, 33, 4, 130, 12, 16, 38, 619, 5, 25, 124, 51, 36, 135, 48, 25, 1415, 33, 6, 22, 12, 215, 28, 77, 52, 5, 14, 407, 16, 82, 2, 8, 4, 107, 117, 2, 15, 256, 4, 2, 7, 3766, 5, 723, 36, 71, 43, 530, 476, 26, 400, 317, 46, 7, 4, 2, 1029, 13, 104, 88, 4, 381, 15, 297, 98, 32, 2071, 56, 26, 141, 6, 194, 2, 18, 4, 226, 22, 21, 134, 476, 26, 480, 5, 144, 30, 2, 18, 51, 36, 28, 224, 92, 25, 104, 4, 226, 65, 16, 38, 1334, 88, 12, 16, 283, 5, 16, 4472, 113, 103, 32, 15, 16, 2, 19, 178, 32]\n"
     ]
    }
   ],
   "source": [
    "print(X_train[0])"
   ]
  },
  {
   "cell_type": "markdown",
   "metadata": {},
   "source": [
    "Lets get the text"
   ]
  },
  {
   "cell_type": "code",
   "execution_count": 90,
   "metadata": {
    "scrolled": true
   },
   "outputs": [
    {
     "name": "stdout",
     "output_type": "stream",
     "text": [
      "<START> this film was just brilliant casting location scenery story direction everyone's really suited the part they played and you could just imagine being there robert <UNK> is an amazing actor and now the same being director <UNK> father came from the same scottish island as myself so i loved the fact there was a real connection with this film the witty remarks throughout the film were great it was just brilliant so much that i bought the film as soon as it was released for <UNK> and would recommend it to everyone to watch and the fly <UNK> was amazing really cried at the end it was so sad and you know what they say if you cry at a film it must have been good and this definitely was also <UNK> to the two little <UNK> that played the <UNK> of norman and paul they were just brilliant children are often left out of the <UNK> list i think because the stars that play them all grown up are such a big <UNK> for the whole film but these children are amazing and should be <UNK> for what they have done don't you think the whole story was so lovely because it was true and was someone's life after all that was <UNK> with us all\n"
     ]
    }
   ],
   "source": [
    "id_to_word = {value:key for key,value in vocab.items()}\n",
    "print(' '.join(id_to_word[id] for id in X_train[0] ))"
   ]
  },
  {
   "cell_type": "markdown",
   "metadata": {},
   "source": [
    "Compared with the original review in lowercase:\n",
    "\n",
    "\"this film was just brilliant casting location scenery story direction everyone's really suited the part they played and you could just imagine being there robert redford's is an amazing actor and now the same being director norman's father came from the same scottish island as myself so i loved the fact there was a real connection with this film the witty remarks throughout the film were great it was just brilliant so much that i bought the film as soon as it was released for retail and would recommend it to everyone to watch and the fly fishing was amazing really cried at the end it was so sad and you know what they say if you cry at a film it must have been good and this definitely was also congratulations to the two little boy's that played the part's of norman and paul they were just brilliant children are often left out of the praising list i think because the stars that play them all grown up are such a big profile for the whole film but these children are amazing and should be praised for what they have done don't you think the whole story was so lovely because it was true and was someone's life after all that was shared with us all\""
   ]
  },
  {
   "cell_type": "code",
   "execution_count": 120,
   "metadata": {},
   "outputs": [],
   "source": [
    "# Convert characters to int and pad\n",
    "X_rev = [[vocab[x1] for x1 in x if x1 in vocab.keys()] for x in reviews]"
   ]
  },
  {
   "cell_type": "code",
   "execution_count": 121,
   "metadata": {},
   "outputs": [
    {
     "data": {
      "text/plain": [
       "[1992,\n",
       " 6,\n",
       " 590,\n",
       " 6,\n",
       " 830,\n",
       " 1479,\n",
       " 963,\n",
       " 590,\n",
       " 830,\n",
       " 2014,\n",
       " 963,\n",
       " 1983,\n",
       " 6,\n",
       " 3363,\n",
       " 13,\n",
       " 6,\n",
       " 13,\n",
       " 3363,\n",
       " 1604,\n",
       " 1479,\n",
       " 1604,\n",
       " 3363,\n",
       " 830,\n",
       " 1604,\n",
       " 6,\n",
       " 590,\n",
       " 6,\n",
       " 300,\n",
       " 2241,\n",
       " 5135,\n",
       " 963,\n",
       " 6,\n",
       " 1479,\n",
       " 1604,\n",
       " 2014,\n",
       " 1095,\n",
       " 6,\n",
       " 3363,\n",
       " 1095,\n",
       " 830,\n",
       " 2023,\n",
       " 963,\n",
       " 963,\n",
       " 1964,\n",
       " 963,\n",
       " 3363,\n",
       " 830,\n",
       " 590,\n",
       " 6,\n",
       " 1992,\n",
       " 830,\n",
       " 2023,\n",
       " 963,\n",
       " 3363,\n",
       " 1992,\n",
       " 6,\n",
       " 590,\n",
       " 1657,\n",
       " 1479,\n",
       " 963,\n",
       " 830,\n",
       " 830,\n",
       " 5135,\n",
       " 1095,\n",
       " 13,\n",
       " 1209,\n",
       " 1209,\n",
       " 963,\n",
       " 1479,\n",
       " 963,\n",
       " 3363,\n",
       " 830,\n",
       " 1209,\n",
       " 1479,\n",
       " 1604,\n",
       " 1983,\n",
       " 1992,\n",
       " 2023,\n",
       " 6,\n",
       " 830,\n",
       " 590,\n",
       " 6,\n",
       " 1992,\n",
       " 1604,\n",
       " 3363,\n",
       " 830,\n",
       " 2023,\n",
       " 963,\n",
       " 1479,\n",
       " 963,\n",
       " 590,\n",
       " 830,\n",
       " 2014,\n",
       " 963,\n",
       " 1983,\n",
       " 6,\n",
       " 3363,\n",
       " 13,\n",
       " 6,\n",
       " 1604,\n",
       " 2014,\n",
       " 2014,\n",
       " 963,\n",
       " 1148,\n",
       " 830,\n",
       " 13,\n",
       " 1604,\n",
       " 3363,\n",
       " 1468,\n",
       " 1206,\n",
       " 590,\n",
       " 830,\n",
       " 1992,\n",
       " 6,\n",
       " 830,\n",
       " 1148,\n",
       " 2023,\n",
       " 963,\n",
       " 1095,\n",
       " 1095,\n",
       " 1604,\n",
       " 3363,\n",
       " 758,\n",
       " 830,\n",
       " 1206,\n",
       " 3363,\n",
       " 1095,\n",
       " 963,\n",
       " 1479,\n",
       " 590,\n",
       " 830,\n",
       " 6,\n",
       " 3363,\n",
       " 1095,\n",
       " 2023,\n",
       " 1604,\n",
       " 1992,\n",
       " 830,\n",
       " 2023,\n",
       " 963,\n",
       " 1992,\n",
       " 1992,\n",
       " 1095,\n",
       " 1604,\n",
       " 963,\n",
       " 590,\n",
       " 3363,\n",
       " 758,\n",
       " 830,\n",
       " 2023,\n",
       " 6,\n",
       " 1964,\n",
       " 963,\n",
       " 830,\n",
       " 2023,\n",
       " 963,\n",
       " 1479,\n",
       " 13,\n",
       " 1331,\n",
       " 2023,\n",
       " 830,\n",
       " 590,\n",
       " 830,\n",
       " 1604,\n",
       " 590,\n",
       " 1604,\n",
       " 1983,\n",
       " 963,\n",
       " 1604,\n",
       " 1209,\n",
       " 830,\n",
       " 2023,\n",
       " 963,\n",
       " 1604,\n",
       " 2014,\n",
       " 1095,\n",
       " 1983,\n",
       " 1206,\n",
       " 590,\n",
       " 13,\n",
       " 1148,\n",
       " 590,\n",
       " 13,\n",
       " 3363,\n",
       " 1148,\n",
       " 963,\n",
       " 1983,\n",
       " 1604,\n",
       " 590,\n",
       " 830,\n",
       " 1604,\n",
       " 1209,\n",
       " 830,\n",
       " 2023,\n",
       " 1604,\n",
       " 590,\n",
       " 963,\n",
       " 590,\n",
       " 1604,\n",
       " 3363,\n",
       " 1331,\n",
       " 590,\n",
       " 1992,\n",
       " 963,\n",
       " 1479,\n",
       " 963,\n",
       " 1148,\n",
       " 1479,\n",
       " 963,\n",
       " 6,\n",
       " 830,\n",
       " 963,\n",
       " 1095,\n",
       " 503,\n",
       " 5135,\n",
       " 830,\n",
       " 2023,\n",
       " 963,\n",
       " 830,\n",
       " 2023,\n",
       " 963,\n",
       " 5135,\n",
       " 590,\n",
       " 2023,\n",
       " 1604,\n",
       " 1206,\n",
       " 2014,\n",
       " 1095,\n",
       " 3363,\n",
       " 758,\n",
       " 830,\n",
       " 2023,\n",
       " 6,\n",
       " 1964,\n",
       " 963,\n",
       " 830,\n",
       " 1604,\n",
       " 1992,\n",
       " 1604,\n",
       " 1479,\n",
       " 1479,\n",
       " 5135,\n",
       " 6,\n",
       " 503,\n",
       " 1604,\n",
       " 1206,\n",
       " 830,\n",
       " 830,\n",
       " 2023,\n",
       " 963,\n",
       " 2014,\n",
       " 13,\n",
       " 1148,\n",
       " 963,\n",
       " 3363,\n",
       " 590,\n",
       " 13,\n",
       " 3363,\n",
       " 1331,\n",
       " 6,\n",
       " 3363,\n",
       " 1095,\n",
       " 1479,\n",
       " 1604,\n",
       " 5135,\n",
       " 6,\n",
       " 2014,\n",
       " 830,\n",
       " 5135,\n",
       " 1209,\n",
       " 963,\n",
       " 963,\n",
       " 590,\n",
       " 830,\n",
       " 2023,\n",
       " 6,\n",
       " 830,\n",
       " 1657,\n",
       " 1479,\n",
       " 963,\n",
       " 1964,\n",
       " 963,\n",
       " 3363,\n",
       " 830,\n",
       " 590,\n",
       " 2023,\n",
       " 1604,\n",
       " 1992,\n",
       " 590,\n",
       " 2014,\n",
       " 13,\n",
       " 2295,\n",
       " 963,\n",
       " 1209,\n",
       " 1479,\n",
       " 1604,\n",
       " 1983,\n",
       " 1479,\n",
       " 963,\n",
       " 2014,\n",
       " 963,\n",
       " 6,\n",
       " 590,\n",
       " 13,\n",
       " 3363,\n",
       " 1331,\n",
       " 590,\n",
       " 963,\n",
       " 6,\n",
       " 590,\n",
       " 1604,\n",
       " 3363,\n",
       " 590,\n",
       " 963,\n",
       " 830,\n",
       " 590,\n",
       " 830,\n",
       " 590,\n",
       " 1657,\n",
       " 1479,\n",
       " 963,\n",
       " 830,\n",
       " 830,\n",
       " 5135,\n",
       " 590,\n",
       " 830,\n",
       " 1206,\n",
       " 1657,\n",
       " 13,\n",
       " 1095,\n",
       " 830,\n",
       " 1604,\n",
       " 1992,\n",
       " 2023,\n",
       " 13,\n",
       " 3363,\n",
       " 963,\n",
       " 6,\n",
       " 503,\n",
       " 1604,\n",
       " 1206,\n",
       " 830,\n",
       " 503,\n",
       " 1206,\n",
       " 830,\n",
       " 1209,\n",
       " 1604,\n",
       " 1479,\n",
       " 1983,\n",
       " 963,\n",
       " 2023,\n",
       " 963,\n",
       " 6,\n",
       " 1479,\n",
       " 13,\n",
       " 3363,\n",
       " 1331,\n",
       " 963,\n",
       " 1983,\n",
       " 1604,\n",
       " 2014,\n",
       " 13,\n",
       " 830,\n",
       " 13,\n",
       " 1604,\n",
       " 3363,\n",
       " 1148,\n",
       " 1604,\n",
       " 1983,\n",
       " 963,\n",
       " 1604,\n",
       " 1206,\n",
       " 830,\n",
       " 830,\n",
       " 1604,\n",
       " 830,\n",
       " 2023,\n",
       " 963,\n",
       " 13,\n",
       " 1479,\n",
       " 830,\n",
       " 2023,\n",
       " 963,\n",
       " 1983,\n",
       " 963,\n",
       " 1983,\n",
       " 1206,\n",
       " 590,\n",
       " 13,\n",
       " 1148,\n",
       " 6,\n",
       " 830,\n",
       " 6,\n",
       " 1479,\n",
       " 963,\n",
       " 590,\n",
       " 830,\n",
       " 2014,\n",
       " 963,\n",
       " 1983,\n",
       " 6,\n",
       " 3363,\n",
       " 13,\n",
       " 6,\n",
       " 13,\n",
       " 3363,\n",
       " 1657,\n",
       " 963,\n",
       " 1479,\n",
       " 590,\n",
       " 1604,\n",
       " 3363,\n",
       " 1992,\n",
       " 6,\n",
       " 590,\n",
       " 6,\n",
       " 1983,\n",
       " 963,\n",
       " 1983,\n",
       " 1604,\n",
       " 1479,\n",
       " 5135,\n",
       " 830,\n",
       " 2023,\n",
       " 6,\n",
       " 830,\n",
       " 3363,\n",
       " 963,\n",
       " 1964,\n",
       " 963,\n",
       " 1479,\n",
       " 1209,\n",
       " 1604,\n",
       " 1479,\n",
       " 1331,\n",
       " 1604,\n",
       " 830,\n",
       " 6,\n",
       " 3363,\n",
       " 1095,\n",
       " 13,\n",
       " 830,\n",
       " 1095,\n",
       " 13,\n",
       " 1095,\n",
       " 3363,\n",
       " 758,\n",
       " 830,\n",
       " 963,\n",
       " 1745,\n",
       " 13,\n",
       " 590,\n",
       " 830,\n",
       " 1604,\n",
       " 3363,\n",
       " 830,\n",
       " 2023,\n",
       " 13,\n",
       " 590,\n",
       " 2023,\n",
       " 6,\n",
       " 830,\n",
       " 13,\n",
       " 590,\n",
       " 830,\n",
       " 2023,\n",
       " 963,\n",
       " 1657,\n",
       " 1604,\n",
       " 13,\n",
       " 3363,\n",
       " 830,\n",
       " 1604,\n",
       " 1209,\n",
       " 830,\n",
       " 2023,\n",
       " 963,\n",
       " 1983,\n",
       " 963,\n",
       " 1964,\n",
       " 963,\n",
       " 3363,\n",
       " 1604,\n",
       " 1992,\n",
       " 3363,\n",
       " 13,\n",
       " 3363,\n",
       " 1331,\n",
       " 830,\n",
       " 2023,\n",
       " 963,\n",
       " 1479,\n",
       " 13,\n",
       " 1331,\n",
       " 2023,\n",
       " 830,\n",
       " 590,\n",
       " 830,\n",
       " 1604,\n",
       " 830,\n",
       " 2023,\n",
       " 13,\n",
       " 590,\n",
       " 2023,\n",
       " 1206,\n",
       " 1331,\n",
       " 963,\n",
       " 2014,\n",
       " 13,\n",
       " 503,\n",
       " 1479,\n",
       " 6,\n",
       " 1479,\n",
       " 5135,\n",
       " 1604,\n",
       " 1209,\n",
       " 1964,\n",
       " 13,\n",
       " 1095,\n",
       " 963,\n",
       " 1604,\n",
       " 13,\n",
       " 1209,\n",
       " 830,\n",
       " 2023,\n",
       " 963,\n",
       " 5135,\n",
       " 2023,\n",
       " 6,\n",
       " 1964,\n",
       " 963,\n",
       " 830,\n",
       " 1604,\n",
       " 963,\n",
       " 1095,\n",
       " 13,\n",
       " 830,\n",
       " 13,\n",
       " 830,\n",
       " 590,\n",
       " 1604,\n",
       " 1095,\n",
       " 1479,\n",
       " 6,\n",
       " 590,\n",
       " 830,\n",
       " 13,\n",
       " 1148,\n",
       " 6,\n",
       " 2014,\n",
       " 2014,\n",
       " 5135,\n",
       " 830,\n",
       " 1604,\n",
       " 1206,\n",
       " 590,\n",
       " 963,\n",
       " 13,\n",
       " 830]"
      ]
     },
     "execution_count": 121,
     "metadata": {},
     "output_type": "execute_result"
    }
   ],
   "source": [
    "X_rev[4]"
   ]
  },
  {
   "cell_type": "code",
   "execution_count": 125,
   "metadata": {},
   "outputs": [],
   "source": [
    "X_rev_pad = sequence.pad_sequences(X_rev, maxlen=500)"
   ]
  },
  {
   "cell_type": "code",
   "execution_count": 126,
   "metadata": {},
   "outputs": [],
   "source": [
    "X_rev_pad[X_rev_pad>5000]=2"
   ]
  },
  {
   "cell_type": "code",
   "execution_count": 129,
   "metadata": {},
   "outputs": [
    {
     "data": {
      "text/plain": [
       "array([[0],\n",
       "       [0],\n",
       "       [0],\n",
       "       [0],\n",
       "       [0],\n",
       "       [0]])"
      ]
     },
     "execution_count": 129,
     "metadata": {},
     "output_type": "execute_result"
    }
   ],
   "source": [
    "y_pred = model.predict_classes(X_rev_pad)\n",
    "y_pred"
   ]
  },
  {
   "cell_type": "markdown",
   "metadata": {},
   "source": [
    "Al observar las seis predicciones de las reseñas todas se clasifican con un sentimientos negativo."
   ]
  },
  {
   "cell_type": "code",
   "execution_count": null,
   "metadata": {},
   "outputs": [],
   "source": []
  }
 ],
 "metadata": {
  "kernelspec": {
   "display_name": "Python 3",
   "language": "python",
   "name": "python3"
  },
  "language_info": {
   "codemirror_mode": {
    "name": "ipython",
    "version": 3
   },
   "file_extension": ".py",
   "mimetype": "text/x-python",
   "name": "python",
   "nbconvert_exporter": "python",
   "pygments_lexer": "ipython3",
   "version": "3.6.5"
  }
 },
 "nbformat": 4,
 "nbformat_minor": 2
}
